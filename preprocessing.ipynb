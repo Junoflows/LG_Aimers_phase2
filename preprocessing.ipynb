{
 "cells": [
  {
   "cell_type": "code",
   "execution_count": 98,
   "metadata": {},
   "outputs": [],
   "source": [
    "import pandas as pd\n",
    "import numpy as np"
   ]
  },
  {
   "cell_type": "code",
   "execution_count": 101,
   "metadata": {},
   "outputs": [
    {
     "data": {
      "text/html": [
       "<div>\n",
       "<style scoped>\n",
       "    .dataframe tbody tr th:only-of-type {\n",
       "        vertical-align: middle;\n",
       "    }\n",
       "\n",
       "    .dataframe tbody tr th {\n",
       "        vertical-align: top;\n",
       "    }\n",
       "\n",
       "    .dataframe thead th {\n",
       "        text-align: right;\n",
       "    }\n",
       "</style>\n",
       "<table border=\"1\" class=\"dataframe\">\n",
       "  <thead>\n",
       "    <tr style=\"text-align: right;\">\n",
       "      <th></th>\n",
       "      <th>bant_submit</th>\n",
       "      <th>customer_country</th>\n",
       "      <th>business_unit</th>\n",
       "      <th>com_reg_ver_win_rate</th>\n",
       "      <th>customer_idx</th>\n",
       "      <th>customer_type</th>\n",
       "      <th>enterprise</th>\n",
       "      <th>historical_existing_cnt</th>\n",
       "      <th>id_strategic_ver</th>\n",
       "      <th>it_strategic_ver</th>\n",
       "      <th>...</th>\n",
       "      <th>response_corporate</th>\n",
       "      <th>expected_timeline</th>\n",
       "      <th>ver_cus</th>\n",
       "      <th>ver_pro</th>\n",
       "      <th>ver_win_rate_x</th>\n",
       "      <th>ver_win_ratio_per_bu</th>\n",
       "      <th>business_area</th>\n",
       "      <th>business_subarea</th>\n",
       "      <th>lead_owner</th>\n",
       "      <th>is_converted</th>\n",
       "    </tr>\n",
       "  </thead>\n",
       "  <tbody>\n",
       "    <tr>\n",
       "      <th>0</th>\n",
       "      <td>1.0</td>\n",
       "      <td>/Quezon City/Philippines</td>\n",
       "      <td>AS</td>\n",
       "      <td>0.066667</td>\n",
       "      <td>32160</td>\n",
       "      <td>End-Customer</td>\n",
       "      <td>Enterprise</td>\n",
       "      <td>NaN</td>\n",
       "      <td>NaN</td>\n",
       "      <td>NaN</td>\n",
       "      <td>...</td>\n",
       "      <td>LGEPH</td>\n",
       "      <td>less than 3 months</td>\n",
       "      <td>1</td>\n",
       "      <td>0</td>\n",
       "      <td>0.003079</td>\n",
       "      <td>0.026846</td>\n",
       "      <td>corporate / office</td>\n",
       "      <td>Engineering</td>\n",
       "      <td>0</td>\n",
       "      <td>True</td>\n",
       "    </tr>\n",
       "    <tr>\n",
       "      <th>1</th>\n",
       "      <td>1.0</td>\n",
       "      <td>/PH-00/Philippines</td>\n",
       "      <td>AS</td>\n",
       "      <td>0.066667</td>\n",
       "      <td>23122</td>\n",
       "      <td>End-Customer</td>\n",
       "      <td>Enterprise</td>\n",
       "      <td>12.0</td>\n",
       "      <td>NaN</td>\n",
       "      <td>NaN</td>\n",
       "      <td>...</td>\n",
       "      <td>LGEPH</td>\n",
       "      <td>less than 3 months</td>\n",
       "      <td>1</td>\n",
       "      <td>0</td>\n",
       "      <td>0.003079</td>\n",
       "      <td>0.026846</td>\n",
       "      <td>corporate / office</td>\n",
       "      <td>Advertising</td>\n",
       "      <td>1</td>\n",
       "      <td>True</td>\n",
       "    </tr>\n",
       "    <tr>\n",
       "      <th>2</th>\n",
       "      <td>1.0</td>\n",
       "      <td>/Kolkata /India</td>\n",
       "      <td>AS</td>\n",
       "      <td>0.088889</td>\n",
       "      <td>1755</td>\n",
       "      <td>End-Customer</td>\n",
       "      <td>Enterprise</td>\n",
       "      <td>144.0</td>\n",
       "      <td>NaN</td>\n",
       "      <td>NaN</td>\n",
       "      <td>...</td>\n",
       "      <td>LGEIL</td>\n",
       "      <td>less than 3 months</td>\n",
       "      <td>1</td>\n",
       "      <td>0</td>\n",
       "      <td>0.003079</td>\n",
       "      <td>0.026846</td>\n",
       "      <td>corporate / office</td>\n",
       "      <td>Construction</td>\n",
       "      <td>2</td>\n",
       "      <td>True</td>\n",
       "    </tr>\n",
       "    <tr>\n",
       "      <th>3</th>\n",
       "      <td>1.0</td>\n",
       "      <td>/Bhubaneswar/India</td>\n",
       "      <td>AS</td>\n",
       "      <td>0.088889</td>\n",
       "      <td>4919</td>\n",
       "      <td>End-Customer</td>\n",
       "      <td>Enterprise</td>\n",
       "      <td>NaN</td>\n",
       "      <td>NaN</td>\n",
       "      <td>NaN</td>\n",
       "      <td>...</td>\n",
       "      <td>LGEIL</td>\n",
       "      <td>less than 3 months</td>\n",
       "      <td>1</td>\n",
       "      <td>0</td>\n",
       "      <td>0.003079</td>\n",
       "      <td>0.026846</td>\n",
       "      <td>corporate / office</td>\n",
       "      <td>IT/Software</td>\n",
       "      <td>3</td>\n",
       "      <td>True</td>\n",
       "    </tr>\n",
       "    <tr>\n",
       "      <th>4</th>\n",
       "      <td>1.0</td>\n",
       "      <td>/Hyderabad/India</td>\n",
       "      <td>AS</td>\n",
       "      <td>0.088889</td>\n",
       "      <td>17126</td>\n",
       "      <td>Specifier/ Influencer</td>\n",
       "      <td>Enterprise</td>\n",
       "      <td>NaN</td>\n",
       "      <td>NaN</td>\n",
       "      <td>NaN</td>\n",
       "      <td>...</td>\n",
       "      <td>LGEIL</td>\n",
       "      <td>less than 3 months</td>\n",
       "      <td>0</td>\n",
       "      <td>0</td>\n",
       "      <td>0.003079</td>\n",
       "      <td>0.026846</td>\n",
       "      <td>corporate / office</td>\n",
       "      <td>NaN</td>\n",
       "      <td>4</td>\n",
       "      <td>True</td>\n",
       "    </tr>\n",
       "  </tbody>\n",
       "</table>\n",
       "<p>5 rows × 29 columns</p>\n",
       "</div>"
      ],
      "text/plain": [
       "   bant_submit          customer_country business_unit  com_reg_ver_win_rate  \\\n",
       "0          1.0  /Quezon City/Philippines            AS              0.066667   \n",
       "1          1.0        /PH-00/Philippines            AS              0.066667   \n",
       "2          1.0           /Kolkata /India            AS              0.088889   \n",
       "3          1.0        /Bhubaneswar/India            AS              0.088889   \n",
       "4          1.0          /Hyderabad/India            AS              0.088889   \n",
       "\n",
       "   customer_idx          customer_type  enterprise  historical_existing_cnt  \\\n",
       "0         32160           End-Customer  Enterprise                      NaN   \n",
       "1         23122           End-Customer  Enterprise                     12.0   \n",
       "2          1755           End-Customer  Enterprise                    144.0   \n",
       "3          4919           End-Customer  Enterprise                      NaN   \n",
       "4         17126  Specifier/ Influencer  Enterprise                      NaN   \n",
       "\n",
       "   id_strategic_ver  it_strategic_ver  ...  response_corporate  \\\n",
       "0               NaN               NaN  ...               LGEPH   \n",
       "1               NaN               NaN  ...               LGEPH   \n",
       "2               NaN               NaN  ...               LGEIL   \n",
       "3               NaN               NaN  ...               LGEIL   \n",
       "4               NaN               NaN  ...               LGEIL   \n",
       "\n",
       "    expected_timeline  ver_cus ver_pro ver_win_rate_x ver_win_ratio_per_bu  \\\n",
       "0  less than 3 months        1       0       0.003079             0.026846   \n",
       "1  less than 3 months        1       0       0.003079             0.026846   \n",
       "2  less than 3 months        1       0       0.003079             0.026846   \n",
       "3  less than 3 months        1       0       0.003079             0.026846   \n",
       "4  less than 3 months        0       0       0.003079             0.026846   \n",
       "\n",
       "        business_area business_subarea lead_owner is_converted  \n",
       "0  corporate / office      Engineering          0         True  \n",
       "1  corporate / office      Advertising          1         True  \n",
       "2  corporate / office     Construction          2         True  \n",
       "3  corporate / office      IT/Software          3         True  \n",
       "4  corporate / office              NaN          4         True  \n",
       "\n",
       "[5 rows x 29 columns]"
      ]
     },
     "execution_count": 101,
     "metadata": {},
     "output_type": "execute_result"
    }
   ],
   "source": [
    "df = pd.read_csv('data/train.csv')\n",
    "df.head()"
   ]
  },
  {
   "cell_type": "code",
   "execution_count": 102,
   "metadata": {},
   "outputs": [
    {
     "name": "stdout",
     "output_type": "stream",
     "text": [
      "<class 'pandas.core.frame.DataFrame'>\n",
      "RangeIndex: 59299 entries, 0 to 59298\n",
      "Data columns (total 29 columns):\n",
      " #   Column                   Non-Null Count  Dtype  \n",
      "---  ------                   --------------  -----  \n",
      " 0   bant_submit              59299 non-null  float64\n",
      " 1   customer_country         58317 non-null  object \n",
      " 2   business_unit            59299 non-null  object \n",
      " 3   com_reg_ver_win_rate     14568 non-null  float64\n",
      " 4   customer_idx             59299 non-null  int64  \n",
      " 5   customer_type            15338 non-null  object \n",
      " 6   enterprise               59299 non-null  object \n",
      " 7   historical_existing_cnt  13756 non-null  float64\n",
      " 8   id_strategic_ver         3444 non-null   float64\n",
      " 9   it_strategic_ver         1121 non-null   float64\n",
      " 10  idit_strategic_ver       4565 non-null   float64\n",
      " 11  customer_job             40566 non-null  object \n",
      " 12  lead_desc_length         59299 non-null  int64  \n",
      " 13  inquiry_type             58358 non-null  object \n",
      " 14  product_category         39925 non-null  object \n",
      " 15  product_subcategory      9235 non-null   object \n",
      " 16  product_modelname        9229 non-null   object \n",
      " 17  customer_country.1       58317 non-null  object \n",
      " 18  customer_position        59299 non-null  object \n",
      " 19  response_corporate       59299 non-null  object \n",
      " 20  expected_timeline        28436 non-null  object \n",
      " 21  ver_cus                  59299 non-null  int64  \n",
      " 22  ver_pro                  59299 non-null  int64  \n",
      " 23  ver_win_rate_x           18417 non-null  float64\n",
      " 24  ver_win_ratio_per_bu     15304 non-null  float64\n",
      " 25  business_area            18417 non-null  object \n",
      " 26  business_subarea         5526 non-null   object \n",
      " 27  lead_owner               59299 non-null  int64  \n",
      " 28  is_converted             59299 non-null  bool   \n",
      "dtypes: bool(1), float64(8), int64(5), object(15)\n",
      "memory usage: 12.7+ MB\n"
     ]
    }
   ],
   "source": [
    "df.info()"
   ]
  },
  {
   "cell_type": "markdown",
   "metadata": {},
   "source": [
    "### 문자형 변수 처리\n",
    "+ customer_country, business_unit, customer_type, enterprise, customer_job, inquiry_type, product_category,<br/> product_subcategory, product_modelname, customer_position, response_corporate, expected_timeline, <br/> business_area, business_subarea"
   ]
  },
  {
   "cell_type": "code",
   "execution_count": 108,
   "metadata": {},
   "outputs": [
    {
     "data": {
      "text/plain": [
       "array(['AS', 'ID', 'IT', 'Solution', 'CM'], dtype=object)"
      ]
     },
     "execution_count": 108,
     "metadata": {},
     "output_type": "execute_result"
    }
   ],
   "source": [
    "df['business_unit'].unique() # 라벨인코딩"
   ]
  },
  {
   "cell_type": "code",
   "execution_count": 121,
   "metadata": {},
   "outputs": [
    {
     "data": {
      "text/plain": [
       "array(['end_user', 'influencer', 'service partner', 'channel partner',\n",
       "       nan, 'corporate', 'solution eco-partner', 'distributor', 'etc',\n",
       "       'system integrator', 'consultant', 'installer', 'home_owner',\n",
       "       'technician', 'installer/contractor', 'engineer',\n",
       "       'manager / director', 'developer', 'architect/consultant',\n",
       "       'hvac engineer', 'reseller', 'solution_provider',\n",
       "       'dealer/distributor', 'technical assistant', 'commercial end-user',\n",
       "       'interior designer', 'administrator'], dtype=object)"
      ]
     },
     "execution_count": 121,
     "metadata": {},
     "output_type": "execute_result"
    }
   ],
   "source": [
    "df['customer_type'].unique()"
   ]
  },
  {
   "cell_type": "code",
   "execution_count": 164,
   "metadata": {},
   "outputs": [
    {
     "data": {
      "text/plain": [
       "customer_type\n",
       "end_user                10651\n",
       "influencer               2568\n",
       "channel partner          1368\n",
       "service partner           349\n",
       "solution eco-partner      146\n",
       "etc                        67\n",
       "installer/contractor       52\n",
       "corporate                  31\n",
       "hvac engineer              23\n",
       "engineer                   20\n",
       "developer                  17\n",
       "technician                 16\n",
       "consultant                 15\n",
       "home_owner                 15\n",
       "Name: count, dtype: int64"
      ]
     },
     "execution_count": 164,
     "metadata": {},
     "output_type": "execute_result"
    }
   ],
   "source": [
    "df['customer_type'].value_counts()"
   ]
  },
  {
   "cell_type": "code",
   "execution_count": 165,
   "metadata": {},
   "outputs": [],
   "source": [
    "df['customer_type'] = df['customer_type'].str.lower()\n",
    "df['customer_type'] = df['customer_type'].replace(['etc.', 'other', 'others'], 'etc')\n",
    "df['customer_type'] = df['customer_type'].replace(['end-customer', 'end customer', 'end-user'], 'end_user')\n",
    "df['customer_type'] = df['customer_type'].replace(['specifier/ influencer', 'specifier / influencer'], 'influencer')\n",
    "df['customer_type'] = df['customer_type'].replace(['homeowner', 'home owner'], 'home_owner')\n",
    "df['customer_type'] = df['customer_type'].replace(['software/solution provider', 'software / solution provider'], 'solution_provider')"
   ]
  },
  {
   "cell_type": "code",
   "execution_count": 166,
   "metadata": {},
   "outputs": [],
   "source": [
    "# 값의 빈도 계산\n",
    "value_counts = df['customer_type'].value_counts()\n",
    "\n",
    "# 100개 미만인 값들을 식별\n",
    "values_to_replace = value_counts[value_counts < 10].index\n",
    "\n",
    "# 해당 값들을 'etc'로 대체\n",
    "df['customer_type'] = df['customer_type'].apply(lambda x: 'etc' if x in values_to_replace else x)"
   ]
  },
  {
   "cell_type": "code",
   "execution_count": 167,
   "metadata": {},
   "outputs": [
    {
     "data": {
      "text/plain": [
       "array(['Enterprise', 'SMB'], dtype=object)"
      ]
     },
     "execution_count": 167,
     "metadata": {},
     "output_type": "execute_result"
    }
   ],
   "source": [
    "df['enterprise'].unique()"
   ]
  },
  {
   "cell_type": "code",
   "execution_count": 185,
   "metadata": {},
   "outputs": [
    {
     "data": {
      "text/plain": [
       "inquiry_type\n",
       "quotation_or_purchase_consultation    42379\n",
       "sales inquiry                          9981\n",
       "usage or technical consultation        1668\n",
       "etc                                    1553\n",
       "product information                    1237\n",
       "trainings                               434\n",
       "services                                415\n",
       "request for partnership                 297\n",
       "request a demo                          184\n",
       "technical support                       110\n",
       "sales                                   100\n",
       "Name: count, dtype: int64"
      ]
     },
     "execution_count": 185,
     "metadata": {},
     "output_type": "execute_result"
    }
   ],
   "source": [
    "df['inquiry_type'].value_counts()"
   ]
  },
  {
   "cell_type": "code",
   "execution_count": 168,
   "metadata": {},
   "outputs": [],
   "source": [
    "df['inquiry_type'] = df['inquiry_type'].str.lower()\n",
    "# 같은 의미의 다른 문자열들을 통일\n",
    "df['inquiry_type'] = df['inquiry_type'].replace(['etc.', 'other', 'other_', 'others'], 'etc')\n",
    "df['inquiry_type'] = df['inquiry_type'].replace(['quotation or purchase consultation', 'request for quotation or purchase', 'quotation_or_purchase_consultation', 'purchase or quotation', 'quotation_'], 'quotation_or_purchase_consultation')\n",
    "df['inquiry_type'] = df['inquiry_type'].replace(['usage or technical consultation', 'technical consultation', 'request for technical consulting', 'usage_or_technical_consultation', 'technical_consultation', 'technical'], 'usage or technical consultation')"
   ]
  },
  {
   "cell_type": "code",
   "execution_count": 169,
   "metadata": {},
   "outputs": [],
   "source": [
    "# 값의 빈도 계산\n",
    "value_counts = df['inquiry_type'].value_counts()\n",
    "\n",
    "# 100개 미만인 값들을 식별\n",
    "values_to_replace = value_counts[value_counts < 100].index\n",
    "\n",
    "# 해당 값들을 'etc'로 대체\n",
    "df['inquiry_type'] = df['inquiry_type'].apply(lambda x: 'etc' if x in values_to_replace else x)"
   ]
  },
  {
   "cell_type": "code",
   "execution_count": 193,
   "metadata": {},
   "outputs": [
    {
     "data": {
      "text/plain": [
       "product_category\n",
       "interactive digital board      6154\n",
       "vrf                            5640\n",
       "multi-split                    3674\n",
       "video wall signage             2029\n",
       "etc.                           2018\n",
       "led signage                    1895\n",
       "interactive signage            1862\n",
       "single-split                   1569\n",
       "rac                            1447\n",
       "oled signage                   1350\n",
       "hotel tv                       1112\n",
       "chiller                        1051\n",
       "standard signage                996\n",
       "medical display                 962\n",
       "lg one:quick series             768\n",
       "monitor                         762\n",
       "one:quick series                668\n",
       "heating                         655\n",
       "high brightness signage         477\n",
       "ventilation                     420\n",
       "teto ou cassete inverter        308\n",
       "control                         263\n",
       "multi inverter                  257\n",
       "ar condicionado residencial     224\n",
       "high brightness                 219\n",
       "software solution               191\n",
       "accessories                     179\n",
       "special signage                 172\n",
       "hospital tv                     153\n",
       "webos                           144\n",
       "pc                              114\n",
       "pro:centric                     112\n",
       "video wall                       90\n",
       "Name: count, dtype: int64"
      ]
     },
     "execution_count": 193,
     "metadata": {},
     "output_type": "execute_result"
    }
   ],
   "source": [
    "df['product_category'].value_counts().head(33)"
   ]
  },
  {
   "cell_type": "code",
   "execution_count": 191,
   "metadata": {},
   "outputs": [
    {
     "data": {
      "text/plain": [
       "357"
      ]
     },
     "execution_count": 191,
     "metadata": {},
     "output_type": "execute_result"
    }
   ],
   "source": [
    "df['product_category'].nunique()"
   ]
  },
  {
   "cell_type": "code",
   "execution_count": 194,
   "metadata": {},
   "outputs": [],
   "source": [
    "# 값의 빈도 계산\n",
    "value_counts = df['product_category'].value_counts()\n",
    "\n",
    "# 100개 미만인 값들을 식별\n",
    "values_to_replace = value_counts[value_counts < 100].index\n",
    "\n",
    "# 해당 값들을 'Other'로 대체\n",
    "df['product_category'] = df['product_category'].apply(lambda x: 'etc.' if x in values_to_replace else x)"
   ]
  },
  {
   "cell_type": "code",
   "execution_count": null,
   "metadata": {},
   "outputs": [],
   "source": [
    "df.drop(columns=['product_subcategory', 'product_modelname'], inplace = True)"
   ]
  },
  {
   "cell_type": "code",
   "execution_count": 196,
   "metadata": {},
   "outputs": [
    {
     "data": {
      "text/plain": [
       "bant_submit                    0\n",
       "customer_country             982\n",
       "business_unit                  0\n",
       "com_reg_ver_win_rate       44731\n",
       "customer_idx                   0\n",
       "customer_type              43961\n",
       "enterprise                     0\n",
       "historical_existing_cnt    45543\n",
       "id_strategic_ver               0\n",
       "it_strategic_ver               0\n",
       "idit_strategic_ver             0\n",
       "customer_job               18733\n",
       "lead_desc_length               0\n",
       "inquiry_type                 941\n",
       "product_category           19374\n",
       "customer_position              0\n",
       "response_corporate             0\n",
       "expected_timeline          30863\n",
       "ver_cus                        0\n",
       "ver_pro                        0\n",
       "ver_win_rate_x             40882\n",
       "ver_win_ratio_per_bu       43995\n",
       "business_area              40882\n",
       "business_subarea           53773\n",
       "lead_owner                     0\n",
       "is_converted                   0\n",
       "dtype: int64"
      ]
     },
     "execution_count": 196,
     "metadata": {},
     "output_type": "execute_result"
    }
   ],
   "source": [
    "df.isnull().sum()"
   ]
  },
  {
   "cell_type": "code",
   "execution_count": 205,
   "metadata": {},
   "outputs": [
    {
     "data": {
      "text/plain": [
       "customer_position\n",
       "etc                  27626\n",
       "manager               8217\n",
       "ceo/founder           7984\n",
       "director              4843\n",
       "associate/analyst     2597\n",
       "partner               2536\n",
       "entry level           2216\n",
       "c-level executive      851\n",
       "trainee                849\n",
       "vice president         509\n",
       "intern                 446\n",
       "end-user               424\n",
       "hospital               201\n",
       "Name: count, dtype: int64"
      ]
     },
     "execution_count": 205,
     "metadata": {},
     "output_type": "execute_result"
    }
   ],
   "source": [
    "df['customer_position'].value_counts().head(30)"
   ]
  },
  {
   "cell_type": "code",
   "execution_count": 202,
   "metadata": {},
   "outputs": [],
   "source": [
    "# 값의 빈도 계산\n",
    "value_counts = df['customer_position'].value_counts()\n",
    "values_to_replace = value_counts[value_counts < 100].index\n",
    "df['customer_position'] = df['customer_position'].apply(lambda x: 'etc' if x in values_to_replace else x)"
   ]
  },
  {
   "cell_type": "code",
   "execution_count": 204,
   "metadata": {},
   "outputs": [],
   "source": [
    "df['customer_position'] = df['customer_position'].replace(['none', 'other', 'others'], 'etc')"
   ]
  },
  {
   "cell_type": "code",
   "execution_count": 212,
   "metadata": {},
   "outputs": [
    {
     "data": {
      "text/plain": [
       "array(['LGEPH', 'LGEIL', 'LGEAF', 'LGESJ', 'LGESL', 'LGESP', 'LGEGF',\n",
       "       'LGESA', 'LGEUS', 'LGECB', 'LGEMS', 'LGEEG', 'LGEEF', 'LGEAP',\n",
       "       'LGEIN', 'LGEUK', 'LGEKR', 'LGEPS', 'LGECI', 'LGECL', 'LGETK',\n",
       "       'LGELF', 'LGEPT', 'LGEPR', 'LGEDG', 'LGERO', 'LGEMK', 'LGEPL',\n",
       "       'LGECZ', 'LGEES', 'LGEAR', 'LGEHK', 'LGEML', 'LGEJP', 'LGEHS',\n",
       "       'LGEAS', 'LGEYK', 'LGEIS', 'LGEBN', 'LGEFS', 'LGESW', 'LGEMC',\n",
       "       'LGEAG', 'LGEEB', 'LGETH', 'LGEVH', 'LGECH', 'LGELA', 'LGETT',\n",
       "       'LGERA', 'LGEUR', 'LGEIR', 'LGEBT'], dtype=object)"
      ]
     },
     "execution_count": 212,
     "metadata": {},
     "output_type": "execute_result"
    }
   ],
   "source": [
    "df['response_corporate'].unique()"
   ]
  },
  {
   "cell_type": "code",
   "execution_count": 220,
   "metadata": {},
   "outputs": [
    {
     "data": {
      "text/plain": [
       "array(['less than 3 months', nan, '3 months ~ 6 months',\n",
       "       '9 months ~ 1 year', 'more than a year', '6 months ~ 9 months',\n",
       "       'quote has been sent to customer.',\n",
       "       'partner was exploring on eol model for some requiremeent. no designated sales or closure expected hence closing in the system.',\n",
       "       'already close in july purchse with rd',\n",
       "       'client not interested in product.. receing call and not answering properly',\n",
       "       'being followed up', 'being followed up.',\n",
       "       'repeated inquiry from client. he was just inquiring but have not confimred on purchase. we have tried mulitple times but client is not interested in buying.',\n",
       "       'update- 7th aug--demo given. customer will confirm next week',\n",
       "       \"tried to reach him multipe times from last 7 days but couldn't get through\",\n",
       "       'details send', 'discused with ankit in dehli',\n",
       "       'requires detail for tender. no purchase requirement right now.',\n",
       "       'partner is into static signages. he need to connect for digital signage but he himself is manufacturer. although a mail initaited for any requirements with led team to take it ahead. as of now, there is no scope hence closing in system.',\n",
       "       'the client is not having any requirement hence closig in system. although the details of idb are mailed to client.',\n",
       "       'not require',\n",
       "       'discussed with client details mailed. they have budge issue for now so they wont buy hence closing in yhe system.',\n",
       "       'he is looking for video wall & idb for his office. our bdo jayant is in touch with him and sharing the required details to customer.',\n",
       "       'details shared', 'demo to be aligned',\n",
       "       'il220100042906 - repeat inquiry hence closing this in system.',\n",
       "       'update- 13th spet--follow up to be done on 15th sept',\n",
       "       'details shared with customer. as on 4th may- tried multiple times but not reachable',\n",
       "       'less than 6 months',\n",
       "       'partner is already in touch with our rd, orno. the partner needs to cross check on the information as the size is changed from 49 to 50 now. closing the opprtunity as its existing with rd.',\n",
       "       'rnr', 'budget issue', 'scheduling a meeting',\n",
       "       'customer want demo of idb. he will come for demo in next week. after following up with customer multiple times there is no update. lead has been forwarded to rd.',\n",
       "       'discussed with client. details mailed for onequick, they are not planning to buy the same for now hence closing in the system.',\n",
       "       'already shared quotation through si.', 'quotation shared.',\n",
       "       'budget low hence client have not went ahead.', 'duplicate lead',\n",
       "       'invalid lead', 'demo scheduled for first week feb',\n",
       "       'the client budget is within 1 lacs they need 55 inch aio solution. as per discussion, they are comparing with jabra and we proposed to check if they need only displays. but due to budget contraint, they are dropping the idea.',\n",
       "       'forwarded to bdo, being followed up',\n",
       "       'the partner is checking price for an ongoing case of barc. we have discussed on new case with the partner.its useful to take our discussion further for new inquries.closing the opportunity in system as of now as its made only for cross checking prices.',\n",
       "       'october 2022', '3_months_~_6_months',\n",
       "       'spoke with custome he want 43\" tv',\n",
       "       'details shared with customer, he will update on further action after evaluating other brands as well.',\n",
       "       'don’t have budget',\n",
       "       'spoke with customer, details needs to share on mail. also they want demo',\n",
       "       'client shall get back for exploring demo of idb, post that they will decide on procuring the same.',\n",
       "       'details shared with partner. he has quoted in our existing customer only.',\n",
       "       'already in discussion with partner from bangalore (kohinoor) and with mr. indraneel from corporate office',\n",
       "       'details shared.', 'reuired for office. asked to share quotation',\n",
       "       'require demo price send', 'size not available',\n",
       "       'eol model new model quote requirment after 30 days.',\n",
       "       'need to discuss with client in next two months. they need to check the product and accridngly proceed for personal use.',\n",
       "       'spoken to client, he will check if they need demo and confirm',\n",
       "       'discussed with the client, tr3bg & one quick works demo scheduled on 27th july 2022.post demo they will decide on procuring the unit.',\n",
       "       \"didn't respond to calls\",\n",
       "       'is an interior designer. working on turnkey projects. mr bhuvnesh is in contact and shared specs and prices.',\n",
       "       '29thsep2021:-no such requirement as of now',\n",
       "       'quotation shared in communication',\n",
       "       'he want demo in aurangabad, details shared with rd',\n",
       "       'purchase planning after 3 months',\n",
       "       'client was driving and asked to call back later, will folloup and keep posted.',\n",
       "       '09-02-2022 requested for boq of requirement',\n",
       "       'converted this lead into opportunity.',\n",
       "       'discussed with client they need for csr activity. prices expectation is very much low.',\n",
       "       'demo scheduled for 24th oct', 'details send require demo',\n",
       "       'discussed with client. we need to align demo. the expectation is connecting apple devices but not mandatory. once demo is done, we shall update',\n",
       "       'require demo', 'discussed with client. will plan for demo.',\n",
       "       'need to arrange quote and demo.',\n",
       "       'client is looking for 86\" display with vc solution, they will go for demo next week and decide on procuring our tr3dj, details shared with client on mail.',\n",
       "       'quote sent to customer.', 'under discussion',\n",
       "       'remarks : customer looking for 65 inches and 75 inches  each 1 qty',\n",
       "       'meeting planned for further discussion', 'less_than_3_months',\n",
       "       'customer will come for demo in next week, than he will decide further',\n",
       "       'he want demo next week',\n",
       "       'call and discused to custome customer wants demo.',\n",
       "       'demo planned, will update further status once its completed',\n",
       "       'quote sent, the client is required demo in june',\n",
       "       'quote shared with customer, lead shared with partner to take it further.',\n",
       "       'will come for the demo', 'customer has not answering call',\n",
       "       'discussed with client, he shall send the details of their office requirement',\n",
       "       'tried calling the client, no response from client, i have mailed idb details, will keep follow up & update',\n",
       "       'client was busy, asked to call back later, interested in exploring our idb',\n",
       "       'quote send meeting pending', 'quote send',\n",
       "       'tried reaching out to client no response to callls so i have shared the datasheet, shalll folllllow up and update',\n",
       "       'not interested', '(select id_timeline)',\n",
       "       'client is not responding calls, following up and keep the update tracked',\n",
       "       'demo aligned for client',\n",
       "       'demo completed, customer asked to come feb 10th for closure.',\n",
       "       'call and discused no requirement.',\n",
       "       'demo done and details shared', 'call after 3 june',\n",
       "       'quote send require demo.', 'call back later',\n",
       "       'spoke with customer, will be sharing details on email.',\n",
       "       'quote send next month require',\n",
       "       'quote send require demo in next week.',\n",
       "       'client was keen to explore our idb sku, in follow up',\n",
       "       'he want demo next month at pune - 15 may',\n",
       "       'aggressive price required', 'fu under progress.', 'order taken',\n",
       "       'discussed with client. demo aligned. once done, will update.',\n",
       "       'proposal submitted , due to covid md is not comin to office for the meeting.',\n",
       "       '14th aug- aggressive price required as he has got price from outside delhi',\n",
       "       'they are consultant and i am already in touch with customer.',\n",
       "       'less than 3 months ,meeting with the customer for the more details and tentative boq will ne 32 and 43',\n",
       "       'he want physical demo of tr3bf in nashik. but there budget is also very low. so first he will discuss with management on budget then confirm back for demo',\n",
       "       'demo done', 'get back in 1 wk',\n",
       "       'detail shared with him on email. he is looking for one unit of 65 inch for his conference room',\n",
       "       'already in touch with customer',\n",
       "       'mr rajnikant is allign with the client.',\n",
       "       'spoke with her and shared the details for signage displays.',\n",
       "       'discussed with client, quote sent.',\n",
       "       'he is looking for an interactive display. discussed with client, will update as the case progress.',\n",
       "       'we are already in touch with customer thru partner',\n",
       "       \"details shared on whatsapp, he'll revert back.\",\n",
       "       'customer has not answering call / quotation has been send to customer',\n",
       "       'spoken to client, he will connect once he discuss on requirement',\n",
       "       'require quote',\n",
       "       'customer visit at uv business and see the demo within 2 to 3 days.',\n",
       "       'they are having requirement of 40 displays. customer need aggressive pricing than samsung.',\n",
       "       'already in touch with customer from last 10 days. dropping it because we are already in touch',\n",
       "       'his budget is very low but we are trying to convince him for 65 inch',\n",
       "       'discussed with client.they are looking for aio solution with vc. they will call after 20th for the demo and then purchase through gem.',\n",
       "       'discussed with the client. prices shared for onequick and idb on mail. customer to confirm about demo of the sku and finalise on procurement.',\n",
       "       'discussed with the client. they are interersted in our tr3dj series demo planned for 29th june post they will plan on procurement. will keep update.',\n",
       "       'discussed with the client. asked to call back on monday will keep a follow up.',\n",
       "       'bodeli, requirement pending new quote send close in this month end.',\n",
       "       '3 months', 'received po.',\n",
       "       'customer not answering call, will call him again and update',\n",
       "       'september', 'december 2022', 'november 2022',\n",
       "       'no contact number, i have dropped a email requesting for the same.',\n",
       "       'no further revert & clarity after sharing details.',\n",
       "       \"didn't respond\", 'fu under progress',\n",
       "       'he client is not having any requirement hence closig in system. although the details of idb are mailed to client.',\n",
       "       'he is looking for display for his restaurant. he has asked to contact him after 1 month as restaurant work is under progress',\n",
       "       'his budget is very low.', \"couldn't connect\",\n",
       "       'not answering call | as on 11th june- customer phone is not reachable. i am dropping this lead and forwarding to partner.',\n",
       "       'looking for active led in a range of 5 lakhs . not a prospetive buyer',\n",
       "       'our partner, vis networks is working on this inquiry and client is cross-checking the prices. hence closing in the system.',\n",
       "       'discussed with client. details mailed to client. no budgets for now wont buy hence closing in the system',\n",
       "       'the client is not having any requirement, he was only browsing through the produt hence closig in system. although the details of idb are mailed to client.',\n",
       "       'not reachable', 'not reachable , lead shared with partner',\n",
       "       'no requirement of this time', 'no requirement', 'cms reqired',\n",
       "       'not required', 'not answering call, will try to reach him again.',\n",
       "       'looking for air conditioners', 'no reqirements',\n",
       "       'withdrawn the decission to purchase', 'asked to call next week',\n",
       "       'asked to call on 4th may',\n",
       "       'discussed with client. they are not evaluatuating idb as of now, they have no plans to buy hence closing in the system.',\n",
       "       'less than 3 months- outdoor led requiment',\n",
       "       'looking for outdoor display. cusotmer has no clarity on the solution. email shared for understanding and waiting for reply',\n",
       "       'customer ask to call back tomorrow',\n",
       "       'details shared with customer on mai',\n",
       "       'details shared with customer on mail', 'not lifted, call later',\n",
       "       'asked to send details',\n",
       "       'the client is not having any requirement, she was only browsing through the produt hence closig in system. although the details of idb are mailed to client.',\n",
       "       'not answering call, details shared with rd',\n",
       "       'purchased from binary @ 1.23l',\n",
       "       'details shared for 75tr, followup in first week of oct',\n",
       "       'details shared fu under progress',\n",
       "       'customer is looking for residential 43 inch display for home use',\n",
       "       'meeting planned nextweek.', 'dropped. contact no not valid',\n",
       "       'client not anwering calls and asked there is no requirement. he was trying to check prices for one 65 touch requirement of existing client.',\n",
       "       'needs hotel tv after 4 months, will call us.',\n",
       "       'dont have any immediate requirement. he may purchase after june',\n",
       "       'treid many times but phone not reachable', 'not answering call',\n",
       "       'require 65 inch idb under 80k',\n",
       "       'not responding, details shared with local rd', \"couldn't conect\",\n",
       "       'he just need budgetory pricing. we have shared the details with him and requested him to come for demo',\n",
       "       'need to call on friday 27th', 'busy. need to call back',\n",
       "       'discussed with client. they have no budgets for purchase for now, they wont buy hence closing in the system.',\n",
       "       'already in touch with there team',\n",
       "       'details shared with concern person. will ask bdo to follow up',\n",
       "       'drop not willing to buy now.. will do in future.. details shared on whatsap',\n",
       "       'due to financial reasons, client have dropped purchase plan. although the details of idb are mailed to client.',\n",
       "       '9_months_~_1_year', 'lead belongs to maharashtra',\n",
       "       'client is not looking now and he was interested with only inbuilt ops option. hence closing in system as he is not responding to calls.',\n",
       "       'requirement of 65tr3dj –  demo reqired, lead shared with rd',\n",
       "       'requirement of 75tr3dj –  demo required',\n",
       "       'same as lead no  il220300046498 hence dropping. duplicate lead.',\n",
       "       'not reachable , details shared with rd',\n",
       "       'due to budget issue, customer has bought maxhub panel.',\n",
       "       'next week he will come for demo at lg office',\n",
       "       'his budget is under 50k only', 'not lifted',\n",
       "       'he will call back if needed', 'its bihar customer',\n",
       "       'requirement of 65tr3dj and customer want demo, details shared with rd',\n",
       "       'connected with partner for studio setup with camera',\n",
       "       'quote shared but there budget is very low',\n",
       "       'call back again on 30/04',\n",
       "       \"tried to reach him multiple times, but couldn't get thru.\",\n",
       "       '6_months_~_9_months',\n",
       "       'he want demo in sangli, i have looped with local partner.',\n",
       "       'not answering call, shared lead with rd',\n",
       "       'drop no plan for purchase',\n",
       "       'not answering call, lead shared with rd', 'budget issue.',\n",
       "       'customer need shortthrow projector',\n",
       "       'rajnikant is working in this case ho in ahmedabad and its under process.',\n",
       "       'quotation shared with customer', 'connect with partner',\n",
       "       'not reachable, i had shared lead with partner',\n",
       "       'requirement of 65tr3dj –  demo required', 'asked to call later.',\n",
       "       'no drop this lead, no budget!', 'no response.',\n",
       "       'discussed with client, details mailed they are not planning to purchase for now hence closing in the system.',\n",
       "       'finance and accounting consultant. inquired foe 43 inch aio but dont have plans to buy. details discussed.',\n",
       "       'idb detais send', 'not responding tried many times',\n",
       "       'update- call to be made on tuesday',\n",
       "       'discussion to be done with customer',\n",
       "       'update- 4th aug- customer asked to call on monday',\n",
       "       'known partner and already working on a case. only cross checking prices hence dropping.',\n",
       "       'dropped.. have purchased cloudwalker', 'couldnt connect',\n",
       "       'quotation sent – 75tr3dj , work in progress, he will buy after 2 months. he has not even seen the quote yet.',\n",
       "       'requirement of 75tr3dj –  demo, details shared with rd',\n",
       "       'drop, still no plan for purchase',\n",
       "       'requirement of idb, budget is very low. shared details on whatsapp. 1 unit required. rd is following up.',\n",
       "       'not interested in commercial tv.s',\n",
       "       'he asked to share budgetory quote, he will check and confirm if he will require the product.',\n",
       "       'customer phone is gets switched off',\n",
       "       'already our customer, have shared prices for new requirement',\n",
       "       'known partner and we have installed 3 video walls pan india for cctv. we supplied 49vl5b at rs. 62000 and then again 49vl5f at rs. 71000.now the available model is 49vl5g at 80000 + which partner is rechecking and hence made inquiry.closing the inquiry si',\n",
       "       'purchase vu brand', 'custome purchase  consumer product',\n",
       "       'delhi enquirey',\n",
       "       'client have seen the demo. he needed for bigger room and the camera quality and speaker tracking were the main required feature. as of now, his budget is around 2 lacs and need bigger size solution. there is no response from client post demo hence closing',\n",
       "       'budget problem.',\n",
       "       'customer has not answering call / customer want 86\" interactive display, he will purchase within next 6 month, we are forwarding to local rd to take this further',\n",
       "       'spoke with customer, he is looking for dot led product in 42 inch, i have suggested him our 43 inch signage but he want fully outdoor led. i have shared the details of our 43 inch display',\n",
       "       'customer purchase benq for price differance',\n",
       "       'customer want product t 15000',\n",
       "       'mobile is switched off. tried 3 times',\n",
       "       'he want 98 inch in below 2 lacs', 'phone swtiched off',\n",
       "       'dropped, requires device like one quick share to be used with samsung tv',\n",
       "       'drop, budget problem now phone not respondig',\n",
       "       'he want 65 inch at 50k',\n",
       "       'customer will be coming for demo on 28th may. customer did not came for demo. i have shared details with rd to take it further. hence dropping this lead',\n",
       "       'custome has not receive call. as on 31st may- spoke with customer, he will come for demo in next week.14-06-2022',\n",
       "       'quote shared with customer, he will confirm after 2 months. lead shared with partner.',\n",
       "       'details shared with rd for further action,',\n",
       "       'tried to reach him but no response. i will call him again. 18th nov- i called him again and he will send the requirement on mail.',\n",
       "       'connecting for issue', \"didn't pickup the call\",\n",
       "       'he is comparing with senses which is local brand.',\n",
       "       'client was inquiring for prices. already quoted by few partners. they even purchased as per recent update but client has not confiermed partner name.',\n",
       "       'forwarded to bdo to followup.',\n",
       "       'details shared, being followed up', 'repeat enquiry',\n",
       "       'he needs for home purpose and is a consumer client. spoke and guided on the details and channel. not a b2b requirement.',\n",
       "       'already touch with customers', \"dind't respond\",\n",
       "       'tried to reach several times but no response',\n",
       "       \"tried contact him but couldn't able to connect. lead forwarded to rd\",\n",
       "       'he want demo in latur. and also dont have much budget. partner followed up multiple times but no response.',\n",
       "       'recently no requirement, dropped',\n",
       "       'discussed with the client they purchased 65um3df from the channel. unable to track the supplier. hence closing in the system. mail sent to client for our display range.',\n",
       "       'uttarpradesh state lead',\n",
       "       'requirement of 75tr3dj –  demo, lead shared with mumbai team.',\n",
       "       'discussed and shared details with client for digital signage. they are not planning to purchse the same currently hence closing in the system.',\n",
       "       'concerned person not available, will call later',\n",
       "       'tried couple of times but he is not responding. we will try again',\n",
       "       'less then 6 months', 'more_than_a_year', 'more then 3 months',\n",
       "       'not interested at the moment',\n",
       "       'quotation shared for ultra stretch and 49vl5g. he will check with management and update us',\n",
       "       'quote shared with him and he will update us after demo',\n",
       "       'update- as per customer no enquiry was made.',\n",
       "       'looking for commercial tv 55\". details mailed to client,they have no plans for now to buy hence closing in the system.',\n",
       "       'price shared',\n",
       "       'update---27th aug--customer has to come for product demo',\n",
       "       'reseller want to have gem authorization.',\n",
       "       'he is looking for interactive display. quote shared with him.',\n",
       "       'customer budget is 1.25+tax for 75 inch idb. i have given our no regret offer and also explained why lg is better and premium. he said he will come back in a day or two.',\n",
       "       'tried to reach customer but no response. lead forwarded to partner for further follow up',\n",
       "       'already in touch with him since long. he has not finalized yet. lead forwarded to rd',\n",
       "       'low budget', 'exiting customer',\n",
       "       'less than 3 months. customer not answered . to call back',\n",
       "       'drop, wrong number',\n",
       "       'contact details provided are wrong, sent mail for correct contact details.',\n",
       "       'drop, now not intrested',\n",
       "       'quote shared for 86 inch. he is evaluation local brand of trueview',\n",
       "       'details shared with customer, also i had shared lead with rd to take it further',\n",
       "       'call not connecting',\n",
       "       'discussed with the client. he dont have budgets. details mailed. he wont buy now hence closing in the system.',\n",
       "       'client is exploring. he will discuss once details sent. details mailed to him. as per recent discussion, he is not exploring as of now.',\n",
       "       'kinnari eletronis vatwa has bid for the same. and they are going to purchase from them.',\n",
       "       'called to know the price of idb', 'following up',\n",
       "       'asked to call back later, i had shared this lead with rd to take it further.',\n",
       "       'not answering call, sales remarks: tried to reach him multiple times but he is not responding. request to shailja to reconnect with customer. we are dropping this lead for now.',\n",
       "       'dicsussed with client,details shared on mail, client have no budgets to buy now hence closing in the system.',\n",
       "       'update- 8th sept- details shared. will confirm demo schedule of next week.',\n",
       "       'quotation shared with him for idb. he dont have enough fund as of now. he is just evaluating options.',\n",
       "       'demo to be planned', 'purchased viewsonic panel',\n",
       "       'already working with end user on this requirement.',\n",
       "       'he is requesting demo in aligarh-up, plz share to up person.',\n",
       "       'one month', 'purchased some local panel, budget issue',\n",
       "       'he has asked to connect next week. he want to see the physical demo.',\n",
       "       'price share with customer. our rd is following up with him but customer is not responding',\n",
       "       'provided model and price as per requirement.',\n",
       "       'details shared, to plan demo in december',\n",
       "       '14th-feb-2022 shared details.awaiting update from customer.',\n",
       "       'existing case worked by our disti, crew business, hence closing as client is only checking for commercials',\n",
       "       'drop, already done with partner',\n",
       "       'mayur electronic connect with client',\n",
       "       'spoke with shubham who is student. he said he will speak with his sir and revert back after 2 weeks.',\n",
       "       '45 days',\n",
       "       'email send for details. client is exploring on solutions but only for their undertanding.',\n",
       "       'need to do domestic trade biz', 'call back tomorrow 28/09',\n",
       "       'already purchase with rd', 'not responding.', 'september 2022',\n",
       "       'we are already in touch with this cutsomer from last 2 years, he has never purchased any product till date. i called him up twice but no reponse.',\n",
       "       'existing partner, discussed and addressed the concern. the partner had taken pricing and wanted to re-check as the model quoted is changed.',\n",
       "       'drop, requirement of interactive touch screen to supply in govt., conncgt with partner',\n",
       "       'discussed with client, they were just evaluating the product, they have no plans to buy the same, hence closing in the system.',\n",
       "       'spoken to partner, have no any requierements for now, have mailed the details to him, he wont purchase any skus for now hence closing in the system.',\n",
       "       'update- 14th sept-- more details to be shared by client',\n",
       "       'we were already working here, we are facing challenge as we dont have 49vl5g in stock. order lost in march due to unavailabilty of 49vl5g.',\n",
       "       'quote shared with customer. he will revert with an update',\n",
       "       'update-- 4th aug--detailed discussion to be done on 6th aug',\n",
       "       'discussed with client. they need 24 inch display for digital signage. mentioned for our available sizes, he shall revert.',\n",
       "       'the rerquirement is for pune. emailed client looping pune team to meet and visit the client.',\n",
       "       'details send quote require', 'small size tab required',\n",
       "       'the client is looking for small size displays of 20 inch to 25 inch to mount on ref. the budget is 4k to 6k. not exactly our requirement',\n",
       "       'not answering tried several times. details shared with rd.',\n",
       "       'project cancle', 'want to take retail monitor',\n",
       "       'asked to call back tomorrow, i had shared this enquiry with rd.',\n",
       "       'budget problem', 'conference/meeting room/collaboration spaces',\n",
       "       'client was exploring on products but he dont have any plans to purchase. currently he have holded on his requirement and will connect if it re-iniitaties.',\n",
       "       'very abrupt customer. said the inquiry was made months ago and was rude enough. closing in the system as the client behaviour has no scope to discuss on requirement. need marketing team to check if the case was received in dec or jan as per client.',\n",
       "       'require only cms software.',\n",
       "       'details shared follow up under progress.', 'looking for home use',\n",
       "       'already in touch with partner.', 'meeting date to be finalised',\n",
       "       'phone number not available',\n",
       "       'assigned to partner. intial meeting done. will convert to opp post complete info',\n",
       "       'discussed with partner. he works with cloudwalker and wanted to connect with us for some product details. as of now, dont have any inquiry to work and hence closing in system.',\n",
       "       'update- 9th oct- details shared. will confirm for online demo next week',\n",
       "       'want to do trade product business', 'call not picking',\n",
       "       'requirement is for pune. looped pune team. although the partner is checking prices for an existing case. closing the lead in system as pune team is already working.',\n",
       "       'customer has been not  answering call',\n",
       "       'asked to contact him after 8th jan.',\n",
       "       'we have pitched 110 inch fu under prgress',\n",
       "       'forwarded to aurangabad rd for further process',\n",
       "       'repeat inquiry, we already knew on the client requirement. we are in touch with them and if any requirement comes, we will udpate. as of now, the transparent led they need is not available with us and the available product cost expectation is very low wit',\n",
       "       'already working on idb will create opp post clarfying on signage',\n",
       "       'he is an event organization and looking for rental displays. hence dropping in system.',\n",
       "       \"partner is working on existing requirement. he is connected with our disti's for billing.\",\n",
       "       'customer getting price from jaipur which low than our operating price.',\n",
       "       'client is cross checking on prices. its a rc case of subway and the franchisee is trying to get pricing from elsewhere.',\n",
       "       'no response on mails from the client. couldnt find any contact details on net as well. hence dropping in the system. although idb and onequick details shared on email.',\n",
       "       'busy, call later', 'will come back once it is required',\n",
       "       'update--14th sept--customer will discuss in detail tomorrow',\n",
       "       'already connect with partner', 'requirement of 65tr3dj',\n",
       "       'discussed with client, details shared on mail client have no purchase plans for now hence closing the same in system.',\n",
       "       'not picking calls, called many times',\n",
       "       'already touch with customer for kiosk requirement',\n",
       "       'he want 32 inch tv for signage. details shared with him.',\n",
       "       'no response', 'under discussion, requirement not dinalised yet',\n",
       "       'less than 5 months', 'communication number not available.',\n",
       "       'discussed with client. details mailed client dont have budget for purchase now hence closing in the system',\n",
       "       'update--4th aug--customer visiting experience centre on 8th sept',\n",
       "       'he is looking for consumer product for home',\n",
       "       'need for home segment. they purchased vu 85 inch tv for their home',\n",
       "       'call back later, in first week march',\n",
       "       'duplicate lead - il220100042906. discussed with client. their vc hall is under development. onequick details mailed to client. they will call us for demo and purchase finalization once their vc place is ready.',\n",
       "       'customer is busy ask us to call again ,following',\n",
       "       'update- details already shared with customer. evaluation is on going.',\n",
       "       'dont have budget. he want dot led',\n",
       "       'quotation shared with customer, he will confirm back after discussing with management 09-06-2022- as on today 14-06-2022- not answering call hence  i am dropping this lead. details shred with rd take it for further',\n",
       "       'duplicate lead - il220100042906. less than 3 months',\n",
       "       'we are not going to match technical specification',\n",
       "       'requirement of video wall. client is cheking on prices. already 2 partners working. its ongoing case hence clising in system.',\n",
       "       'looking for not made in china active outdoor led for government project',\n",
       "       'at present not required,',\n",
       "       'client is not having any requirement, he was only browsing through the produt hence closig in system. although the details of idb are mailed to client.',\n",
       "       '4/8 months',\n",
       "       'discussed with client,details mailed for idb and one quick, they have no plan to buy for now hence closing in the system.',\n",
       "       '9 months - 1 year', '14:00~15:00',\n",
       "       'price shared with customer. he is looking for some idbs. need to take follow up',\n",
       "       'require demo after 20 may.',\n",
       "       'mailed details & price of 55 inches', 'november 22',\n",
       "       'not responding',\n",
       "       'asked to call back tomorrow morning, not responding',\n",
       "       'not required now', 'drop, not intrested',\n",
       "       'he is in discussion internally and will update.',\n",
       "       'drop, lookong for consumer product', 'última revisión: 26/07/21',\n",
       "       'etc.',\n",
       "       'asked to share details on mail. he will update if there is any requirement',\n",
       "       'the client is not having any requirement he was just browsing for products hence closig in system. although the details of idb and video walls are mailed to client.',\n",
       "       '25-nov-2021  no mobile number, sent a mail to customer',\n",
       "       'quote shared with him.', 'not responding to calls',\n",
       "       'up to december'], dtype=object)"
      ]
     },
     "execution_count": 220,
     "metadata": {},
     "output_type": "execute_result"
    }
   ],
   "source": [
    "df['expected_timeline'].unique() # 컬럼 삭제"
   ]
  },
  {
   "cell_type": "code",
   "execution_count": 226,
   "metadata": {},
   "outputs": [],
   "source": [
    "df['ver_win_rate_x'].fillna(0, inplace = True)"
   ]
  },
  {
   "cell_type": "code",
   "execution_count": 230,
   "metadata": {},
   "outputs": [],
   "source": [
    "df['ver_win_ratio_per_bu'].fillna(0, inplace = True)"
   ]
  },
  {
   "cell_type": "code",
   "execution_count": 233,
   "metadata": {},
   "outputs": [
    {
     "data": {
      "text/plain": [
       "business_area\n",
       "corporate / office                4097\n",
       "retail                            3011\n",
       "hotel & accommodation             2013\n",
       "special purpose                   1929\n",
       "residential (home)                1818\n",
       "education                         1727\n",
       "hospital & health care            1199\n",
       "factory                           1035\n",
       "government department              650\n",
       "public facility                    519\n",
       "transportation                     306\n",
       "power plant / renewable energy     113\n",
       "Name: count, dtype: int64"
      ]
     },
     "execution_count": 233,
     "metadata": {},
     "output_type": "execute_result"
    }
   ],
   "source": [
    "df['business_area'].value_counts() # 그대로 레이블인코딩, # 열 삭제가 낫겠다"
   ]
  },
  {
   "cell_type": "code",
   "execution_count": 242,
   "metadata": {},
   "outputs": [
    {
     "data": {
      "text/plain": [
       "lead_owner\n",
       "174    4627\n",
       "175    4120\n",
       "97     2499\n",
       "23     2453\n",
       "194    2208\n",
       "42     1215\n",
       "96      981\n",
       "185     880\n",
       "363     839\n",
       "115     734\n",
       "38      693\n",
       "125     690\n",
       "402     490\n",
       "108     487\n",
       "124     468\n",
       "816     464\n",
       "341     462\n",
       "167     459\n",
       "100     457\n",
       "0       429\n",
       "68      427\n",
       "16      413\n",
       "487     405\n",
       "176     374\n",
       "40      355\n",
       "342     346\n",
       "662     327\n",
       "422     326\n",
       "27      317\n",
       "359     305\n",
       "Name: count, dtype: int64"
      ]
     },
     "execution_count": 242,
     "metadata": {},
     "output_type": "execute_result"
    }
   ],
   "source": [
    "df['lead_owner'].value_counts().head(30) # 열 삭제"
   ]
  },
  {
   "cell_type": "code",
   "execution_count": 249,
   "metadata": {},
   "outputs": [
    {
     "data": {
      "text/plain": [
       "business_area\n",
       "corporate / office                4097\n",
       "retail                            3011\n",
       "hotel & accommodation             2013\n",
       "special purpose                   1929\n",
       "residential (home)                1818\n",
       "education                         1727\n",
       "hospital & health care            1199\n",
       "factory                           1035\n",
       "government department              650\n",
       "public facility                    519\n",
       "transportation                     306\n",
       "power plant / renewable energy     113\n",
       "Name: count, dtype: int64"
      ]
     },
     "execution_count": 249,
     "metadata": {},
     "output_type": "execute_result"
    }
   ],
   "source": [
    "df['business_area'].value_counts().head(30)"
   ]
  },
  {
   "cell_type": "code",
   "execution_count": 248,
   "metadata": {},
   "outputs": [
    {
     "data": {
      "text/plain": [
       "business_area\n",
       "hospital & health care            0.311093\n",
       "power plant / renewable energy    0.176991\n",
       "factory                           0.085990\n",
       "public facility                   0.065511\n",
       "corporate / office                0.065414\n",
       "education                         0.063115\n",
       "government department             0.060000\n",
       "hotel & accommodation             0.059613\n",
       "transportation                    0.058824\n",
       "retail                            0.052474\n",
       "special purpose                   0.052359\n",
       "residential (home)                0.024752\n",
       "Name: is_converted, dtype: float64"
      ]
     },
     "execution_count": 248,
     "metadata": {},
     "output_type": "execute_result"
    }
   ],
   "source": [
    "(df.groupby('business_area')['is_converted'].sum() / df.groupby('business_area')['is_converted'].count()).sort_values(ascending=False)"
   ]
  },
  {
   "cell_type": "code",
   "execution_count": 247,
   "metadata": {},
   "outputs": [
    {
     "data": {
      "text/plain": [
       "lead_owner\n",
       "437     135\n",
       "487     117\n",
       "831     104\n",
       "480      98\n",
       "375      88\n",
       "       ... \n",
       "592       0\n",
       "79        0\n",
       "80        0\n",
       "584       0\n",
       "1114      0\n",
       "Name: is_converted, Length: 984, dtype: int64"
      ]
     },
     "execution_count": 247,
     "metadata": {},
     "output_type": "execute_result"
    }
   ],
   "source": [
    "df.groupby('lead_owner')['is_converted'].sum().sort_values(ascending=False) # 삭제하자"
   ]
  },
  {
   "cell_type": "code",
   "execution_count": 251,
   "metadata": {},
   "outputs": [
    {
     "data": {
      "text/plain": [
       "business_unit\n",
       "ID          25563\n",
       "AS          24774\n",
       "IT           8664\n",
       "Solution      296\n",
       "CM              2\n",
       "Name: count, dtype: int64"
      ]
     },
     "execution_count": 251,
     "metadata": {},
     "output_type": "execute_result"
    }
   ],
   "source": [
    "df['business_unit'].value_counts() # 라벨인코딩"
   ]
  },
  {
   "cell_type": "code",
   "execution_count": 253,
   "metadata": {},
   "outputs": [],
   "source": [
    "df['com_reg_ver_win_rate'].fillna(0, inplace = True)"
   ]
  },
  {
   "cell_type": "code",
   "execution_count": 255,
   "metadata": {},
   "outputs": [
    {
     "data": {
      "text/plain": [
       "customer_idx\n",
       "47466    7686\n",
       "25096    2421\n",
       "37680     367\n",
       "18030     331\n",
       "21321     162\n",
       "         ... \n",
       "39487       1\n",
       "41241       1\n",
       "39422       1\n",
       "22515       1\n",
       "30268       1\n",
       "Name: count, Length: 35112, dtype: int64"
      ]
     },
     "execution_count": 255,
     "metadata": {},
     "output_type": "execute_result"
    }
   ],
   "source": [
    "df['customer_idx'].value_counts()"
   ]
  },
  {
   "cell_type": "code",
   "execution_count": 258,
   "metadata": {},
   "outputs": [
    {
     "data": {
      "text/plain": [
       "customer_idx\n",
       "47466    7686\n",
       "25096    2421\n",
       "37680     367\n",
       "18030     331\n",
       "21321     162\n",
       "         ... \n",
       "39487       1\n",
       "41241       1\n",
       "39422       1\n",
       "22515       1\n",
       "30268       1\n",
       "Name: count, Length: 35112, dtype: int64"
      ]
     },
     "execution_count": 258,
     "metadata": {},
     "output_type": "execute_result"
    }
   ],
   "source": [
    "df['customer_idx'].value_counts()"
   ]
  },
  {
   "cell_type": "code",
   "execution_count": 263,
   "metadata": {},
   "outputs": [
    {
     "data": {
      "text/plain": [
       "customer_idx\n",
       "47466    7686\n",
       "25096    2421\n",
       "37680     367\n",
       "18030     331\n",
       "21321     162\n",
       "33350     135\n",
       "43395      91\n",
       "25309      90\n",
       "33763      88\n",
       "32240      84\n",
       "37654      76\n",
       "31864      71\n",
       "37657      67\n",
       "19804      65\n",
       "29370      61\n",
       "40344      59\n",
       "21389      51\n",
       "7195       50\n",
       "37399      45\n",
       "42067      43\n",
       "14746      43\n",
       "33776      33\n",
       "742        30\n",
       "6555       29\n",
       "1747       28\n",
       "46271      27\n",
       "21883      26\n",
       "37306      26\n",
       "40491      26\n",
       "4936       26\n",
       "Name: count, dtype: int64"
      ]
     },
     "execution_count": 263,
     "metadata": {},
     "output_type": "execute_result"
    }
   ],
   "source": [
    "df['customer_idx'].value_counts().head(30)"
   ]
  },
  {
   "cell_type": "code",
   "execution_count": 286,
   "metadata": {},
   "outputs": [
    {
     "data": {
      "text/plain": [
       "is_converted\n",
       "False    54449\n",
       "True      4850\n",
       "Name: count, dtype: int64"
      ]
     },
     "execution_count": 286,
     "metadata": {},
     "output_type": "execute_result"
    }
   ],
   "source": [
    "df['is_converted'].value_counts()"
   ]
  },
  {
   "cell_type": "code",
   "execution_count": 285,
   "metadata": {},
   "outputs": [
    {
     "data": {
      "text/plain": [
       "is_converted\n",
       "False    43\n",
       "Name: count, dtype: int64"
      ]
     },
     "execution_count": 285,
     "metadata": {},
     "output_type": "execute_result"
    }
   ],
   "source": [
    "df[df['customer_idx'] == 42067]['is_converted'].value_counts() # 25096 은 True만 존재 -> 25096은 빼고 학습하는게 어떨까 -> test 에는 25096이 없음. 컬럼 삭제"
   ]
  },
  {
   "cell_type": "code",
   "execution_count": null,
   "metadata": {},
   "outputs": [],
   "source": [
    "# customer_country, customer_country.1 이 같음 하나 삭제\n",
    "df.drop(columns=['customer_country.1'], inplace= True)\n",
    "df[['it_strategic_ver', 'id_strategic_ver', 'idit_strategic_ver']] = df[['it_strategic_ver', 'id_strategic_ver', 'idit_strategic_ver']].fillna(0)"
   ]
  },
  {
   "cell_type": "code",
   "execution_count": 300,
   "metadata": {},
   "outputs": [],
   "source": [
    "df['historical_existing_cnt'].fillna(0, inplace = True)"
   ]
  },
  {
   "cell_type": "code",
   "execution_count": 308,
   "metadata": {},
   "outputs": [
    {
     "data": {
      "text/plain": [
       "customer_job\n",
       "etc                               7129\n",
       "engineering                       6342\n",
       "administrative                    3359\n",
       "education                         2287\n",
       "sales                             2218\n",
       "operations                        1961\n",
       "purchasing                        1938\n",
       "information technology            1937\n",
       "business development              1801\n",
       "consulting                        1349\n",
       "arts and design                   1276\n",
       "entrepreneurship                  1192\n",
       "marketing                         1161\n",
       "program and project management     948\n",
       "media and communication            709\n",
       "healthcare services                632\n",
       "product management                 573\n",
       "finance                            463\n",
       "accounting                         396\n",
       "support                            358\n",
       "graphic/color art                  331\n",
       "real estate                        295\n",
       "film production                    241\n",
       "3d/vfx art                         235\n",
       "clinical specialist                227\n",
       "radiology professional             207\n",
       "medical imaging specialist         198\n",
       "legal                              155\n",
       "medical solution provider          148\n",
       "community and social services      137\n",
       "research                           134\n",
       "surgery professional               118\n",
       "human resources                    111\n",
       "Name: count, dtype: int64"
      ]
     },
     "execution_count": 308,
     "metadata": {},
     "output_type": "execute_result"
    }
   ],
   "source": [
    "df['customer_job'].value_counts().head(33) # 레이블인코딩"
   ]
  },
  {
   "cell_type": "code",
   "execution_count": 305,
   "metadata": {},
   "outputs": [],
   "source": [
    "df['customer_job'] = df['customer_job'].replace(['other', 'others'], 'etc')\n",
    "# 값의 빈도 계산\n",
    "value_counts = df['customer_job'].value_counts()\n",
    "values_to_replace = value_counts[value_counts < 100].index\n",
    "df['customer_job'] = df['customer_job'].apply(lambda x: 'etc' if x in values_to_replace else x)"
   ]
  },
  {
   "cell_type": "code",
   "execution_count": 309,
   "metadata": {},
   "outputs": [
    {
     "data": {
      "text/plain": [
       "lead_desc_length\n",
       "3      10378\n",
       "14      3180\n",
       "2        934\n",
       "10       891\n",
       "4        884\n",
       "       ...  \n",
       "824        1\n",
       "559        1\n",
       "676        1\n",
       "907        1\n",
       "726        1\n",
       "Name: count, Length: 909, dtype: int64"
      ]
     },
     "execution_count": 309,
     "metadata": {},
     "output_type": "execute_result"
    }
   ],
   "source": [
    "df['lead_desc_length'].value_counts()"
   ]
  },
  {
   "cell_type": "code",
   "execution_count": 324,
   "metadata": {},
   "outputs": [],
   "source": [
    "df['customer_country'] = df['customer_country'].str.lower()\n",
    "df['country'] = df['customer_country'].apply(lambda x : str(x).split('/')[-1])"
   ]
  },
  {
   "cell_type": "code",
   "execution_count": 327,
   "metadata": {},
   "outputs": [],
   "source": [
    "df['country'].to_csv('country.csv')"
   ]
  },
  {
   "cell_type": "code",
   "execution_count": 318,
   "metadata": {},
   "outputs": [
    {
     "data": {
      "text/plain": [
       "0        /Quezon City/Philippines\n",
       "1              /PH-00/Philippines\n",
       "2                 /Kolkata /India\n",
       "3              /Bhubaneswar/India\n",
       "4                /Hyderabad/India\n",
       "                   ...           \n",
       "59293             /Sląskie/Poland\n",
       "59295        /Bogotá DC /Colombia\n",
       "59296                 /Pisco/Peru\n",
       "59297    /santa cruz bolivia/Peru\n",
       "59298               /paris/France\n",
       "Name: customer_country, Length: 15400, dtype: object"
      ]
     },
     "execution_count": 318,
     "metadata": {},
     "output_type": "execute_result"
    }
   ],
   "source": [
    "country = df['customer_country'].drop_duplicates()\n",
    "country"
   ]
  },
  {
   "cell_type": "code",
   "execution_count": 333,
   "metadata": {},
   "outputs": [],
   "source": [
    "country = df['customer_country'].apply(lambda x : str(x).split('/')[-1])\n",
    "country = country.replace('.*united states.*', 'usa', regex = True)"
   ]
  },
  {
   "cell_type": "code",
   "execution_count": 334,
   "metadata": {},
   "outputs": [
    {
     "data": {
      "text/plain": [
       "0        philippines\n",
       "1        philippines\n",
       "2              india\n",
       "3              india\n",
       "4              india\n",
       "            ...     \n",
       "59294         poland\n",
       "59295       colombia\n",
       "59296           peru\n",
       "59297           peru\n",
       "59298         france\n",
       "Name: customer_country, Length: 59299, dtype: object"
      ]
     },
     "execution_count": 334,
     "metadata": {},
     "output_type": "execute_result"
    }
   ],
   "source": [
    "country"
   ]
  },
  {
   "cell_type": "code",
   "execution_count": 330,
   "metadata": {},
   "outputs": [
    {
     "data": {
      "text/plain": [
       "0        philippines\n",
       "1        philippines\n",
       "2              india\n",
       "3              india\n",
       "4              india\n",
       "            ...     \n",
       "59294         poland\n",
       "59295       colombia\n",
       "59296           peru\n",
       "59297           peru\n",
       "59298         france\n",
       "Name: customer_country, Length: 59299, dtype: object"
      ]
     },
     "execution_count": 330,
     "metadata": {},
     "output_type": "execute_result"
    }
   ],
   "source": [
    "df['customer_country'].apply(lambda x : str(x).split('/')[-1]).replace('.*united states.*', 'usa', regex = True)"
   ]
  },
  {
   "cell_type": "code",
   "execution_count": null,
   "metadata": {},
   "outputs": [],
   "source": [
    "df['customer_country'].fillna('', inplace=True)"
   ]
  },
  {
   "cell_type": "code",
   "execution_count": null,
   "metadata": {},
   "outputs": [],
   "source": [
    "df['country'] = df['customer_country'].apply(lambda x : str(x).split('/')[-1])\n",
    "df.drop(columns=['customer_country'], inplace= True)"
   ]
  },
  {
   "cell_type": "code",
   "execution_count": null,
   "metadata": {},
   "outputs": [],
   "source": [
    "df['com_reg_ver_win_rate'].fillna(0, inplace=True)"
   ]
  },
  {
   "cell_type": "code",
   "execution_count": null,
   "metadata": {},
   "outputs": [
    {
     "data": {
      "text/plain": [
       "array(['AS', 'ID', 'IT', 'Solution', 'CM'], dtype=object)"
      ]
     },
     "execution_count": 96,
     "metadata": {},
     "output_type": "execute_result"
    }
   ],
   "source": [
    "df['business_unit'].unique()"
   ]
  },
  {
   "cell_type": "code",
   "execution_count": null,
   "metadata": {},
   "outputs": [
    {
     "data": {
      "text/plain": [
       "bant_submit                    0\n",
       "customer_country               0\n",
       "business_unit                  0\n",
       "com_reg_ver_win_rate           0\n",
       "customer_idx                   0\n",
       "customer_type              43961\n",
       "enterprise                     0\n",
       "historical_existing_cnt    45543\n",
       "id_strategic_ver               0\n",
       "it_strategic_ver               0\n",
       "idit_strategic_ver             0\n",
       "customer_job               18733\n",
       "lead_desc_length               0\n",
       "inquiry_type                 941\n",
       "product_category           19374\n",
       "product_subcategory        50064\n",
       "product_modelname          50070\n",
       "customer_position              0\n",
       "response_corporate             0\n",
       "expected_timeline          30863\n",
       "ver_cus                        0\n",
       "ver_pro                        0\n",
       "ver_win_rate_x             40882\n",
       "ver_win_ratio_per_bu       43995\n",
       "business_area              40882\n",
       "business_subarea           53773\n",
       "lead_owner                     0\n",
       "is_converted                   0\n",
       "dtype: int64"
      ]
     },
     "execution_count": 93,
     "metadata": {},
     "output_type": "execute_result"
    }
   ],
   "source": [
    "df.isna().sum()"
   ]
  },
  {
   "cell_type": "code",
   "execution_count": null,
   "metadata": {},
   "outputs": [
    {
     "data": {
      "text/plain": [
       "357"
      ]
     },
     "execution_count": 70,
     "metadata": {},
     "output_type": "execute_result"
    }
   ],
   "source": [
    "df['product_category'].nunique()"
   ]
  },
  {
   "cell_type": "code",
   "execution_count": null,
   "metadata": {},
   "outputs": [],
   "source": [
    "df['customer_type'] = df['customer_type'].str.lower()"
   ]
  },
  {
   "cell_type": "code",
   "execution_count": null,
   "metadata": {},
   "outputs": [
    {
     "data": {
      "text/plain": [
       "array(['end-customer', 'end customer', 'end-user', 'commercial end-user'],\n",
       "      dtype=object)"
      ]
     },
     "execution_count": 55,
     "metadata": {},
     "output_type": "execute_result"
    }
   ],
   "source": [
    "df[df['customer_type'].str.contains('end') == True]['customer_type'].unique()"
   ]
  },
  {
   "cell_type": "code",
   "execution_count": null,
   "metadata": {},
   "outputs": [
    {
     "data": {
      "text/plain": [
       "array(['specifier/ influencer', 'specifier / influencer'], dtype=object)"
      ]
     },
     "execution_count": 57,
     "metadata": {},
     "output_type": "execute_result"
    }
   ],
   "source": [
    "df[df['customer_type'].str.contains('influencer') == True]['customer_type'].unique()"
   ]
  },
  {
   "cell_type": "code",
   "execution_count": null,
   "metadata": {},
   "outputs": [
    {
     "data": {
      "text/plain": [
       "array(['service partner', 'channel partner', 'solution eco-partner'],\n",
       "      dtype=object)"
      ]
     },
     "execution_count": 58,
     "metadata": {},
     "output_type": "execute_result"
    }
   ],
   "source": [
    "df[df['customer_type'].str.contains('partner') == True]['customer_type'].unique()"
   ]
  },
  {
   "cell_type": "code",
   "execution_count": null,
   "metadata": {},
   "outputs": [
    {
     "data": {
      "text/plain": [
       "array(['engineer', 'hvac engineer'], dtype=object)"
      ]
     },
     "execution_count": 59,
     "metadata": {},
     "output_type": "execute_result"
    }
   ],
   "source": [
    "df[df['customer_type'].str.contains('engineer') == True]['customer_type'].unique()"
   ]
  },
  {
   "cell_type": "code",
   "execution_count": null,
   "metadata": {},
   "outputs": [
    {
     "data": {
      "text/plain": [
       "0         True\n",
       "1         True\n",
       "2         True\n",
       "3         True\n",
       "4        False\n",
       "         ...  \n",
       "59294     True\n",
       "59295    False\n",
       "59296    False\n",
       "59297      NaN\n",
       "59298      NaN\n",
       "Name: customer_type, Length: 59299, dtype: object"
      ]
     },
     "execution_count": 46,
     "metadata": {},
     "output_type": "execute_result"
    }
   ],
   "source": [
    "df['customer_type'].str.lower().str.contains('end')"
   ]
  },
  {
   "cell_type": "code",
   "execution_count": null,
   "metadata": {},
   "outputs": [
    {
     "data": {
      "text/plain": [
       "country\n",
       "india             16578\n",
       "brazil             8676\n",
       "united states      3767\n",
       "                   2980\n",
       "mexico             2749\n",
       "philippines        2538\n",
       "colombia           1963\n",
       "u.a.e              1617\n",
       "united kingdom     1487\n",
       "saudi arabia       1464\n",
       "chile              1221\n",
       "italy              1142\n",
       "peru               1135\n",
       "germany             894\n",
       "poland              822\n",
       "egypt               622\n",
       "vietnam             597\n",
       "spain               561\n",
       "argentina           495\n",
       "hong kong           391\n",
       "Name: count, dtype: int64"
      ]
     },
     "execution_count": 84,
     "metadata": {},
     "output_type": "execute_result"
    }
   ],
   "source": [
    "df['country'] = df['country'].str.lower()\n",
    "df['country'].value_counts().head(20)"
   ]
  },
  {
   "cell_type": "code",
   "execution_count": null,
   "metadata": {},
   "outputs": [
    {
     "data": {
      "text/plain": [
       "17"
      ]
     },
     "execution_count": 88,
     "metadata": {},
     "output_type": "execute_result"
    }
   ],
   "source": [
    "df[df['country'].str.contains('united states') == True]['country'].count()"
   ]
  },
  {
   "cell_type": "code",
   "execution_count": 288,
   "metadata": {},
   "outputs": [],
   "source": [
    "test = pd.read_csv('data/submission.csv')"
   ]
  }
 ],
 "metadata": {
  "kernelspec": {
   "display_name": "base",
   "language": "python",
   "name": "python3"
  },
  "language_info": {
   "codemirror_mode": {
    "name": "ipython",
    "version": 3
   },
   "file_extension": ".py",
   "mimetype": "text/x-python",
   "name": "python",
   "nbconvert_exporter": "python",
   "pygments_lexer": "ipython3",
   "version": "3.11.3"
  }
 },
 "nbformat": 4,
 "nbformat_minor": 2
}
