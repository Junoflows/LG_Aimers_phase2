{
 "cells": [
  {
   "cell_type": "markdown",
   "id": "d918465c",
   "metadata": {},
   "source": [
    "## 1. Import Library and define function "
   ]
  },
  {
   "cell_type": "code",
   "execution_count": 1,
   "id": "ae3dbbd2",
   "metadata": {},
   "outputs": [
    {
     "name": "stderr",
     "output_type": "stream",
     "text": [
      "c:\\Users\\User\\anaconda3\\lib\\site-packages\\pandas\\core\\arrays\\masked.py:60: UserWarning: Pandas requires version '1.3.6' or newer of 'bottleneck' (version '1.3.5' currently installed).\n",
      "  from pandas.core import (\n"
     ]
    }
   ],
   "source": [
    "import pandas as pd\n",
    "import numpy as np\n",
    "import seaborn as sns\n",
    "import matplotlib.pyplot as plt\n",
    "import warnings\n",
    "warnings.filterwarnings(action='ignore')\n",
    "from sklearn.metrics import (\n",
    "    accuracy_score,\n",
    "    confusion_matrix,\n",
    "    f1_score,\n",
    "    precision_score,\n",
    "    recall_score\n",
    ")\n",
    "from sklearn.model_selection import train_test_split\n",
    "from sklearn.tree import DecisionTreeClassifier"
   ]
  },
  {
   "cell_type": "code",
   "execution_count": 2,
   "id": "e0762d4b",
   "metadata": {},
   "outputs": [],
   "source": [
    "def get_clf_eval(y_test, y_pred=None):\n",
    "    confusion = pd.DataFrame(confusion_matrix(y_test, y_pred), index = ['T[0]', 'F[1]'], columns = ['pred_T[0]', 'pred_F[1]'])\n",
    "    accuracy = accuracy_score(y_test, y_pred)\n",
    "    precision = precision_score(y_test, y_pred, labels=[True, False])\n",
    "    recall = recall_score(y_test, y_pred)\n",
    "    F1 = f1_score(y_test, y_pred, labels=[True, False])\n",
    "\n",
    "    print(\"오차행렬:\\n\", confusion)\n",
    "    print(\"\\n정확도: {:.4f}\".format(accuracy))\n",
    "    print(\"정밀도: {:.4f}\".format(precision))\n",
    "    print(\"재현율: {:.4f}\".format(recall))\n",
    "    print(\"F1: {:.4f}\".format(F1))"
   ]
  },
  {
   "cell_type": "code",
   "execution_count": 3,
   "id": "86a1b869",
   "metadata": {},
   "outputs": [],
   "source": [
    "def label_encoding(series: pd.Series) -> pd.Series:\n",
    "    \"\"\"범주형 데이터를 시리즈 형태로 받아 숫자형 데이터로 변환합니다.\"\"\"\n",
    "\n",
    "    my_dict = {}\n",
    "\n",
    "    # 모든 요소를 문자열로 변환\n",
    "    series = series.astype(str)\n",
    "\n",
    "    for idx, value in enumerate(sorted(series.unique())):\n",
    "        my_dict[value] = idx + 1\n",
    "    series = series.map(my_dict)\n",
    "\n",
    "    return series"
   ]
  },
  {
   "cell_type": "markdown",
   "id": "175f2057",
   "metadata": {},
   "source": [
    "### 1.1 load data"
   ]
  },
  {
   "cell_type": "code",
   "execution_count": 4,
   "id": "70466a3c",
   "metadata": {},
   "outputs": [
    {
     "data": {
      "text/plain": [
       "((64570, 30), (59299, 29), (5271, 30))"
      ]
     },
     "execution_count": 4,
     "metadata": {},
     "output_type": "execute_result"
    }
   ],
   "source": [
    "df_train = pd.read_csv(\"data/train.csv\")\n",
    "df_test = pd.read_csv(\"data/submission.csv\")\n",
    "df_all = pd.concat([df_train, df_test], axis = 0)\n",
    "df_all.shape, df_train.shape, df_test.shape"
   ]
  },
  {
   "cell_type": "markdown",
   "id": "db4d8fa5",
   "metadata": {},
   "source": [
    "## 2. EDA & Data preprocessing"
   ]
  },
  {
   "cell_type": "markdown",
   "id": "187f2239",
   "metadata": {},
   "source": [
    "### 2.1 EDA"
   ]
  },
  {
   "cell_type": "code",
   "execution_count": 5,
   "id": "a32caa5d",
   "metadata": {},
   "outputs": [
    {
     "data": {
      "text/plain": [
       "bant_submit                    0\n",
       "customer_country             982\n",
       "business_unit                  0\n",
       "com_reg_ver_win_rate       48214\n",
       "customer_idx                   0\n",
       "customer_type              45418\n",
       "enterprise                     0\n",
       "historical_existing_cnt    49539\n",
       "id_strategic_ver           60533\n",
       "it_strategic_ver           63396\n",
       "idit_strategic_ver         59359\n",
       "customer_job               20172\n",
       "lead_desc_length               0\n",
       "inquiry_type                2233\n",
       "product_category           21232\n",
       "product_subcategory        54542\n",
       "product_modelname          54779\n",
       "customer_country.1           982\n",
       "customer_position              0\n",
       "response_corporate             0\n",
       "expected_timeline          33271\n",
       "ver_cus                        0\n",
       "ver_pro                        0\n",
       "ver_win_rate_x             43780\n",
       "ver_win_ratio_per_bu       47360\n",
       "business_area              43780\n",
       "business_subarea           57228\n",
       "lead_owner                     0\n",
       "is_converted                5271\n",
       "id                         59299\n",
       "dtype: int64"
      ]
     },
     "execution_count": 5,
     "metadata": {},
     "output_type": "execute_result"
    }
   ],
   "source": [
    "df_all.isnull().sum()"
   ]
  },
  {
   "cell_type": "code",
   "execution_count": 6,
   "id": "b8b6447d",
   "metadata": {},
   "outputs": [
    {
     "name": "stdout",
     "output_type": "stream",
     "text": [
      "<class 'pandas.core.frame.DataFrame'>\n",
      "Index: 64570 entries, 0 to 5270\n",
      "Data columns (total 30 columns):\n",
      " #   Column                   Non-Null Count  Dtype  \n",
      "---  ------                   --------------  -----  \n",
      " 0   bant_submit              64570 non-null  float64\n",
      " 1   customer_country         63588 non-null  object \n",
      " 2   business_unit            64570 non-null  object \n",
      " 3   com_reg_ver_win_rate     16356 non-null  float64\n",
      " 4   customer_idx             64570 non-null  int64  \n",
      " 5   customer_type            19152 non-null  object \n",
      " 6   enterprise               64570 non-null  object \n",
      " 7   historical_existing_cnt  15031 non-null  float64\n",
      " 8   id_strategic_ver         4037 non-null   float64\n",
      " 9   it_strategic_ver         1174 non-null   float64\n",
      " 10  idit_strategic_ver       5211 non-null   float64\n",
      " 11  customer_job             44398 non-null  object \n",
      " 12  lead_desc_length         64570 non-null  int64  \n",
      " 13  inquiry_type             62337 non-null  object \n",
      " 14  product_category         43338 non-null  object \n",
      " 15  product_subcategory      10028 non-null  object \n",
      " 16  product_modelname        9791 non-null   object \n",
      " 17  customer_country.1       63588 non-null  object \n",
      " 18  customer_position        64570 non-null  object \n",
      " 19  response_corporate       64570 non-null  object \n",
      " 20  expected_timeline        31299 non-null  object \n",
      " 21  ver_cus                  64570 non-null  int64  \n",
      " 22  ver_pro                  64570 non-null  int64  \n",
      " 23  ver_win_rate_x           20790 non-null  float64\n",
      " 24  ver_win_ratio_per_bu     17210 non-null  float64\n",
      " 25  business_area            20790 non-null  object \n",
      " 26  business_subarea         7342 non-null   object \n",
      " 27  lead_owner               64570 non-null  int64  \n",
      " 28  is_converted             59299 non-null  object \n",
      " 29  id                       5271 non-null   float64\n",
      "dtypes: float64(9), int64(5), object(16)\n",
      "memory usage: 15.3+ MB\n"
     ]
    }
   ],
   "source": [
    "df_all.info()"
   ]
  },
  {
   "cell_type": "code",
   "execution_count": 7,
   "id": "99e5fefa",
   "metadata": {},
   "outputs": [
    {
     "data": {
      "image/png": "[encoded data removed]",
      "text/plain": [
       "<Figure size 640x480 with 1 Axes>"
      ]
     },
     "metadata": {},
     "output_type": "display_data"
    }
   ],
   "source": [
    "# 클래스 불균형이 심한 데이터\n",
    "sns.barplot(x = df_all.is_converted.value_counts().index, y = df_all.is_converted.value_counts().values, palette = ['blue', 'red'])\n",
    "plt.show()"
   ]
  },
  {
   "cell_type": "code",
   "execution_count": 8,
   "id": "b6363c07",
   "metadata": {},
   "outputs": [
    {
     "data": {
      "text/plain": [
       "is_converted\n",
       "0.0    54449\n",
       "1.0     4850\n",
       "Name: count, dtype: int64"
      ]
     },
     "execution_count": 8,
     "metadata": {},
     "output_type": "execute_result"
    }
   ],
   "source": [
    "df_all.is_converted.value_counts()"
   ]
  },
  {
   "cell_type": "markdown",
   "id": "cef3713b",
   "metadata": {},
   "source": [
    "범주형 변수 데이터 확인"
   ]
  },
  {
   "cell_type": "code",
   "execution_count": 9,
   "id": "99802c57",
   "metadata": {},
   "outputs": [
    {
     "data": {
      "text/plain": [
       "customer_country\n",
       "//India                3055\n",
       "/São Paulo/Brazil      1376\n",
       "//United States        1122\n",
       "//United Kingdom        807\n",
       "//Saudi Arabia          719\n",
       "                       ... \n",
       "/Bulandshahar/India       1\n",
       "/india delhi/India        1\n",
       "/gurugram /India          1\n",
       "/Male' /U.A.E             1\n",
       "/ Ongole  / India         1\n",
       "Name: count, Length: 17480, dtype: int64"
      ]
     },
     "execution_count": 9,
     "metadata": {},
     "output_type": "execute_result"
    }
   ],
   "source": [
    "df_all.customer_country.value_counts()"
   ]
  },
  {
   "cell_type": "code",
   "execution_count": 10,
   "id": "6e168aeb",
   "metadata": {},
   "outputs": [
    {
     "data": {
      "text/plain": [
       "customer_type\n",
       "End-Customer                    6648\n",
       "End Customer                    6449\n",
       "Specifier/ Influencer           3313\n",
       "Channel Partner                 1695\n",
       "Service Partner                  447\n",
       "Solution Eco-Partner             292\n",
       "Installer/Contractor              52\n",
       "Specifier / Influencer            43\n",
       "Corporate                         31\n",
       "HVAC Engineer                     23\n",
       "Engineer                          20\n",
       "Developer                         18\n",
       "Technician                        16\n",
       "Consultant                        15\n",
       "Other                             10\n",
       "Home Owner                        10\n",
       "End-user                           8\n",
       "Manager / Director                 8\n",
       "Software/Solution Provider         7\n",
       "Etc.                               6\n",
       "Architect/Consultant               5\n",
       "Homeowner                          5\n",
       "Reseller                           5\n",
       "Installer                          5\n",
       "Interior Designer                  5\n",
       "Distributor                        4\n",
       "Others                             4\n",
       "Dealer/Distributor                 2\n",
       "System Integrator                  2\n",
       "Software / Solution Provider       1\n",
       "Technical Assistant                1\n",
       "Commercial end-user                1\n",
       "Administrator                      1\n",
       "Name: count, dtype: int64"
      ]
     },
     "execution_count": 10,
     "metadata": {},
     "output_type": "execute_result"
    }
   ],
   "source": [
    "df_all.customer_type.value_counts()"
   ]
  },
  {
   "cell_type": "code",
   "execution_count": 11,
   "id": "c0d892dc",
   "metadata": {},
   "outputs": [
    {
     "data": {
      "text/plain": [
       "customer_job\n",
       "engineering             7070\n",
       "other                   4876\n",
       "administrative          3666\n",
       "education               2695\n",
       "sales                   2380\n",
       "                        ... \n",
       "appliance specialist       1\n",
       "av estimator               1\n",
       "purchasers                 1\n",
       "pricing                    1\n",
       "k12 school                 1\n",
       "Name: count, Length: 562, dtype: int64"
      ]
     },
     "execution_count": 11,
     "metadata": {},
     "output_type": "execute_result"
    }
   ],
   "source": [
    "df_all.customer_job.value_counts()"
   ]
  },
  {
   "cell_type": "code",
   "execution_count": 12,
   "id": "6638c836",
   "metadata": {},
   "outputs": [
    {
     "data": {
      "text/plain": [
       "inquiry_type\n",
       "Quotation or purchase consultation                                                                                     23274\n",
       "Quotation or Purchase Consultation                                                                                     22231\n",
       "Sales Inquiry                                                                                                           9977\n",
       "Product Information                                                                                                     1305\n",
       "Other                                                                                                                    938\n",
       "                                                                                                                       ...  \n",
       "quotation_                                                                                                                 1\n",
       "display product                                                                                                            1\n",
       "first Info and pricing                                                                                                     1\n",
       "estoy buscando para Ecuador este producto LG MAGNIT micro LED, para un cliente de 138 pulgadas, con envió marítimo.        1\n",
       "Evento_SdelEstero                                                                                                          1\n",
       "Name: count, Length: 71, dtype: int64"
      ]
     },
     "execution_count": 12,
     "metadata": {},
     "output_type": "execute_result"
    }
   ],
   "source": [
    "df_all.inquiry_type.value_counts()"
   ]
  },
  {
   "cell_type": "markdown",
   "id": "4d0bfe59",
   "metadata": {},
   "source": [
    "수치형 변수"
   ]
  },
  {
   "cell_type": "code",
   "execution_count": 13,
   "id": "af70dc96",
   "metadata": {},
   "outputs": [
    {
     "data": {
      "text/plain": [
       "<Axes: xlabel='bant_submit'>"
      ]
     },
     "execution_count": 13,
     "metadata": {},
     "output_type": "execute_result"
    },
    {
     "data": {
      "image/png": "[encoded data removed]",
      "text/plain": [
       "<Figure size 640x480 with 1 Axes>"
      ]
     },
     "metadata": {},
     "output_type": "display_data"
    }
   ],
   "source": [
    "sns.barplot(x = df_all.bant_submit.value_counts().index, y = df_all.bant_submit.value_counts().values)"
   ]
  },
  {
   "cell_type": "code",
   "execution_count": 14,
   "id": "9279a3fd",
   "metadata": {},
   "outputs": [
    {
     "data": {
      "image/png": "[encoded data removed]",
      "text/plain": [
       "<Figure size 1000x800 with 2 Axes>"
      ]
     },
     "metadata": {},
     "output_type": "display_data"
    }
   ],
   "source": [
    "corr_mat = df_all.select_dtypes(include=['float64', 'int64']).corr().fillna(0)\n",
    "plt.figure(figsize=(10, 8))\n",
    "sns.heatmap(corr_mat, annot = True, cmap = 'RdBu_r')\n",
    "plt.show()"
   ]
  },
  {
   "cell_type": "markdown",
   "id": "7b298125",
   "metadata": {},
   "source": [
    "### 2.1 drop columns"
   ]
  },
  {
   "cell_type": "code",
   "execution_count": 15,
   "id": "3d3dec85",
   "metadata": {},
   "outputs": [],
   "source": [
    "# 열 삭제\n",
    "drop_col = ['customer_country.1', 'id_strategic_ver', 'it_strategic_ver', 'idit_strategic_ver',\n",
    "            'product_subcategory', 'product_modelname', 'business_area', 'business_subarea', 'ver_cus', 'ver_pro']\n",
    "\n",
    "df_all.drop(columns = drop_col, inplace = True)"
   ]
  },
  {
   "cell_type": "markdown",
   "id": "07131d77",
   "metadata": {},
   "source": [
    "### 2.2 결측치 처리(수치형 데이터)"
   ]
  },
  {
   "cell_type": "code",
   "execution_count": 16,
   "id": "60e186fc",
   "metadata": {},
   "outputs": [],
   "source": [
    "# 결측값 0으로 넣을 컬럼\n",
    "fillna_col = ['com_reg_ver_win_rate', 'historical_existing_cnt',\n",
    "             'ver_win_rate_x', 'ver_win_ratio_per_bu']\n",
    "\n",
    "for col in fillna_col:\n",
    "    df_all[col] = df_all[col].fillna(0)"
   ]
  },
  {
   "cell_type": "code",
   "execution_count": 17,
   "id": "f59eac6b",
   "metadata": {},
   "outputs": [],
   "source": [
    "df_all['customer_country'] = df_all['customer_country'].apply(lambda x: x.rsplit('/', 1)[-1].strip() if isinstance(x, str) else x)"
   ]
  },
  {
   "cell_type": "code",
   "execution_count": 18,
   "id": "a8f03f9d",
   "metadata": {},
   "outputs": [],
   "source": [
    "df_all['customer_type'] = df_all['customer_type'].str.lower()\n",
    "df_all['customer_type'] = df_all['customer_type'].replace(['etc.', 'other', 'others'], 'etc')\n",
    "df_all['customer_type'] = df_all['customer_type'].replace(['end-customer', 'end customer', 'end-user'], 'end_user')\n",
    "df_all['customer_type'] = df_all['customer_type'].replace(['specifier/ influencer', 'specifier / influencer'], 'influencer')\n",
    "df_all['customer_type'] = df_all['customer_type'].replace(['homeowner', 'home owner'], 'home_owner')\n",
    "df_all['customer_type'] = df_all['customer_type'].replace(['software/solution provider', 'software / solution provider'], 'solution_provider')\n",
    "df_all['customer_type'] = df_all['customer_type'].replace(['engineer', 'hvac engineer'], 'engineer')\n",
    "df_all['customer_type'] = df_all['customer_type'].replace(['distributor', 'dealer/distributor'], 'distributor')\n",
    "df_all['customer_type'].fillna('none', inplace = True)"
   ]
  },
  {
   "cell_type": "code",
   "execution_count": 19,
   "id": "37be1f61",
   "metadata": {},
   "outputs": [],
   "source": [
    "# value_counts 가 1개인 것들 etc로 분류\n",
    "value_counts = df_all['customer_type'].value_counts()\n",
    "values_to_replace = value_counts[value_counts == 1].index\n",
    "df_all['customer_type'] = df_all['customer_type'].apply(lambda x: 'etc' if x in values_to_replace else x)"
   ]
  },
  {
   "cell_type": "code",
   "execution_count": 20,
   "id": "d3bb507b",
   "metadata": {},
   "outputs": [],
   "source": [
    "df_all['inquiry_type'] = df_all['inquiry_type'].str.lower()\n",
    "df_all['inquiry_type'] = df_all['inquiry_type'].replace(['etc.', 'other', 'other_', 'others'], 'etc')\n",
    "df_all['inquiry_type'] = df_all['inquiry_type'].replace(['sales inquiry', 'sales', 'probeam precio'], 'sales inquiry')\n",
    "df_all['inquiry_type'] = df_all['inquiry_type'].replace(['quotation or purchase consultation', 'request for quotation or purchase', 'quotation_or_purchase_consultation', 'purchase or quotation', 'quotation_', 'purchase'], 'quotation_or_purchase_consultation')\n",
    "df_all['inquiry_type'] = df_all['inquiry_type'].replace(['usage or technical consultation', 'technical consultation', 'request for technical consulting', 'usage_or_technical_consultation', 'technical_consultation', 'technical'], 'usage or technical consultation')\n",
    "df_all['inquiry_type'] = df_all['inquiry_type'].replace(['vui lòng báo giá giúp mình sản phẩm đo thân nhiệt xin cảm ơn', 'tôi cần tham khảo giá và giải pháp từ lg'], 'quotation_or_purchase_consultation')\n",
    "df_all['inquiry_type'] = df_all['inquiry_type'].replace(['toi muon tim hieu thong tin ky thuat, gia ca cua sp de su dung'], 'product information')\n",
    "df_all['inquiry_type'].fillna('none', inplace = True)"
   ]
  },
  {
   "cell_type": "code",
   "execution_count": 21,
   "id": "f8fbee7f",
   "metadata": {},
   "outputs": [],
   "source": [
    "# value_counts 가 1개인 것들 etc로 분류\n",
    "value_counts = df_all['inquiry_type'].value_counts()\n",
    "values_to_replace = value_counts[value_counts == 1].index\n",
    "df_all['inquiry_type'] = df_all['inquiry_type'].apply(lambda x: 'etc' if x in values_to_replace else x)"
   ]
  },
  {
   "cell_type": "code",
   "execution_count": 22,
   "id": "efe15f7b",
   "metadata": {},
   "outputs": [],
   "source": [
    "# custoper_position 전처리\n",
    "df_all['customer_position'] = df_all['customer_position'].replace(['ceo/founder', 'partner', 'vice president', 'c-level executive', 'director', 'vicepresident', 'c-levelexecutive', 'vp','leadership/executive office/owner', 'president'\n",
    "                                                                   'principal & director', 'business partner', 'chairman', 'co-founder', 'chief executive officer', 'subsidiary sales (ise)', 'ceo/fundador', 'gerente', 'the big boss',\n",
    "                                                                  'principal & director', 'president'], 'ceo')\n",
    "df_all['customer_position'] = df_all['customer_position'].replace(['consultant', 'commercial consultant', 'architecture/consult', 'architect/consultant'], 'consult')\n",
    "df_all['customer_position'] = df_all['customer_position'].replace(['customer', 'customer_position'], 'customer')\n",
    "df_all['customer_position'] = df_all['customer_position'].replace(['decision-influencer', 'decision maker', 'decision influencer'], 'decision')\n",
    "df_all['customer_position'] = df_all['customer_position'].replace(['distributor', 'cargo'], 'distributor')\n",
    "df_all['customer_position'] = df_all['customer_position'].replace(['physics teacher','assistant professor','maths lecturer','science teacher','guest faculty','physics faculty','teacher/middle school coordinator','prof.',\n",
    "                                                                   'academic specialist','principal at oxford integrated pu science college','math and physics teacher','professor of mathematics','physics and mathematics teacher',\n",
    "                                                                   'assistant professor of english','educator','professor','quantitative aptitude faculty','english trainer for ielts,toefl,pte,gre,sat exams.','associate professor',\n",
    "                                                                   'pgt physics','education professional','chemistry teacher','director cum faculty at gaining apex coaching centre','teacher','senior lecturer',\n",
    "                                                                   'neet/ olympiad expert faculty','associate professor in electronics engg','education','pgt chemistry', \n",
    "                                                                   'academic coordinator/ post graduate teacher (accountancy, business studies)/ tgt (ict)','assistant professor of enlish'], 'education')\n",
    "df_all['customer_position'] = df_all['customer_position'].replace(['entry level','intern','trainee','entrylevel','employee'], 'employee')\n",
    "\n",
    "df_all['customer_position'] = df_all['customer_position'].replace(['exhibition','exhibitiontv'], 'exhibition')\n",
    "df_all['customer_position'] = df_all['customer_position'].replace(['hospital', 'medical device manufacturer', 'medical imaging specialist', 'tierarzt', 'surgery professional', 'pathologist'], 'medical')\n",
    "df_all['customer_position'] = df_all['customer_position'].replace(['not applicable','none','other','others'], 'etc')\n",
    "df_all['customer_position'] = df_all['customer_position'].replace(['manager','associate/analyst','consulting','lider de desarrollo','decision-maker','business unit director','business development','operations',\n",
    "                                                                   'product management','market intelligence/research'], 'pm')\n",
    "df_all['customer_position'] = df_all['customer_position'].replace(['asst prof.','professional trainer','radiology professional'], 'professional')\n",
    "df_all['customer_position'] = df_all['customer_position'].replace(['this is a consume display requirement for home purpose.','unpaid','homeowner','no influence'], 'unemployed')"
   ]
  },
  {
   "cell_type": "code",
   "execution_count": 23,
   "id": "18aafafd",
   "metadata": {},
   "outputs": [],
   "source": [
    "# value_counts가 1인거 etc로 묶기\n",
    "value_counts = df_all['customer_position'].value_counts()\n",
    "values_to_replace = value_counts[value_counts == 1].index\n",
    "df_all['customer_position'] = df_all['customer_position'].apply(lambda x: 'etc' if x in values_to_replace else x)\n",
    "df_all['customer_position'].fillna('none', inplace = True)"
   ]
  },
  {
   "cell_type": "code",
   "execution_count": 24,
   "id": "ad30be33",
   "metadata": {},
   "outputs": [
    {
     "name": "stdout",
     "output_type": "stream",
     "text": [
      "<class 'pandas.core.frame.DataFrame'>\n",
      "Index: 64570 entries, 0 to 5270\n",
      "Data columns (total 20 columns):\n",
      " #   Column                   Non-Null Count  Dtype  \n",
      "---  ------                   --------------  -----  \n",
      " 0   bant_submit              64570 non-null  float64\n",
      " 1   customer_country         63588 non-null  object \n",
      " 2   business_unit            64570 non-null  object \n",
      " 3   com_reg_ver_win_rate     64570 non-null  float64\n",
      " 4   customer_idx             64570 non-null  int64  \n",
      " 5   customer_type            64570 non-null  object \n",
      " 6   enterprise               64570 non-null  object \n",
      " 7   historical_existing_cnt  64570 non-null  float64\n",
      " 8   customer_job             44398 non-null  object \n",
      " 9   lead_desc_length         64570 non-null  int64  \n",
      " 10  inquiry_type             64570 non-null  object \n",
      " 11  product_category         43338 non-null  object \n",
      " 12  customer_position        64570 non-null  object \n",
      " 13  response_corporate       64570 non-null  object \n",
      " 14  expected_timeline        31299 non-null  object \n",
      " 15  ver_win_rate_x           64570 non-null  float64\n",
      " 16  ver_win_ratio_per_bu     64570 non-null  float64\n",
      " 17  lead_owner               64570 non-null  int64  \n",
      " 18  is_converted             59299 non-null  object \n",
      " 19  id                       5271 non-null   float64\n",
      "dtypes: float64(6), int64(3), object(11)\n",
      "memory usage: 10.3+ MB\n"
     ]
    }
   ],
   "source": [
    "df_all.info()"
   ]
  },
  {
   "cell_type": "code",
   "execution_count": 25,
   "id": "e9b8ce43",
   "metadata": {},
   "outputs": [],
   "source": [
    "# 전처리 필요한 4개 컬럼 간단하게\n",
    "value_counts = df_all['customer_job'].value_counts()\n",
    "values_to_replace = value_counts[value_counts == 1].index\n",
    "df_all['customer_job'] = df_all['customer_job'].apply(lambda x: 'other' if x in values_to_replace else x)\n",
    "df_all['customer_job'].fillna('none', inplace = True)\n",
    "\n",
    "value_counts = df_all['product_category'].value_counts()\n",
    "values_to_replace = value_counts[value_counts == 1].index\n",
    "df_all['product_category'] = df_all['product_category'].apply(lambda x: 'etc' if x in values_to_replace else x)\n",
    "df_all['product_category'].fillna('none', inplace = True)\n",
    "\n",
    "value_counts = df_all['customer_country'].value_counts()\n",
    "values_to_replace = value_counts[value_counts == 1].index\n",
    "df_all['customer_country'] = df_all['customer_country'].apply(lambda x: 'etc' if x in values_to_replace else x)\n",
    "df_all['customer_country'].fillna('none', inplace = True)"
   ]
  },
  {
   "cell_type": "code",
   "execution_count": 26,
   "id": "7e421cd0",
   "metadata": {},
   "outputs": [],
   "source": [
    "expected_timeline = df_all['expected_timeline']\n",
    "expected_timeline = expected_timeline.str.replace('-', '')\n",
    "expected_timeline = expected_timeline.str.replace('_', '')\n",
    "expected_timeline = expected_timeline.str.replace('~', '')\n",
    "expected_timeline = expected_timeline.str.replace(' ', '')\n",
    "expected_timeline = expected_timeline.str.replace('.', '')\n",
    "expected_timeline = expected_timeline.str.replace('etc', 'others')"
   ]
  },
  {
   "cell_type": "code",
   "execution_count": 27,
   "id": "55942400",
   "metadata": {},
   "outputs": [],
   "source": [
    "sort_df = expected_timeline.fillna('none')"
   ]
  },
  {
   "cell_type": "code",
   "execution_count": 28,
   "id": "1bc83903",
   "metadata": {},
   "outputs": [
    {
     "data": {
      "text/plain": [
       "42"
      ]
     },
     "execution_count": 28,
     "metadata": {},
     "output_type": "execute_result"
    }
   ],
   "source": [
    "values = ['aggressivepricerequired',\n",
    "       'alreadycloseinjulypurchsewithrd', 'alreadyconnectwithpartner',\n",
    "       'alreadyindiscussionwithpartnerfrombangalore(kohinoor)andwithmr.indraneelfromcorporateoffice',\n",
    "       'alreadyintouchwithcustomer',\n",
    "       'alreadyintouchwithcustomerfromlast10days.droppingitbecausewearealreadyintouch',\n",
    "       'alreadyintouchwithhimsincelong.hehasnotfinalizedyet.leadforwardedtord',\n",
    "       'alreadyintouchwithpartner.', 'alreadyintouchwiththereteam',\n",
    "       'alreadyourcustomer,havesharedpricesfornewrequirement',\n",
    "       'alreadypurchasewithrd', 'alreadysharedquotationthroughsi.',\n",
    "       'alreadytouchwithcustomerforkioskrequirement',\n",
    "       'alreadytouchwithcustomers',\n",
    "       'alreadyworkingonidbwillcreateopppostclarfyingonsignage',\n",
    "       'alreadyworkingwithenduseronthisrequirement.',\n",
    "       'askedtocallbacklater,ihadsharedthisleadwithrdtotakeitfurther.',\n",
    "       'askedtocallbacktomorrow,ihadsharedthisenquirywithrd.',\n",
    "       'askedtocallbacktomorrowmorning,notresponding',\n",
    "       'askedtocalllater.','(selectidtimeline)', '09022022requestedforboqofrequirement',\n",
    "       '14:0015:00',\n",
    "       '14thaugaggressivepricerequiredashehasgotpricefromoutsidedelhi',\n",
    "       '14thfeb2022shareddetails.awaitingupdatefromcustomer.',\n",
    "       '25nov2021nomobilenumber,sentamailtocustomer',\n",
    "       '29thsep2021:nosuchrequirementasofnow', '14thfeb2022shareddetailsawaitingupdatefromcustomer','alreadyintouchwithcustomerfromlast10daysdroppingitbecausewearealreadyintouch',\n",
    "       'alreadyintouchwithhimsincelonghehasnotfinalizedyetleadforwardedtord',\n",
    "       'alreadyintouchwithpartner', 'alreadysharedquotationthroughsi',\n",
    "       'alreadyworkingwithenduseronthisrequirement',\n",
    "       'askedtocallbacklater,ihadsharedthisleadwithrdtotakeitfurther','alreadyindiscussionwithpartnerfrombangalore(kohinoor)andwithmrindraneelfromcorporateoffice',\n",
    "       'askedtocalllater', 'askedtocallon4thmay',\n",
    "       'askedtocontacthimafter8thjan', 'askedtosenddetails',\n",
    "       'askedtosharedetailsonmailhewillupdateifthereisanyrequirement',\n",
    "       'assignedtopartnerintialmeetingdonewillconverttoopppostcompleteinfo',\n",
    "       'atpresentnotrequired,', 'beingfollowedup',\n",
    "       'bodeli,requirementpendingnewquotesendcloseinthismonthend',\n",
    "       'budgetissue', 'budgetlowhenceclienthavenotwentahead',\n",
    "       'budgetproblem', 'busy,calllater', 'busyneedtocallback',\n",
    "       'callafter3june', 'callanddiscusednorequirement',\n",
    "       'callanddiscusedtocustomecustomerwantsdemo',\n",
    "       'callbackagainon30/04', 'callbacklater',\n",
    "       'callbacklater,infirstweekmarch', 'calledtoknowthepriceofidb',\n",
    "       'callnotconnecting', 'callnotpicking',\n",
    "       'clienthaveseenthedemoheneededforbiggerroomandthecameraqualityandspeakertrackingwerethemainrequiredfeatureasofnow,hisbudgetisaround2lacsandneedbiggersizesolutionthereisnoresponsefromclientpostdemohenceclosing',\n",
    "       'clientiscrosscheckingonpricesitsarccaseofsubwayandthefranchiseeistryingtogetpricingfromelsewhere',\n",
    "       'clientisexploringhewilldiscussoncedetailssentdetailsmailedtohimasperrecentdiscussion,heisnotexploringasofnow',\n",
    "       'clientislookingfor86\"displaywithvcsolution,theywillgofordemonextweekanddecideonprocuringourtr3dj,detailssharedwithclientonmail',\n",
    "       'clientisnothavinganyrequirement,hewasonlybrowsingthroughtheproduthenceclosiginsystemalthoughthedetailsofidbaremailedtoclient',\n",
    "       'clientisnotlookingnowandhewasinterestedwithonlyinbuiltopsoptionhenceclosinginsystemasheisnotrespondingtocalls',\n",
    "       'clientisnotrespondingcalls,followingupandkeeptheupdatetracked',\n",
    "       'clientnotanweringcallsandaskedthereisnorequirementhewastryingtocheckpricesforone65touchrequirementofexistingclient',\n",
    "       'clientnotinterestedinproductreceingcallandnotansweringproperly',\n",
    "       'clientshallgetbackforexploringdemoofidb,postthattheywilldecideonprocuringthesame',\n",
    "       'clientwasbusy,askedtocallbacklater,interestedinexploringouridb',\n",
    "       'clientwasdrivingandaskedtocallbacklater,willfolloupandkeepposted',\n",
    "       'clientwasexploringonproductsbuthedonthaveanyplanstopurchasecurrentlyhehaveholdedonhisrequirementandwillconnectifitreiniitaties',\n",
    "       'clientwasinquiringforpricesalreadyquotedbyfewpartnerstheyevenpurchasedasperrecentupdatebutclienthasnotconfiermedpartnername',\n",
    "       'clientwaskeentoexploreouridbsku,infollowup', 'cmsreqired',\n",
    "       'communicationnumbernotavailable',\n",
    "       'concernedpersonnotavailable,willcalllater',\n",
    "       'conference/meetingroom/collaborationspaces',\n",
    "       'connectedwithpartnerforstudiosetupwithcamera',\n",
    "       'connectingforissue', 'connectwithpartner',\n",
    "       'contactdetailsprovidedarewrong,sentmailforcorrectcontactdetails',\n",
    "       'convertedthisleadintoopportunity', \"couldn'tconect\",\n",
    "       \"couldn'tconnect\", 'couldntconnect',\n",
    "       'customehasnotreceivecallason31stmayspokewithcustomer,hewillcomefordemoinnextweek14062022',\n",
    "       'customepurchaseconsumerproduct', 'customerasktocallbacktomorrow',\n",
    "       'customerbudgetis125+taxfor75inchidbihavegivenournoregretofferandalsoexplainedwhylgisbetterandpremiumhesaidhewillcomebackinadayortwo',\n",
    "       'customergettingpricefromjaipurwhichlowthanouroperatingprice',\n",
    "       'customerhasbeennotansweringcall', 'customerhasnotansweringcall',\n",
    "       'customerhasnotansweringcall/customerwant86\"interactivedisplay,hewillpurchasewithinnext6month,weareforwardingtolocalrdtotakethisfurther',\n",
    "       'customerhasnotansweringcall/quotationhasbeensendtocustomer',\n",
    "       'customerisbusyaskustocallagain,following',\n",
    "       'customerislookingforresidential43inchdisplayforhomeuse',\n",
    "       'customerneedshortthrowprojector',\n",
    "       'customernotansweringcall,willcallhimagainandupdate',\n",
    "       'customerphoneisgetsswitchedoff',\n",
    "       'customerpurchasebenqforpricedifferance',\n",
    "       'customervisitatuvbusinessandseethedemowithin2to3days',\n",
    "       'customerwantdemoofidbhewillcomefordemoinnextweekafterfollowingupwithcustomermultipletimesthereisnoupdateleadhasbeenforwardedtord',\n",
    "       'customerwantproductt15000',\n",
    "       'customerwillbecomingfordemoon28thmaycustomerdidnotcamefordemoihaveshareddetailswithrdtotakeitfurtherhencedroppingthislead',\n",
    "       'customerwillcomefordemoinnextweek,thanhewilldecidefurther',\n",
    "       'december2022', 'delhienquirey', 'demoalignedforclient',\n",
    "       'democompleted,customeraskedtocomefeb10thforclosure', 'demodone',\n",
    "       'demodoneanddetailsshared',\n",
    "       'demoplanned,willupdatefurtherstatusonceitscompleted',\n",
    "       'demoscheduledfor24thoct', 'demoscheduledforfirstweekfeb',\n",
    "       'demotobealigned', 'demotobeplanned',\n",
    "       'detailsharedwithhimonemailheislookingforoneunitof65inchforhisconferenceroom',\n",
    "       'detailssend', 'detailssendquoterequire', 'detailssendrequiredemo',\n",
    "       'detailsshared', 'detailsshared,beingfollowedup',\n",
    "       'detailsshared,toplandemoindecember',\n",
    "       'detailssharedfollowupunderprogress',\n",
    "       'detailssharedfor75tr,followupinfirstweekofoct',\n",
    "       'detailssharedfuunderprogress',\n",
    "       \"detailssharedonwhatsapp,he'llrevertback\",\n",
    "       'detailssharedwithconcernpersonwillaskbdotofollowup',\n",
    "       'detailssharedwithcustomer,alsoihadsharedleadwithrdtotakeitfurther',\n",
    "       'detailssharedwithcustomer,hewillupdateonfurtheractionafterevaluatingotherbrandsaswell',\n",
    "       'detailssharedwithcustomerason4thmaytriedmultipletimesbutnotreachable',\n",
    "       'detailssharedwithcustomeronmai',\n",
    "       'detailssharedwithcustomeronmail',\n",
    "       'detailssharedwithpartnerhehasquotedinourexistingcustomeronly',\n",
    "       'detailssharedwithrdforfurtheraction,',\n",
    "       'dicsussedwithclient,detailssharedonmail,clienthavenobudgetstobuynowhenceclosinginthesystem',\n",
    "       \"didn'tpickupthecall\", \"didn'trespond\", \"didn'trespondtocalls\",\n",
    "       \"dind'trespond\", 'discusedwithankitindehli',\n",
    "       'discussedandshareddetailswithclientfordigitalsignagetheyarenotplanningtopurchsethesamecurrentlyhenceclosinginthesystem',\n",
    "       'discussedwithclient,detailsmailedforidbandonequick,theyhavenoplantobuyfornowhenceclosinginthesystem',\n",
    "       'discussedwithclient,detailsmailedtheyarenotplanningtopurchasefornowhenceclosinginthesystem',\n",
    "       'discussedwithclient,detailssharedonmailclienthavenopurchaseplansfornowhenceclosingthesameinsystem',\n",
    "       'discussedwithclient,heshallsendthedetailsoftheirofficerequirement',\n",
    "       'discussedwithclient,quotesent',\n",
    "       'discussedwithclient,theywerejustevaluatingtheproduct,theyhavenoplanstobuythesame,henceclosinginthesystem',\n",
    "       'discussedwithclientdemoalignedoncedone,willupdate',\n",
    "       'discussedwithclientdetailsmailedclientdonthavebudgetforpurchasenowhenceclosinginthesystem',\n",
    "       'discussedwithclientdetailsmailedforonequick,theyarenotplanningtobuythesamefornowhenceclosinginthesystem',\n",
    "       'discussedwithclientdetailsmailedtheyhavebudgeissuefornowsotheywontbuyhenceclosinginyhesystem',\n",
    "       'discussedwithclientdetailsmailedtoclientnobudgetsfornowwontbuyhenceclosinginthesystem',\n",
    "       'discussedwithclienttheyarelookingforaiosolutionwithvctheywillcallafter20thforthedemoandthenpurchasethroughgem',\n",
    "       'discussedwithclienttheyarenotevaluatuatingidbasofnow,theyhavenoplanstobuyhenceclosinginthesystem',\n",
    "       'discussedwithclienttheyhavenobudgetsforpurchasefornow,theywontbuyhenceclosinginthesystem',\n",
    "       'discussedwithclienttheyneed24inchdisplayfordigitalsignagementionedforouravailablesizes,heshallrevert',\n",
    "       'discussedwithclienttheyneedforcsractivitypricesexpectationisverymuchlow',\n",
    "       'discussedwithclientweneedtoaligndemotheexpectationisconnectingappledevicesbutnotmandatoryoncedemoisdone,weshallupdate',\n",
    "       'discussedwithclientwillplanfordemo',\n",
    "       'discussedwithpartnerheworkswithcloudwalkerandwantedtoconnectwithusforsomeproductdetailsasofnow,donthaveanyinquirytoworkandhenceclosinginsystem',\n",
    "       'discussedwiththeclient,tr3bg&onequickworksdemoscheduledon27thjuly2022postdemotheywilldecideonprocuringtheunit',\n",
    "       'discussedwiththeclientaskedtocallbackonmondaywillkeepafollowup',\n",
    "       'discussedwiththeclienthedonthavebudgetsdetailsmailedhewontbuynowhenceclosinginthesystem',\n",
    "       'discussedwiththeclientpricessharedforonequickandidbonmailcustomertoconfirmaboutdemooftheskuandfinaliseonprocurement',\n",
    "       'discussedwiththeclienttheyareintererstedinourtr3djseriesdemoplannedfor29thjuneposttheywillplanonprocurementwillkeepupdate',\n",
    "       'discussedwiththeclienttheypurchased65um3dffromthechannelunabletotrackthesupplierhenceclosinginthesystemmailsenttoclientforourdisplayrange',\n",
    "       'discussiontobedonewithcustomer',\n",
    "       'donthaveanyimmediaterequirementhemaypurchaseafterjune',\n",
    "       'donthavebudgethewantdotled', 'don’thavebudget',\n",
    "       'drop,alreadydonewithpartner',\n",
    "       'drop,budgetproblemnowphonenotrespondig',\n",
    "       'drop,lookongforconsumerproduct', 'drop,notintrested',\n",
    "       'drop,nownotintrested',\n",
    "       'drop,requirementofinteractivetouchscreentosupplyingovt,conncgtwithpartner',\n",
    "       'drop,stillnoplanforpurchase', 'drop,wrongnumber',\n",
    "       'dropnoplanforpurchase',\n",
    "       'dropnotwillingtobuynowwilldoinfuturedetailssharedonwhatsap',\n",
    "       'dropped,requiresdevicelikeonequicksharetobeusedwithsamsungtv',\n",
    "       'droppedcontactnonotvalid', 'droppedhavepurchasedcloudwalker',\n",
    "       'duetobudgetissue,customerhasboughtmaxhubpanel',\n",
    "       'duetofinancialreasons,clienthavedroppedpurchaseplanalthoughthedetailsofidbaremailedtoclient',\n",
    "       'duplicatelead',\n",
    "       'duplicateleadil220100042906discussedwithclienttheirvchallisunderdevelopmentonequickdetailsmailedtoclienttheywillcallusfordemoandpurchasefinalizationoncetheirvcplaceisready',\n",
    "         'emailsendfordetailsclientisexploringonsolutionsbutonlyfortheirundertanding',\n",
    "       'existingcaseworkedbyourdisti,crewbusiness,henceclosingasclientisonlycheckingforcommercials',\n",
    "       'existingpartner,discussedandaddressedtheconcernthepartnerhadtakenpricingandwantedtorecheckasthemodelquotedischanged',\n",
    "       'exitingcustomer',\n",
    "       'financeandaccountingconsultantinquiredfoe43inchaiobutdonthaveplanstobuydetailsdiscussed',\n",
    "       'followingup', 'forwardedtoaurangabadrdforfurtherprocess',\n",
    "       'forwardedtobdo,beingfollowedup', 'forwardedtobdotofollowup',\n",
    "       'fuunderprogress','heaskedtosharebudgetoryquote,hewillcheckandconfirmifhewillrequiretheproduct',\n",
    "       'heclientisnothavinganyrequirementhenceclosiginsystemalthoughthedetailsofidbaremailedtoclient',\n",
    "       'hehasaskedtoconnectnextweekhewanttoseethephysicaldemo',\n",
    "       'heisaneventorganizationandlookingforrentaldisplayshencedroppinginsystem',\n",
    "       'heiscomparingwithsenseswhichislocalbrand',\n",
    "       'heisindiscussioninternallyandwillupdate',\n",
    "       'heislookingforaninteractivedisplaydiscussedwithclient,willupdateasthecaseprogress',\n",
    "       'heislookingforconsumerproductforhome','heislookingforinteractivedisplayquotesharedwithhim',\n",
    "       'heislookingforvideowall&idbforhisofficeourbdojayantisintouchwithhimandsharingtherequireddetailstocustomer',\n",
    "       'heisrequestingdemoinaligarhup,plzsharetoupperson',\n",
    "       'hejustneedbudgetorypricingwehavesharedthedetailswithhimandrequestedhimtocomefordemo',\n",
    "       'heneedsforhomepurposeandisaconsumerclientspokeandguidedonthedetailsandchannelnotab2brequirement',\n",
    "       'hewant32inchtvforsignagedetailssharedwithhim',\n",
    "       'hewant65inchat50k', 'hewant98inchinbelow2lacs',\n",
    "       'hewantdemoinaurangabad,detailssharedwithrd',\n",
    "       'hewantdemoinlaturandalsodonthavemuchbudgetpartnerfollowedupmultipletimesbutnoresponse',\n",
    "       'hewantdemoinsangli,ihaveloopedwithlocalpartner',\n",
    "       'hewantphysicaldemooftr3bfinnashikbuttherebudgetisalsoverylowsofirsthewilldiscusswithmanagementonbudgetthenconfirmbackfordemo',\n",
    "       'hewillcallbackifneeded', 'hisbudgetisunder50konly',\n",
    "       'hisbudgetisverylow',\n",
    "       'hisbudgetisverylowbutwearetryingtoconvincehimfor65inch',\n",
    "       'idbdetaissend',\n",
    "       'il220100042906repeatinquiryhenceclosingthisinsystem',\n",
    "       'invalidlead',\n",
    "       'isaninteriordesignerworkingonturnkeyprojectsmrbhuvneshisincontactandsharedspecsandprices',\n",
    "       'itsbiharcustomer',\n",
    "       'kinnarieletronisvatwahasbidforthesameandtheyaregoingtopurchasefromthem',\n",
    "       'knownpartnerandalreadyworkingonacaseonlycrosscheckingpriceshencedropping',\n",
    "       'knownpartnerandwehaveinstalled3videowallspanindiaforcctvwesupplied49vl5batrs62000andthenagain49vl5fatrs71000nowtheavailablemodelis49vl5gat80000+whichpartnerisrecheckingandhencemadeinquiryclosingtheinquirysi',\n",
    "       'leadbelongstomaharashtra','lookingforactiveledinarangeof5lakhsnotaprospetivebuyer',\n",
    "       'lookingforairconditioners',\n",
    "       'lookingforcommercialtv55\"detailsmailedtoclient,theyhavenoplansfornowtobuyhenceclosinginthesystem',\n",
    "       'lookingforhomeuse',\n",
    "       'lookingfornotmadeinchinaactiveoutdoorledforgovernmentproject',\n",
    "       'lookingforoutdoordisplaycusotmerhasnoclarityonthesolutionemailsharedforunderstandingandwaitingforreply',\n",
    "       'lowbudget', 'maileddetails&priceof55inches',\n",
    "       'mayurelectronicconnectwithclient', 'meetingdatetobefinalised',\n",
    "       'meetingplannedforfurtherdiscussion','mobileisswitchedofftried3times','mrrajnikantisallignwiththeclient',\n",
    "       'needforhomesegmenttheypurchasedvu85inchtvfortheirhome',\n",
    "       'needtoarrangequoteanddemo', 'needtododomestictradebiz',\n",
    "       'nextweekhewillcomefordemoatlgoffice',\n",
    "       'nocontactnumber,ihavedroppedaemailrequestingforthesame',\n",
    "       'nodropthislead,nobudget!',\n",
    "       'nofurtherrevert&clarityaftersharingdetails', 'noreqirements',\n",
    "       'norequirement', 'norequirementofthistime', 'noresponse',\n",
    "       'noresponseonmailsfromtheclientcouldntfindanycontactdetailsonnetaswellhencedroppinginthesystemalthoughidbandonequickdetailssharedonemail',\n",
    "       'notansweringcall', 'notansweringcall,detailssharedwithrd',\n",
    "       'notansweringcall,leadsharedwithrd',\n",
    "       'notansweringcall,salesremarks:triedtoreachhimmultipletimesbutheisnotrespondingrequesttoshailjatoreconnectwithcustomerwearedroppingthisleadfornow',\n",
    "       'notansweringcall,sharedleadwithrd',\n",
    "       'notansweringcall,willtrytoreachhimagain',\n",
    "       'notansweringcall|ason11thjunecustomerphoneisnotreachableiamdroppingthisleadandforwardingtopartner',\n",
    "       'notansweringtriedseveraltimesdetailssharedwithrd',\n",
    "       'notinterested', 'notinterestedatthemoment',\n",
    "       'notinterestedincommercialtvs', 'notlifted', 'notlifted,calllater',\n",
    "       'notpickingcalls,calledmanytimes', 'notreachable',\n",
    "       'notreachable,detailssharedwithrd',\n",
    "       'notreachable,ihadsharedleadwithpartner',\n",
    "       'notreachable,leadsharedwithpartner', 'notrequire', 'notrequired',\n",
    "       'notrequirednow', 'notresponding',\n",
    "       'notresponding,detailssharedwithlocalrd', 'notrespondingtocalls',\n",
    "       'notrespondingtriedmanytimes', 'november2022', 'november22',\n",
    "       'october2022','ordertaken',\n",
    "       'ourpartner,visnetworksisworkingonthisinquiryandclientiscrosscheckingthepriceshenceclosinginthesystem',\n",
    "       'partnerisalreadyintouchwithourrd,ornothepartnerneedstocrosscheckontheinformationasthesizeischangedfrom49to50nowclosingtheopprtunityasitsexistingwithrd',\n",
    "       'partnerisintostaticsignagesheneedtoconnectfordigitalsignagebuthehimselfismanufactureralthoughamailinitaitedforanyrequirementswithledteamtotakeitaheadasofnow,thereisnoscopehenceclosinginsystem',\n",
    "       \"partnerisworkingonexistingrequirementheisconnectedwithourdisti'sforbilling\",\n",
    "       'partnerwasexploringoneolmodelforsomerequiremeentnodesignatedsalesorclosureexpectedhenceclosinginthesystem',\n",
    "       'phonenumbernotavailable', 'phoneswtichedoff', 'priceshared',\n",
    "       'pricesharedwithcustomerheislookingforsomeidbsneedtotakefollowup',\n",
    "       'pricesharewithcustomerourrdisfollowingupwithhimbutcustomerisnotresponding',\n",
    "       'projectcancle',\n",
    "       'proposalsubmitted,duetocovidmdisnotcomintoofficeforthemeeting',\n",
    "       'providedmodelandpriceasperrequirement',\n",
    "       'purchasedfrombinary@123l', 'purchasedsomelocalpanel,budgetissue',\n",
    "       'purchasedviewsonicpanel','purchasevubrand',\n",
    "       'quotationsent–75tr3dj,workinprogress,hewillbuyafter2monthshehasnotevenseenthequoteyet',\n",
    "       'quotationshared',\n",
    "       'quotationsharedforultrastrothershand49vl5ghewillcheckwithmanagementandupdateus',\n",
    "       'quotationsharedincommunication', 'quotationsharedwithcustomer',\n",
    "       'quotationsharedwithcustomer,hewillconfirmbackafterdiscussingwithmanagement09062022asontoday14062022notansweringcallhenceiamdroppingthisleaddetailsshredwithrdtakeitforfurther',\n",
    "       'quotationsharedwithhimforidbhedonthaveenoughfundasofnowheisjustevaluatingoptions',\n",
    "       'quotehasbeensenttocustomer', 'quotesend',\n",
    "       'quotesendmeetingpending', 'quotesendnextmonthrequire',\n",
    "       'quotesendrequiredemo', 'quotesendrequiredemoinnextweek',\n",
    "       'quotesent,theclientisrequireddemoinjune', 'quotesenttocustomer',\n",
    "       'quotesharedbuttherebudgetisverylow',\n",
    "       'quotesharedfor86inchheisevaluationlocalbrandoftrueview',\n",
    "       'quotesharedwithcustomer,hewillconfirmafter2monthsleadsharedwithpartner',\n",
    "       'quotesharedwithcustomer,leadsharedwithpartnertotakeitfurther',\n",
    "       'quotesharedwithcustomerhewillrevertwithanupdate',\n",
    "       'quotesharedwithhim',\n",
    "       'quotesharedwithhimandhewillupdateusafterdemo',\n",
    "       'rajnikantisworkinginthiscasehoinahmedabadanditsunderprocess',\n",
    "       'receivedpo', 'recentlynorequirement,dropped',\n",
    "       'remarks:customerlookingfor65inchesand75incheseach1qty',\n",
    "       'repeatedinquiryfromclienthewasjustinquiringbuthavenotconfimredonpurchasewehavetriedmulitpletimesbutclientisnotinterestedinbuying',\n",
    "       'repeatenquiry',\n",
    "       'repeatinquiry,wealreadyknewontheclientrequirementweareintouchwiththemandifanyrequirementcomes,wewilludpateasofnow,thetransparentledtheyneedisnotavailablewithusandtheavailableproductcostexpectationisverylowwit',\n",
    "       'require65inchidbunder80k', 'requiredemo', 'requiredemoafter20may',\n",
    "       'requiredemopricesend',\n",
    "       'requirementisforpuneloopedpuneteamalthoughthepartnerischeckingpricesforanexistingcaseclosingtheleadinsystemaspuneteamisalreadyworking',\n",
    "       'requirementof65tr3dj',\n",
    "       'requirementof65tr3djandcustomerwantdemo,detailssharedwithrd',\n",
    "       'requirementof65tr3dj–demoreqired,leadsharedwithrd',\n",
    "       'requirementof65tr3dj–demorequired',\n",
    "       'requirementof75tr3dj–demo,detailssharedwithrd',\n",
    "       'requirementof75tr3dj–demo,leadsharedwithmumbaiteam',\n",
    "       'requirementof75tr3dj–demorequired',\n",
    "       'requirementofidb,budgetisverylowshareddetailsonwhatsapp1unitrequiredrdisfollowingup',\n",
    "       'requirementofvideowallclientischekingonpricesalready2partnersworkingitsongoingcasehenceclisinginsystem',\n",
    "       'requireonlycmssoftware', 'requirequote',\n",
    "       'requiresdetailfortendernopurchaserequirementrightnow',\n",
    "       'resellerwanttohavegemauthorization',\n",
    "       'reuiredforofficeaskedtosharequotation', 'rnr',\n",
    "       'sameasleadnoil220300046498hencedroppingduplicatelead',\n",
    "       'schedulingameeting', 'september', 'september2022',\n",
    "       'sizenotavailable', 'smallsizetabrequired',\n",
    "       'spokentoclient,hewillcheckiftheyneeddemoandconfirm',\n",
    "       'spokentoclient,hewillconnectoncehediscussonrequirement',\n",
    "       'spokentopartner,havenoanyrequierementsfornow,havemailedthedetailstohim,hewontpurchaseanyskusfornowhenceclosinginthesystem',\n",
    "       'spokewithcustomehewant43\"tv',\n",
    "       'spokewithcustomer,detailsneedstoshareonmailalsotheywantdemo',\n",
    "       'spokewithcustomer,heislookingfordotledproductin42inch,ihavesuggestedhimour43inchsignagebuthewantfullyoutdoorledihavesharedthedetailsofour43inchdisplay',\n",
    "       'spokewithcustomer,willbesharingdetailsonemail',\n",
    "       'spokewithherandsharedthedetailsforsignagedisplays','theclientbudgetiswithin1lacstheyneed55inchaiosolutionasperdiscussion,theyarecomparingwithjabraandweproposedtocheckiftheyneedonlydisplaysbutduetobudgothersontraint,theyaredroppingtheidea',\n",
    "       'theclientislookingforsmallsizedisplaysof20inchto25inchtomountonrefthebudgetis4kto6knotexactlyourrequirement',\n",
    "       'theclientisnothavinganyrequirement,hewasonlybrowsingthroughtheproduthenceclosiginsystemalthoughthedetailsofidbaremailedtoclient',\n",
    "       'theclientisnothavinganyrequirement,shewasonlybrowsingthroughtheproduthenceclosiginsystemalthoughthedetailsofidbaremailedtoclient',\n",
    "       'theclientisnothavinganyrequirementhenceclosiginsystemalthoughthedetailsofidbaremailedtoclient',\n",
    "       'theclientisnothavinganyrequirementhewasjustbrowsingforproductshenceclosiginsystemalthoughthedetailsofidbandvideowallsaremailedtoclient',\n",
    "       'thepartnerischeckingpriceforanongoingcaseofbarcwehavediscussedonnewcasewiththepartneritsusefultotakeourdiscussionfurtherfornewinquriesclosingtheopportunityinsystemasofnowasitsmadeonlyforcrosscheckingprices',\n",
    "       'thererquirementisforpuneemailedclientloopingpuneteamtomeetandvisittheclient',\n",
    "       'theyareconsultantandiamalreadyintouchwithcustomer',\n",
    "       'theyarehavingrequirementof40displayscustomerneedaggressivepricingthansamsung',\n",
    "       'treidmanytimesbutphonenotreachable',\n",
    "       'triedcallingtheclient,noresponsefromclient,ihavemailedidbdetails,willkeepfollowup&update',\n",
    "       \"triedcontacthimbutcouldn'tabletoconnectleadforwardedtord\",\n",
    "       'triedcoupleoftimesbutheisnotrespondingwewilltryagain',\n",
    "       'triedreachingouttoclientnoresponsetocalllssoihavesharedthedatasheet,shalllfolllllowupandupdate',\n",
    "       'triedtoreachcustomerbutnoresponseleadforwardedtopartnerforfurtherfollowup',\n",
    "       'triedtoreachhimbutnoresponseiwillcallhimagain18thnovicalledhimagainandhewillsendtherequirementonmail',\n",
    "       \"triedtoreachhimmultipetimesfromlast7daysbutcouldn'tgetthrough\",\n",
    "       \"triedtoreachhimmultipletimes,butcouldn'tgetthru\",\n",
    "       'triedtoreachseveraltimesbutnoresponse', 'underdiscussion','uttarpradeshstatelead',\n",
    "       'veryabruptcustomersaidtheinquirywasmademonthsagoandwasrudeenoughclosinginthesystemastheclientbehaviourhasnoscopetodiscussonrequirementneedmarketingteamtocheckifthecasewasreceivedindecorjanasperclient',\n",
    "       'wanttodotradeproductbusiness', 'wanttotakeretailmonitor',\n",
    "       'wearealreadyintouchwithcustomerthrupartner',\n",
    "       'wearealreadyintouchwiththiscutsomerfromlast2years,hehasneverpurchasedanyproducttilldateicalledhimuptwicebutnoreponse',\n",
    "       'wearenotgoingtomatchtechnicalspecification',\n",
    "       'wehavepitched110inchfuunderprgress',\n",
    "       'wewerealreadyworkinghere,wearefacingchallengeaswedonthave49vl5ginstockorderlostinmarchduetounavailabiltyof49vl5g',\n",
    "       'willcomebackonceitisrequired', 'willcomeforthedemo',\n",
    "       'withdrawnthedecissiontopurchase', 'últimarevisión:26/07/21','underdiscussion,requirementnotdinalisedyet',\n",
    "       'update14thseptmoredetailstobesharedbyclient',\n",
    "       'updateaspercustomernoenquirywasmade',\n",
    "       'updatedetailsalreadysharedwithcustomerevaluationisongoing','uptodecember']\n",
    "\n",
    "sort_df = sort_df.apply(lambda x: 'others' if x in values else x)\n",
    "sort_df = sort_df.replace('callbacktomorrow28/09', 'lessthan3months')\n",
    "sort_df = sort_df.replace('then', 'than')\n",
    "len(sort_df.unique())"
   ]
  },
  {
   "cell_type": "code",
   "execution_count": 29,
   "id": "63c014e0",
   "metadata": {},
   "outputs": [],
   "source": [
    "values = ['lessthan3months,meetingwiththecustomerforthemoredetailsandtentativeboqwillne32and43',\n",
    "       'lessthan3monthscustomernotansweredtocallback',\n",
    "       'lessthan3monthsoutdoorledrequiment', '4/8months', '45days', 'askedtocallbacktomorrow',\n",
    "          'askedtocallnextweek','askedtocallbacktomorrow,ihadsharedthisenquirywithrd',\n",
    "         'duplicateleadil220100042906lessthan3months', 'eolmodelnewmodelquoterequirmentafter30days',\n",
    "         'getbackin1wk','heislookingfordisplayforhisrestauranthehasaskedtocontacthimafter1monthasrestaurantworkisunderprogress',\n",
    "        'hewantdemonextmonthatpune15may', 'hewantdemonextweek','needtodiscusswithclientinnexttwomonthstheyneedtochecktheproductandaccridnglyproceedforpersonaluse'\n",
    "          ,'meetingplannednextweek','needtocallonfriday27th', 'onemonth', 'spokewithshubhamwhoisstudenthesaidhewillspeakwithhissirandrevertbackafter2weeks', '3months',\n",
    "         'update14thseptcustomerwilldiscussindetailtomorrow','update13thspetfollowuptobedoneon15thsept', 'update27thaugcustomerhastocomeforproductdemo',\n",
    "       'update4thaugcustomeraskedtocallonmonday',\n",
    "       'update4thaugcustomervisitingexperiencecentreon8thsept',\n",
    "       'update4thaugdetaileddiscussiontobedoneon6thaug',\n",
    "       'update7thaugdemogivencustomerwillconfirmnextweek',\n",
    "       'update8thseptdetailssharedwillconfirmdemoscheduleofnextweek',\n",
    "       'update9thoctdetailssharedwillconfirmforonlinedemonextweek', 'updatecalltobemadeontuesday',]\n",
    "\n",
    "sort_df = sort_df.apply(lambda x: 'lessthan3months' if x in values else x)"
   ]
  },
  {
   "cell_type": "code",
   "execution_count": 30,
   "id": "6c71e09c",
   "metadata": {},
   "outputs": [],
   "source": [
    "sort_df = sort_df.replace('lessthen6months', 'lessthan6months')\n",
    "sort_df = sort_df.replace('lessthan5months', 'lessthan6months')\n",
    "sort_df = sort_df.replace('morethen3months', 'lessthan6months')\n",
    "sort_df = sort_df.replace('needshoteltvafter4months,willcallus', 'lessthan6months')\n",
    "sort_df = sort_df.replace('purchaseplanningafter3months', 'lessthan6months')\n",
    "sort_df = sort_df.replace('lessthan6months', '3months6months')"
   ]
  },
  {
   "cell_type": "code",
   "execution_count": 31,
   "id": "6dd032ee",
   "metadata": {},
   "outputs": [],
   "source": [
    "df_all['expected_timeline'] = sort_df"
   ]
  },
  {
   "cell_type": "code",
   "execution_count": 32,
   "id": "6b8bff96",
   "metadata": {},
   "outputs": [
    {
     "data": {
      "text/plain": [
       "array(['lessthan3months', 'none', '3months6months', '9months1year',\n",
       "       'morethanayear', '6months9months', 'others'], dtype=object)"
      ]
     },
     "execution_count": 32,
     "metadata": {},
     "output_type": "execute_result"
    }
   ],
   "source": [
    "df_all['expected_timeline'].unique()"
   ]
  },
  {
   "cell_type": "code",
   "execution_count": 33,
   "id": "10960ee5",
   "metadata": {},
   "outputs": [
    {
     "name": "stdout",
     "output_type": "stream",
     "text": [
      "<class 'pandas.core.frame.DataFrame'>\n",
      "Index: 64570 entries, 0 to 5270\n",
      "Data columns (total 20 columns):\n",
      " #   Column                   Non-Null Count  Dtype  \n",
      "---  ------                   --------------  -----  \n",
      " 0   bant_submit              64570 non-null  float64\n",
      " 1   customer_country         64570 non-null  object \n",
      " 2   business_unit            64570 non-null  object \n",
      " 3   com_reg_ver_win_rate     64570 non-null  float64\n",
      " 4   customer_idx             64570 non-null  int64  \n",
      " 5   customer_type            64570 non-null  object \n",
      " 6   enterprise               64570 non-null  object \n",
      " 7   historical_existing_cnt  64570 non-null  float64\n",
      " 8   customer_job             64570 non-null  object \n",
      " 9   lead_desc_length         64570 non-null  int64  \n",
      " 10  inquiry_type             64570 non-null  object \n",
      " 11  product_category         64570 non-null  object \n",
      " 12  customer_position        64570 non-null  object \n",
      " 13  response_corporate       64570 non-null  object \n",
      " 14  expected_timeline        64570 non-null  object \n",
      " 15  ver_win_rate_x           64570 non-null  float64\n",
      " 16  ver_win_ratio_per_bu     64570 non-null  float64\n",
      " 17  lead_owner               64570 non-null  int64  \n",
      " 18  is_converted             59299 non-null  object \n",
      " 19  id                       5271 non-null   float64\n",
      "dtypes: float64(6), int64(3), object(11)\n",
      "memory usage: 10.3+ MB\n"
     ]
    }
   ],
   "source": [
    "df_all.info()"
   ]
  },
  {
   "cell_type": "code",
   "execution_count": 34,
   "id": "968e84b9",
   "metadata": {},
   "outputs": [],
   "source": [
    "# 레이블 인코딩할 칼럼들\n",
    "label_columns = [\n",
    "    \"customer_country\",\n",
    "    \"business_unit\",\n",
    "    \"customer_type\",\n",
    "    \"enterprise\",\n",
    "    \"customer_job\",\n",
    "    \"inquiry_type\",\n",
    "    \"product_category\",\n",
    "    \"customer_position\",\n",
    "    \"response_corporate\",\n",
    "    \"expected_timeline\",\n",
    "]\n",
    "\n",
    "for col in label_columns:\n",
    "    df_all[col] = label_encoding(df_all[col])"
   ]
  },
  {
   "cell_type": "code",
   "execution_count": 35,
   "id": "a9428c52",
   "metadata": {},
   "outputs": [],
   "source": [
    "df_train = df_all.iloc[:len(df_train)]\n",
    "df_test = df_all.iloc[len(df_train):]"
   ]
  },
  {
   "cell_type": "code",
   "execution_count": 36,
   "id": "11284859",
   "metadata": {},
   "outputs": [
    {
     "data": {
      "text/plain": [
       "is_converted\n",
       "0.0    54449\n",
       "1.0     4850\n",
       "Name: count, dtype: int64"
      ]
     },
     "execution_count": 36,
     "metadata": {},
     "output_type": "execute_result"
    }
   ],
   "source": [
    "df_train.is_converted.value_counts()"
   ]
  },
  {
   "cell_type": "code",
   "execution_count": 37,
   "id": "5670f13e",
   "metadata": {},
   "outputs": [
    {
     "data": {
      "text/plain": [
       "is_converted\n",
       "1.0    2421\n",
       "Name: count, dtype: int64"
      ]
     },
     "execution_count": 37,
     "metadata": {},
     "output_type": "execute_result"
    }
   ],
   "source": [
    "df_train[df_train['customer_idx'] == 25096]['is_converted'].value_counts()"
   ]
  },
  {
   "cell_type": "code",
   "execution_count": 39,
   "id": "4ea21b60",
   "metadata": {},
   "outputs": [
    {
     "data": {
      "text/html": [
       "<div>\n",
       "<style scoped>\n",
       "    .dataframe tbody tr th:only-of-type {\n",
       "        vertical-align: middle;\n",
       "    }\n",
       "\n",
       "    .dataframe tbody tr th {\n",
       "        vertical-align: top;\n",
       "    }\n",
       "\n",
       "    .dataframe thead th {\n",
       "        text-align: right;\n",
       "    }\n",
       "</style>\n",
       "<table border=\"1\" class=\"dataframe\">\n",
       "  <thead>\n",
       "    <tr style=\"text-align: right;\">\n",
       "      <th></th>\n",
       "      <th>bant_submit</th>\n",
       "      <th>customer_country</th>\n",
       "      <th>business_unit</th>\n",
       "      <th>com_reg_ver_win_rate</th>\n",
       "      <th>customer_idx</th>\n",
       "      <th>customer_type</th>\n",
       "      <th>enterprise</th>\n",
       "      <th>historical_existing_cnt</th>\n",
       "      <th>customer_job</th>\n",
       "      <th>lead_desc_length</th>\n",
       "      <th>inquiry_type</th>\n",
       "      <th>product_category</th>\n",
       "      <th>customer_position</th>\n",
       "      <th>response_corporate</th>\n",
       "      <th>expected_timeline</th>\n",
       "      <th>ver_win_rate_x</th>\n",
       "      <th>ver_win_ratio_per_bu</th>\n",
       "      <th>lead_owner</th>\n",
       "      <th>is_converted</th>\n",
       "      <th>id</th>\n",
       "    </tr>\n",
       "  </thead>\n",
       "  <tbody>\n",
       "  </tbody>\n",
       "</table>\n",
       "</div>"
      ],
      "text/plain": [
       "Empty DataFrame\n",
       "Columns: [bant_submit, customer_country, business_unit, com_reg_ver_win_rate, customer_idx, customer_type, enterprise, historical_existing_cnt, customer_job, lead_desc_length, inquiry_type, product_category, customer_position, response_corporate, expected_timeline, ver_win_rate_x, ver_win_ratio_per_bu, lead_owner, is_converted, id]\n",
       "Index: []"
      ]
     },
     "execution_count": 39,
     "metadata": {},
     "output_type": "execute_result"
    }
   ],
   "source": [
    "df_test[df_test['customer_idx'] == 25096]"
   ]
  },
  {
   "cell_type": "code",
   "execution_count": 172,
   "id": "bb4d2ede",
   "metadata": {},
   "outputs": [],
   "source": [
    "sample = df_train[df_train['customer_idx'] == 25096].sample(100, random_state=42)\n",
    "# df_train = df_train[df_train['customer_idx'] != 25096]\n",
    "df_train = pd.concat([df_train[df_train['customer_idx'] != 25096], sample])"
   ]
  },
  {
   "cell_type": "code",
   "execution_count": 173,
   "id": "379b5a9f",
   "metadata": {},
   "outputs": [],
   "source": [
    "df_true = df_train[df_train['is_converted'] == True] # 2529\n",
    "df_false = df_train[df_train['is_converted'] == False] # 54449"
   ]
  },
  {
   "cell_type": "code",
   "execution_count": 174,
   "id": "8b440980",
   "metadata": {},
   "outputs": [],
   "source": [
    "from sklearn.utils import shuffle\n",
    "df_false = shuffle(df_false, random_state = 42)"
   ]
  },
  {
   "cell_type": "code",
   "execution_count": 175,
   "id": "b45f51d6",
   "metadata": {},
   "outputs": [],
   "source": [
    "ratio = df_false.shape[0] // 20\n",
    "\n",
    "df_f0 = df_false.iloc[ratio*0:ratio*1]\n",
    "df_f1 = df_false.iloc[ratio*1:ratio*2]\n",
    "df_f2 = df_false.iloc[ratio*2:ratio*3]\n",
    "df_f3 = df_false.iloc[ratio*3:ratio*4]\n",
    "df_f4 = df_false.iloc[ratio*4:ratio*5]\n",
    "df_f5 = df_false.iloc[ratio*5:ratio*6]\n",
    "df_f6 = df_false.iloc[ratio*6:ratio*7]\n",
    "df_f7 = df_false.iloc[ratio*7:ratio*8]\n",
    "df_f8 = df_false.iloc[ratio*8:ratio*9]\n",
    "df_f9 = df_false.iloc[ratio*9:ratio*10]\n",
    "df_f10 = df_false.iloc[ratio*10:ratio*11]\n",
    "df_f11 = df_false.iloc[ratio*11:ratio*12]\n",
    "df_f12 = df_false.iloc[ratio*12:ratio*13]\n",
    "df_f13 = df_false.iloc[ratio*13:ratio*14]\n",
    "df_f14 = df_false.iloc[ratio*14:ratio*15]\n",
    "df_f15 = df_false.iloc[ratio*15:ratio*16]\n",
    "df_f16 = df_false.iloc[ratio*16:ratio*17]\n",
    "df_f17 = df_false.iloc[ratio*17:ratio*18]\n",
    "df_f18 = df_false.iloc[ratio*18:ratio*19]\n",
    "df_f19 = df_false.iloc[ratio*19:]"
   ]
  },
  {
   "cell_type": "code",
   "execution_count": 176,
   "id": "518de3e7",
   "metadata": {
    "scrolled": true
   },
   "outputs": [],
   "source": [
    "df_train = pd.concat([df_true, df_f0])"
   ]
  },
  {
   "cell_type": "code",
   "execution_count": 177,
   "id": "38b8a90f",
   "metadata": {},
   "outputs": [
    {
     "data": {
      "text/plain": [
       "((5251, 20), 2529.0)"
      ]
     },
     "execution_count": 177,
     "metadata": {},
     "output_type": "execute_result"
    }
   ],
   "source": [
    "df_train.shape, df_train['is_converted'].sum()"
   ]
  },
  {
   "cell_type": "code",
   "execution_count": 178,
   "id": "c6aac70d",
   "metadata": {},
   "outputs": [],
   "source": [
    "from sklearn.model_selection import train_test_split\n",
    "from imblearn.under_sampling import RandomUnderSampler\n",
    "from sklearn.tree import DecisionTreeClassifier\n",
    "from sklearn.ensemble import RandomForestClassifier\n",
    "from sklearn.model_selection import GridSearchCV\n",
    "from imblearn.under_sampling import RandomUnderSampler\n",
    "\n",
    "x_train, x_val, y_train, y_val = train_test_split(\n",
    "    df_train.drop([\"is_converted\", 'id'], axis=1),\n",
    "    df_train[\"is_converted\"].astype(int),\n",
    "    test_size=0.2,\n",
    "    random_state=42,\n",
    ")"
   ]
  },
  {
   "cell_type": "code",
   "execution_count": 179,
   "id": "7aa6c85d",
   "metadata": {},
   "outputs": [],
   "source": [
    "from xgboost import XGBClassifier\n",
    "from lightgbm import LGBMClassifier\n",
    "from catboost import CatBoostClassifier\n",
    "from sklearn.ensemble import GradientBoostingClassifier\n",
    "from sklearn.ensemble import VotingClassifier"
   ]
  },
  {
   "cell_type": "markdown",
   "id": "112b6d78",
   "metadata": {},
   "source": [
    "### xgb"
   ]
  },
  {
   "cell_type": "code",
   "execution_count": null,
   "id": "2371127c",
   "metadata": {},
   "outputs": [],
   "source": [
    "xgb = XGBClassifier(random_state=42)\n",
    "param_grid = {'n_estimators' : [100, 200, 300, 400, 500, 600, 700, 800], 'learning_rate' : np.arange(0.01, 0.15, 0.02),\n",
    "             'subsample' : [0.8], 'colsample_bytree' : [0.8]}\n",
    "\n",
    "grid_xgb = GridSearchCV(xgb, param_grid, verbose = True, scoring='f1')\n",
    "grid_xgb.fit(x_train, y_train)\n",
    "\n",
    "print('최적의 파라미터 :', grid_xgb.best_params_)"
   ]
  },
  {
   "cell_type": "code",
   "execution_count": null,
   "id": "635f98c8",
   "metadata": {},
   "outputs": [],
   "source": [
    "y_pred = grid_xgb.predict(x_val)\n",
    "get_clf_eval(y_val, y_pred)\n",
    "\n",
    "x_test = df_test.drop([\"is_converted\", \"id\"], axis=1)\n",
    "test_pred = grid_xgb.predict(x_test)\n",
    "sum(test_pred), len(test_pred) # True로 예측된 개수"
   ]
  },
  {
   "cell_type": "markdown",
   "id": "9d5bc0fa",
   "metadata": {},
   "source": [
    "### gb"
   ]
  },
  {
   "cell_type": "code",
   "execution_count": 48,
   "id": "e3af31a2",
   "metadata": {},
   "outputs": [
    {
     "name": "stdout",
     "output_type": "stream",
     "text": [
      "Fitting 5 folds for each of 105 candidates, totalling 525 fits\n",
      "최적의 파라미터 : {'learning_rate': 0.049999999999999996, 'max_features': 0.8, 'n_estimators': 1100, 'subsample': 0.8}\n"
     ]
    }
   ],
   "source": [
    "gb = GradientBoostingClassifier(random_state=42)\n",
    "param_grid = {'n_estimators': np.arange(500, 1501, 100), 'learning_rate': np.arange(0.01, 0.15, 0.02),\n",
    "              'subsample': [0.8], 'max_features': [0.8]}\n",
    "\n",
    "grid_gb = GridSearchCV(gb, param_grid, verbose=True, scoring='f1')\n",
    "grid_gb.fit(x_train, y_train)\n",
    "\n",
    "print('최적의 파라미터 :', grid_gb.best_params_)"
   ]
  },
  {
   "cell_type": "code",
   "execution_count": 49,
   "id": "e93bb502",
   "metadata": {},
   "outputs": [
    {
     "name": "stdout",
     "output_type": "stream",
     "text": [
      "오차행렬:\n",
      "       pred_T[0]  pred_F[1]\n",
      "T[0]        471         53\n",
      "F[1]         42        485\n",
      "\n",
      "정확도: 0.9096\n",
      "정밀도: 0.9015\n",
      "재현율: 0.9203\n",
      "F1: 0.9108\n"
     ]
    },
    {
     "data": {
      "text/plain": [
       "(2234, 5271)"
      ]
     },
     "execution_count": 49,
     "metadata": {},
     "output_type": "execute_result"
    }
   ],
   "source": [
    "y_pred = grid_gb.predict(x_val)\n",
    "get_clf_eval(y_val, y_pred)\n",
    "\n",
    "x_test = df_test.drop([\"is_converted\", \"id\"], axis=1)\n",
    "test_pred = grid_gb.predict(x_test)\n",
    "sum(test_pred), len(test_pred) # True로 예측된 개수"
   ]
  },
  {
   "cell_type": "markdown",
   "id": "001b7e02",
   "metadata": {},
   "source": [
    "### random forest"
   ]
  },
  {
   "cell_type": "code",
   "execution_count": 43,
   "id": "b7319e66",
   "metadata": {},
   "outputs": [
    {
     "name": "stdout",
     "output_type": "stream",
     "text": [
      "Fitting 5 folds for each of 60 candidates, totalling 300 fits\n",
      "최적의 파라미터 : {'criterion': 'entropy', 'max_features': 0.8, 'max_samples': 0.8, 'n_estimators': 120}\n"
     ]
    }
   ],
   "source": [
    "rf_clf = RandomForestClassifier(random_state=42)\n",
    "param_grid = {'n_estimators' : np.arange(10, 201, 10),  'max_samples' : [0.8], \n",
    "              'max_features' : [0.8], 'criterion' : [\"entropy\"]}\n",
    "\n",
    "grid_rf_clf = GridSearchCV(rf_clf, param_grid, verbose = True, scoring='f1')\n",
    "grid_rf_clf.fit(x_train, y_train)\n",
    "\n",
    "print('최적의 파라미터 :', grid_rf_clf.best_params_)"
   ]
  },
  {
   "cell_type": "code",
   "execution_count": 44,
   "id": "1b2bb2a8",
   "metadata": {},
   "outputs": [
    {
     "name": "stdout",
     "output_type": "stream",
     "text": [
      "오차행렬:\n",
      "       pred_T[0]  pred_F[1]\n",
      "T[0]        467         57\n",
      "F[1]         44        483\n",
      "\n",
      "정확도: 0.9039\n",
      "정밀도: 0.8944\n",
      "재현율: 0.9165\n",
      "F1: 0.9053\n"
     ]
    },
    {
     "data": {
      "text/plain": [
       "(2411, 5271)"
      ]
     },
     "execution_count": 44,
     "metadata": {},
     "output_type": "execute_result"
    }
   ],
   "source": [
    "y_pred = grid_rf_clf.predict(x_val)\n",
    "get_clf_eval(y_val, y_pred)\n",
    "\n",
    "x_test = df_test.drop([\"is_converted\", \"id\"], axis=1)\n",
    "test_pred = grid_rf_clf.predict(x_test)\n",
    "sum(test_pred), len(test_pred) # True로 예측된 개수"
   ]
  },
  {
   "cell_type": "code",
   "execution_count": 232,
   "id": "fef840d7",
   "metadata": {
    "collapsed": true
   },
   "outputs": [
    {
     "data": {
      "text/html": [
       "<style>#sk-container-id-14 {color: black;background-color: white;}#sk-container-id-14 pre{padding: 0;}#sk-container-id-14 div.sk-toggleable {background-color: white;}#sk-container-id-14 label.sk-toggleable__label {cursor: pointer;display: block;width: 100%;margin-bottom: 0;padding: 0.3em;box-sizing: border-box;text-align: center;}#sk-container-id-14 label.sk-toggleable__label-arrow:before {content: \"▸\";float: left;margin-right: 0.25em;color: #696969;}#sk-container-id-14 label.sk-toggleable__label-arrow:hover:before {color: black;}#sk-container-id-14 div.sk-estimator:hover label.sk-toggleable__label-arrow:before {color: black;}#sk-container-id-14 div.sk-toggleable__content {max-height: 0;max-width: 0;overflow: hidden;text-align: left;background-color: #f0f8ff;}#sk-container-id-14 div.sk-toggleable__content pre {margin: 0.2em;color: black;border-radius: 0.25em;background-color: #f0f8ff;}#sk-container-id-14 input.sk-toggleable__control:checked~div.sk-toggleable__content {max-height: 200px;max-width: 100%;overflow: auto;}#sk-container-id-14 input.sk-toggleable__control:checked~label.sk-toggleable__label-arrow:before {content: \"▾\";}#sk-container-id-14 div.sk-estimator input.sk-toggleable__control:checked~label.sk-toggleable__label {background-color: #d4ebff;}#sk-container-id-14 div.sk-label input.sk-toggleable__control:checked~label.sk-toggleable__label {background-color: #d4ebff;}#sk-container-id-14 input.sk-hidden--visually {border: 0;clip: rect(1px 1px 1px 1px);clip: rect(1px, 1px, 1px, 1px);height: 1px;margin: -1px;overflow: hidden;padding: 0;position: absolute;width: 1px;}#sk-container-id-14 div.sk-estimator {font-family: monospace;background-color: #f0f8ff;border: 1px dotted black;border-radius: 0.25em;box-sizing: border-box;margin-bottom: 0.5em;}#sk-container-id-14 div.sk-estimator:hover {background-color: #d4ebff;}#sk-container-id-14 div.sk-parallel-item::after {content: \"\";width: 100%;border-bottom: 1px solid gray;flex-grow: 1;}#sk-container-id-14 div.sk-label:hover label.sk-toggleable__label {background-color: #d4ebff;}#sk-container-id-14 div.sk-serial::before {content: \"\";position: absolute;border-left: 1px solid gray;box-sizing: border-box;top: 0;bottom: 0;left: 50%;z-index: 0;}#sk-container-id-14 div.sk-serial {display: flex;flex-direction: column;align-items: center;background-color: white;padding-right: 0.2em;padding-left: 0.2em;position: relative;}#sk-container-id-14 div.sk-item {position: relative;z-index: 1;}#sk-container-id-14 div.sk-parallel {display: flex;align-items: stretch;justify-content: center;background-color: white;position: relative;}#sk-container-id-14 div.sk-item::before, #sk-container-id-14 div.sk-parallel-item::before {content: \"\";position: absolute;border-left: 1px solid gray;box-sizing: border-box;top: 0;bottom: 0;left: 50%;z-index: -1;}#sk-container-id-14 div.sk-parallel-item {display: flex;flex-direction: column;z-index: 1;position: relative;background-color: white;}#sk-container-id-14 div.sk-parallel-item:first-child::after {align-self: flex-end;width: 50%;}#sk-container-id-14 div.sk-parallel-item:last-child::after {align-self: flex-start;width: 50%;}#sk-container-id-14 div.sk-parallel-item:only-child::after {width: 0;}#sk-container-id-14 div.sk-dashed-wrapped {border: 1px dashed gray;margin: 0 0.4em 0.5em 0.4em;box-sizing: border-box;padding-bottom: 0.4em;background-color: white;}#sk-container-id-14 div.sk-label label {font-family: monospace;font-weight: bold;display: inline-block;line-height: 1.2em;}#sk-container-id-14 div.sk-label-container {text-align: center;}#sk-container-id-14 div.sk-container {/* jupyter's `normalize.less` sets `[hidden] { display: none; }` but bootstrap.min.css set `[hidden] { display: none !important; }` so we also need the `!important` here to be able to override the default hidden behavior on the sphinx rendered scikit-learn.org. See: https://github.com/scikit-learn/scikit-learn/issues/21755 */display: inline-block !important;position: relative;}#sk-container-id-14 div.sk-text-repr-fallback {display: none;}</style><div id=\"sk-container-id-14\" class=\"sk-top-container\"><div class=\"sk-text-repr-fallback\"><pre>LGBMClassifier(colsample_bytree=0.8, learning_rate=0.05, n_estimators=300,\n",
       "               random_state=42, subsample=0.8, verbose=0)</pre><b>In a Jupyter environment, please rerun this cell to show the HTML representation or trust the notebook. <br />On GitHub, the HTML representation is unable to render, please try loading this page with nbviewer.org.</b></div><div class=\"sk-container\" hidden><div class=\"sk-item\"><div class=\"sk-estimator sk-toggleable\"><input class=\"sk-toggleable__control sk-hidden--visually\" id=\"sk-estimator-id-14\" type=\"checkbox\" checked><label for=\"sk-estimator-id-14\" class=\"sk-toggleable__label sk-toggleable__label-arrow\">LGBMClassifier</label><div class=\"sk-toggleable__content\"><pre>LGBMClassifier(colsample_bytree=0.8, learning_rate=0.05, n_estimators=300,\n",
       "               random_state=42, subsample=0.8, verbose=0)</pre></div></div></div></div></div>"
      ],
      "text/plain": [
       "LGBMClassifier(colsample_bytree=0.8, learning_rate=0.05, n_estimators=300,\n",
       "               random_state=42, subsample=0.8, verbose=0)"
      ]
     },
     "execution_count": 232,
     "metadata": {},
     "output_type": "execute_result"
    }
   ],
   "source": [
    "cat = CatBoostClassifier(random_state=42, verbose = False, colsample_bylevel = 0.8, \n",
    "                         iterations = 1500, learning_rate = 0.05, subsample = 0.8)\n",
    "cat.fit(x_train, y_train.astype(int))\n",
    "\n",
    "lgbm = LGBMClassifier(random_state = 42, verbose = 0, colsample_bytree = 0.8,\n",
    "                      learning_rate = 0.05, n_estimators = 300, subsample = 0.8)\n",
    "lgbm.fit(x_train, y_train)\n",
    "\n",
    "xgb = XGBClassifier(random_state=42, colsample_bytree = 0.8, n_estimators = 600, \n",
    "                    learning_rate = 0.05, subsample = 0.8)\n",
    "xgb.fit(x_train, y_train)\n",
    "\n",
    "gb = GradientBoostingClassifier(random_state=42, n_estimators = 1100,\n",
    "                                learning_rate = 0.05, subsample = 0.8, max_features = 0.8)\n",
    "gb.fit(x_train, y_train)\n",
    "\n",
    "rf_clf = RandomForestClassifier(random_state=42, max_features = 0.8, max_samples = 0.8, \n",
    "                                criterion = 'entropy', n_estimators = 120)\n",
    "rf_clf.fit(x_train, y_train)"
   ]
  },
  {
   "cell_type": "code",
   "execution_count": 233,
   "id": "b65a7775",
   "metadata": {},
   "outputs": [
    {
     "name": "stdout",
     "output_type": "stream",
     "text": [
      "오차행렬:\n",
      "       pred_T[0]  pred_F[1]\n",
      "T[0]        481         47\n",
      "F[1]         38        486\n",
      "\n",
      "정확도: 0.9192\n",
      "정밀도: 0.9118\n",
      "재현율: 0.9275\n",
      "F1: 0.9196\n"
     ]
    },
    {
     "data": {
      "text/plain": [
       "(2224, 5271)"
      ]
     },
     "execution_count": 233,
     "metadata": {},
     "output_type": "execute_result"
    }
   ],
   "source": [
    "vote = VotingClassifier(estimators= [('cat', cat), ('lgbm', lgbm), ('xgb', xgb), ('gb', gb), ('rf_clf', rf_clf)], voting= 'soft')\n",
    "vote.fit(x_train, y_train)\n",
    "\n",
    "y_pred = vote.predict(x_val)\n",
    "get_clf_eval(y_val, y_pred)\n",
    "\n",
    "x_test = df_test.drop([\"is_converted\", \"id\"], axis=1)\n",
    "test_pred = vote.predict(x_test)\n",
    "sum(test_pred), len(test_pred)"
   ]
  },
  {
   "cell_type": "code",
   "execution_count": 181,
   "id": "ae712c48",
   "metadata": {},
   "outputs": [
    {
     "data": {
      "text/html": [
       "<div>\n",
       "<style scoped>\n",
       "    .dataframe tbody tr th:only-of-type {\n",
       "        vertical-align: middle;\n",
       "    }\n",
       "\n",
       "    .dataframe tbody tr th {\n",
       "        vertical-align: top;\n",
       "    }\n",
       "\n",
       "    .dataframe thead th {\n",
       "        text-align: right;\n",
       "    }\n",
       "</style>\n",
       "<table border=\"1\" class=\"dataframe\">\n",
       "  <thead>\n",
       "    <tr style=\"text-align: right;\">\n",
       "      <th></th>\n",
       "      <th>0</th>\n",
       "      <th>1</th>\n",
       "      <th>0.1</th>\n",
       "      <th>1.1</th>\n",
       "      <th>0.2</th>\n",
       "      <th>1.2</th>\n",
       "      <th>0.3</th>\n",
       "      <th>1.3</th>\n",
       "      <th>0.4</th>\n",
       "      <th>1.4</th>\n",
       "      <th>0.5</th>\n",
       "      <th>1.5</th>\n",
       "      <th>0.6</th>\n",
       "      <th>1.6</th>\n",
       "      <th>0.7</th>\n",
       "      <th>1.7</th>\n",
       "      <th>0.8</th>\n",
       "      <th>1.8</th>\n",
       "    </tr>\n",
       "  </thead>\n",
       "  <tbody>\n",
       "    <tr>\n",
       "      <th>0</th>\n",
       "      <td>0.510936</td>\n",
       "      <td>0.489064</td>\n",
       "      <td>0.455467</td>\n",
       "      <td>0.544533</td>\n",
       "      <td>0.215536</td>\n",
       "      <td>0.784464</td>\n",
       "      <td>0.611111</td>\n",
       "      <td>0.388889</td>\n",
       "      <td>0.486318</td>\n",
       "      <td>0.513682</td>\n",
       "      <td>0.535831</td>\n",
       "      <td>0.464169</td>\n",
       "      <td>0.232675</td>\n",
       "      <td>0.767325</td>\n",
       "      <td>0.236869</td>\n",
       "      <td>0.763131</td>\n",
       "      <td>0.631611</td>\n",
       "      <td>0.368389</td>\n",
       "    </tr>\n",
       "    <tr>\n",
       "      <th>1</th>\n",
       "      <td>0.022331</td>\n",
       "      <td>0.977669</td>\n",
       "      <td>0.011720</td>\n",
       "      <td>0.988280</td>\n",
       "      <td>0.035872</td>\n",
       "      <td>0.964128</td>\n",
       "      <td>0.007557</td>\n",
       "      <td>0.992443</td>\n",
       "      <td>0.011549</td>\n",
       "      <td>0.988451</td>\n",
       "      <td>0.013125</td>\n",
       "      <td>0.986875</td>\n",
       "      <td>0.016687</td>\n",
       "      <td>0.983313</td>\n",
       "      <td>0.040393</td>\n",
       "      <td>0.959607</td>\n",
       "      <td>0.031382</td>\n",
       "      <td>0.968618</td>\n",
       "    </tr>\n",
       "    <tr>\n",
       "      <th>2</th>\n",
       "      <td>0.125976</td>\n",
       "      <td>0.874024</td>\n",
       "      <td>0.559110</td>\n",
       "      <td>0.440890</td>\n",
       "      <td>0.625297</td>\n",
       "      <td>0.374703</td>\n",
       "      <td>0.691098</td>\n",
       "      <td>0.308902</td>\n",
       "      <td>0.477955</td>\n",
       "      <td>0.522045</td>\n",
       "      <td>0.825367</td>\n",
       "      <td>0.174633</td>\n",
       "      <td>0.721736</td>\n",
       "      <td>0.278264</td>\n",
       "      <td>0.431879</td>\n",
       "      <td>0.568121</td>\n",
       "      <td>0.344371</td>\n",
       "      <td>0.655629</td>\n",
       "    </tr>\n",
       "    <tr>\n",
       "      <th>3</th>\n",
       "      <td>0.977989</td>\n",
       "      <td>0.022011</td>\n",
       "      <td>0.916201</td>\n",
       "      <td>0.083799</td>\n",
       "      <td>0.975953</td>\n",
       "      <td>0.024047</td>\n",
       "      <td>0.965181</td>\n",
       "      <td>0.034819</td>\n",
       "      <td>0.966935</td>\n",
       "      <td>0.033065</td>\n",
       "      <td>0.994354</td>\n",
       "      <td>0.005646</td>\n",
       "      <td>0.985996</td>\n",
       "      <td>0.014004</td>\n",
       "      <td>0.986199</td>\n",
       "      <td>0.013801</td>\n",
       "      <td>0.976922</td>\n",
       "      <td>0.023078</td>\n",
       "    </tr>\n",
       "    <tr>\n",
       "      <th>4</th>\n",
       "      <td>0.068046</td>\n",
       "      <td>0.931954</td>\n",
       "      <td>0.019060</td>\n",
       "      <td>0.980940</td>\n",
       "      <td>0.046455</td>\n",
       "      <td>0.953545</td>\n",
       "      <td>0.150941</td>\n",
       "      <td>0.849059</td>\n",
       "      <td>0.097473</td>\n",
       "      <td>0.902527</td>\n",
       "      <td>0.016263</td>\n",
       "      <td>0.983737</td>\n",
       "      <td>0.032257</td>\n",
       "      <td>0.967743</td>\n",
       "      <td>0.055927</td>\n",
       "      <td>0.944073</td>\n",
       "      <td>0.127429</td>\n",
       "      <td>0.872571</td>\n",
       "    </tr>\n",
       "    <tr>\n",
       "      <th>...</th>\n",
       "      <td>...</td>\n",
       "      <td>...</td>\n",
       "      <td>...</td>\n",
       "      <td>...</td>\n",
       "      <td>...</td>\n",
       "      <td>...</td>\n",
       "      <td>...</td>\n",
       "      <td>...</td>\n",
       "      <td>...</td>\n",
       "      <td>...</td>\n",
       "      <td>...</td>\n",
       "      <td>...</td>\n",
       "      <td>...</td>\n",
       "      <td>...</td>\n",
       "      <td>...</td>\n",
       "      <td>...</td>\n",
       "      <td>...</td>\n",
       "      <td>...</td>\n",
       "    </tr>\n",
       "    <tr>\n",
       "      <th>5266</th>\n",
       "      <td>0.996729</td>\n",
       "      <td>0.003271</td>\n",
       "      <td>0.997648</td>\n",
       "      <td>0.002352</td>\n",
       "      <td>0.995534</td>\n",
       "      <td>0.004466</td>\n",
       "      <td>0.996378</td>\n",
       "      <td>0.003622</td>\n",
       "      <td>0.990421</td>\n",
       "      <td>0.009579</td>\n",
       "      <td>0.994426</td>\n",
       "      <td>0.005574</td>\n",
       "      <td>0.997327</td>\n",
       "      <td>0.002673</td>\n",
       "      <td>0.994056</td>\n",
       "      <td>0.005944</td>\n",
       "      <td>0.989835</td>\n",
       "      <td>0.010165</td>\n",
       "    </tr>\n",
       "    <tr>\n",
       "      <th>5267</th>\n",
       "      <td>0.075165</td>\n",
       "      <td>0.924835</td>\n",
       "      <td>0.130636</td>\n",
       "      <td>0.869364</td>\n",
       "      <td>0.029050</td>\n",
       "      <td>0.970950</td>\n",
       "      <td>0.062530</td>\n",
       "      <td>0.937470</td>\n",
       "      <td>0.149563</td>\n",
       "      <td>0.850437</td>\n",
       "      <td>0.032722</td>\n",
       "      <td>0.967278</td>\n",
       "      <td>0.095281</td>\n",
       "      <td>0.904719</td>\n",
       "      <td>0.076632</td>\n",
       "      <td>0.923368</td>\n",
       "      <td>0.045403</td>\n",
       "      <td>0.954597</td>\n",
       "    </tr>\n",
       "    <tr>\n",
       "      <th>5268</th>\n",
       "      <td>0.984941</td>\n",
       "      <td>0.015059</td>\n",
       "      <td>0.983316</td>\n",
       "      <td>0.016684</td>\n",
       "      <td>0.986923</td>\n",
       "      <td>0.013077</td>\n",
       "      <td>0.971804</td>\n",
       "      <td>0.028196</td>\n",
       "      <td>0.983740</td>\n",
       "      <td>0.016260</td>\n",
       "      <td>0.979821</td>\n",
       "      <td>0.020179</td>\n",
       "      <td>0.978366</td>\n",
       "      <td>0.021634</td>\n",
       "      <td>0.979370</td>\n",
       "      <td>0.020630</td>\n",
       "      <td>0.973150</td>\n",
       "      <td>0.026850</td>\n",
       "    </tr>\n",
       "    <tr>\n",
       "      <th>5269</th>\n",
       "      <td>0.310115</td>\n",
       "      <td>0.689885</td>\n",
       "      <td>0.358750</td>\n",
       "      <td>0.641250</td>\n",
       "      <td>0.131582</td>\n",
       "      <td>0.868418</td>\n",
       "      <td>0.382971</td>\n",
       "      <td>0.617029</td>\n",
       "      <td>0.391356</td>\n",
       "      <td>0.608644</td>\n",
       "      <td>0.668245</td>\n",
       "      <td>0.331755</td>\n",
       "      <td>0.304421</td>\n",
       "      <td>0.695579</td>\n",
       "      <td>0.181285</td>\n",
       "      <td>0.818715</td>\n",
       "      <td>0.355245</td>\n",
       "      <td>0.644755</td>\n",
       "    </tr>\n",
       "    <tr>\n",
       "      <th>5270</th>\n",
       "      <td>0.017360</td>\n",
       "      <td>0.982640</td>\n",
       "      <td>0.020600</td>\n",
       "      <td>0.979400</td>\n",
       "      <td>0.018678</td>\n",
       "      <td>0.981322</td>\n",
       "      <td>0.006383</td>\n",
       "      <td>0.993617</td>\n",
       "      <td>0.041686</td>\n",
       "      <td>0.958314</td>\n",
       "      <td>0.006903</td>\n",
       "      <td>0.993097</td>\n",
       "      <td>0.025711</td>\n",
       "      <td>0.974289</td>\n",
       "      <td>0.018226</td>\n",
       "      <td>0.981774</td>\n",
       "      <td>0.013183</td>\n",
       "      <td>0.986817</td>\n",
       "    </tr>\n",
       "  </tbody>\n",
       "</table>\n",
       "<p>5271 rows × 18 columns</p>\n",
       "</div>"
      ],
      "text/plain": [
       "             0         1       0.1       1.1       0.2       1.2       0.3  \\\n",
       "0     0.510936  0.489064  0.455467  0.544533  0.215536  0.784464  0.611111   \n",
       "1     0.022331  0.977669  0.011720  0.988280  0.035872  0.964128  0.007557   \n",
       "2     0.125976  0.874024  0.559110  0.440890  0.625297  0.374703  0.691098   \n",
       "3     0.977989  0.022011  0.916201  0.083799  0.975953  0.024047  0.965181   \n",
       "4     0.068046  0.931954  0.019060  0.980940  0.046455  0.953545  0.150941   \n",
       "...        ...       ...       ...       ...       ...       ...       ...   \n",
       "5266  0.996729  0.003271  0.997648  0.002352  0.995534  0.004466  0.996378   \n",
       "5267  0.075165  0.924835  0.130636  0.869364  0.029050  0.970950  0.062530   \n",
       "5268  0.984941  0.015059  0.983316  0.016684  0.986923  0.013077  0.971804   \n",
       "5269  0.310115  0.689885  0.358750  0.641250  0.131582  0.868418  0.382971   \n",
       "5270  0.017360  0.982640  0.020600  0.979400  0.018678  0.981322  0.006383   \n",
       "\n",
       "           1.3       0.4       1.4       0.5       1.5       0.6       1.6  \\\n",
       "0     0.388889  0.486318  0.513682  0.535831  0.464169  0.232675  0.767325   \n",
       "1     0.992443  0.011549  0.988451  0.013125  0.986875  0.016687  0.983313   \n",
       "2     0.308902  0.477955  0.522045  0.825367  0.174633  0.721736  0.278264   \n",
       "3     0.034819  0.966935  0.033065  0.994354  0.005646  0.985996  0.014004   \n",
       "4     0.849059  0.097473  0.902527  0.016263  0.983737  0.032257  0.967743   \n",
       "...        ...       ...       ...       ...       ...       ...       ...   \n",
       "5266  0.003622  0.990421  0.009579  0.994426  0.005574  0.997327  0.002673   \n",
       "5267  0.937470  0.149563  0.850437  0.032722  0.967278  0.095281  0.904719   \n",
       "5268  0.028196  0.983740  0.016260  0.979821  0.020179  0.978366  0.021634   \n",
       "5269  0.617029  0.391356  0.608644  0.668245  0.331755  0.304421  0.695579   \n",
       "5270  0.993617  0.041686  0.958314  0.006903  0.993097  0.025711  0.974289   \n",
       "\n",
       "           0.7       1.7       0.8       1.8  \n",
       "0     0.236869  0.763131  0.631611  0.368389  \n",
       "1     0.040393  0.959607  0.031382  0.968618  \n",
       "2     0.431879  0.568121  0.344371  0.655629  \n",
       "3     0.986199  0.013801  0.976922  0.023078  \n",
       "4     0.055927  0.944073  0.127429  0.872571  \n",
       "...        ...       ...       ...       ...  \n",
       "5266  0.994056  0.005944  0.989835  0.010165  \n",
       "5267  0.076632  0.923368  0.045403  0.954597  \n",
       "5268  0.979370  0.020630  0.973150  0.026850  \n",
       "5269  0.181285  0.818715  0.355245  0.644755  \n",
       "5270  0.018226  0.981774  0.013183  0.986817  \n",
       "\n",
       "[5271 rows x 18 columns]"
      ]
     },
     "execution_count": 181,
     "metadata": {},
     "output_type": "execute_result"
    }
   ],
   "source": [
    "test_pred = vote.predict_proba(x_test)\n",
    "total_test = pd.DataFrame() # 처음에만 실햄\n",
    "total_test = pd.concat([total_test, pd.DataFrame(test_pred)], axis = 1)\n",
    "total_test.to_csv('7-13test.csv', index = 0)"
   ]
  },
  {
   "cell_type": "code",
   "execution_count": 188,
   "id": "1d556963",
   "metadata": {},
   "outputs": [],
   "source": [
    "ff = total_test.iloc[:, ::2].mean(axis = 1)\n",
    "tt = total_test.iloc[:, 1::2].mean(axis = 1)\n",
    "\n",
    "result = []\n",
    "for i in range(len(ff)):\n",
    "    if ff[i] > tt[i]:\n",
    "        result.append(0)\n",
    "    elif ff[i] < tt[i]:\n",
    "        result.append(1)\n",
    "        \n",
    "result = np.array(result)"
   ]
  },
  {
   "cell_type": "code",
   "execution_count": 356,
   "id": "5bc7108d",
   "metadata": {},
   "outputs": [],
   "source": [
    "# 제출 데이터 읽어오기 (df_test는 전처리된 데이터가 저장됨)\n",
    "df_sub = pd.read_csv(\"submission.csv\")\n",
    "df_sub[\"is_converted\"] = result\n",
    "\n",
    "# 제출 파일 저장\n",
    "df_sub.to_csv(\"submission.csv\", index=False)"
   ]
  }
 ],
 "metadata": {
  "kernelspec": {
   "display_name": "Python 3 (ipykernel)",
   "language": "python",
   "name": "python3"
  },
  "language_info": {
   "codemirror_mode": {
    "name": "ipython",
    "version": 3
   },
   "file_extension": ".py",
   "mimetype": "text/x-python",
   "name": "python",
   "nbconvert_exporter": "python",
   "pygments_lexer": "ipython3",
   "version": "3.10.9"
  }
 },
 "nbformat": 4,
 "nbformat_minor": 5
}
