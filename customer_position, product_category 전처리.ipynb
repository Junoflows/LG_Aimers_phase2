{
 "cells": [
  {
   "cell_type": "markdown",
   "id": "017e9265",
   "metadata": {},
   "source": [
    "# 영업 성공 여부 분류 경진대회"
   ]
  },
  {
   "cell_type": "markdown",
   "id": "acdab431",
   "metadata": {},
   "source": [
    "## 1. 데이터 확인"
   ]
  },
  {
   "cell_type": "markdown",
   "id": "2b8341e8",
   "metadata": {},
   "source": [
    "### 필수 라이브러리"
   ]
  },
  {
   "cell_type": "code",
   "execution_count": 64,
   "id": "a315cc58",
   "metadata": {},
   "outputs": [],
   "source": [
    "import pandas as pd\n",
    "import numpy as np\n",
    "import seaborn as sns\n",
    "import matplotlib.pyplot as plt\n",
    "from sklearn.metrics import (\n",
    "    accuracy_score,\n",
    "    confusion_matrix,\n",
    "    f1_score,\n",
    "    precision_score,\n",
    "    recall_score,\n",
    ")\n",
    "from sklearn.model_selection import train_test_split\n",
    "from sklearn.tree import DecisionTreeClassifier\n",
    "\n",
    "from sklearn.metrics import (\n",
    "    accuracy_score,\n",
    "    confusion_matrix,\n",
    "    f1_score,\n",
    "    precision_score,\n",
    "    recall_score,\n",
    ")"
   ]
  },
  {
   "cell_type": "code",
   "execution_count": 65,
   "id": "7c46ecc3",
   "metadata": {},
   "outputs": [],
   "source": [
    "# 출력 옵션 설정\n",
    "pd.set_option('display.max_columns', None)  # 모든 열 출력"
   ]
  },
  {
   "cell_type": "code",
   "execution_count": 149,
   "id": "9cde455a",
   "metadata": {},
   "outputs": [
    {
     "data": {
      "text/html": [
       "<style>.container { width:95% !important; }</style>"
      ],
      "text/plain": [
       "<IPython.core.display.HTML object>"
      ]
     },
     "metadata": {},
     "output_type": "display_data"
    }
   ],
   "source": [
    "from IPython.display import display, HTML\n",
    "display(HTML(\"<style>.container { width:95% !important; }</style>\"))"
   ]
  },
  {
   "cell_type": "markdown",
   "id": "412f98cc",
   "metadata": {},
   "source": [
    "### 데이터 셋 읽어오기"
   ]
  },
  {
   "cell_type": "code",
   "execution_count": 150,
   "id": "6661f389",
   "metadata": {},
   "outputs": [],
   "source": [
    "df_train = pd.read_csv(\"train.csv\") # 학습용 데이터\n",
    "df_test = pd.read_csv(\"submission.csv\") # 테스트 데이터(제출파일의 데이터)"
   ]
  },
  {
   "cell_type": "code",
   "execution_count": 151,
   "id": "b93170e8",
   "metadata": {},
   "outputs": [],
   "source": [
    "# \t/Quezon City/Philippines -> Philippines 변경\n",
    "df_train['customer_country'] = df_train['customer_country'].apply(lambda x: x.rsplit('/', 1)[-1].strip() if isinstance(x, str) else x)\n",
    "df_train['customer_country'] = df_train['customer_country.1'].apply(lambda x: x.rsplit('/', 1)[-1].strip() if isinstance(x, str) else x)\n",
    "\n",
    "# \t/Quezon City/Philippines -> Philippines 변경\n",
    "df_test['customer_country'] = df_test['customer_country'].apply(lambda x: x.rsplit('/', 1)[-1].strip() if isinstance(x, str) else x)\n",
    "df_test['customer_country'] = df_test['customer_country.1'].apply(lambda x: x.rsplit('/', 1)[-1].strip() if isinstance(x, str) else x)"
   ]
  },
  {
   "cell_type": "code",
   "execution_count": 152,
   "id": "f183a675",
   "metadata": {},
   "outputs": [
    {
     "data": {
      "text/plain": [
       "((64570, 30), (59299, 29), (5271, 30))"
      ]
     },
     "execution_count": 152,
     "metadata": {},
     "output_type": "execute_result"
    }
   ],
   "source": [
    "df_all = pd.concat([df_train, df_test])\n",
    "df_all.shape, df_train.shape, df_test.shape"
   ]
  },
  {
   "cell_type": "code",
   "execution_count": 153,
   "id": "4930f493",
   "metadata": {},
   "outputs": [
    {
     "data": {
      "text/plain": [
       "bant_submit                    0\n",
       "customer_country             982\n",
       "business_unit                  0\n",
       "com_reg_ver_win_rate       48214\n",
       "customer_idx                   0\n",
       "customer_type              45418\n",
       "enterprise                     0\n",
       "historical_existing_cnt    49539\n",
       "customer_job               20172\n",
       "lead_desc_length               0\n",
       "inquiry_type                2233\n",
       "product_category           21232\n",
       "customer_position              0\n",
       "response_corporate             0\n",
       "expected_timeline          33271\n",
       "ver_win_rate_x             43780\n",
       "ver_win_ratio_per_bu       47360\n",
       "lead_owner                     0\n",
       "is_converted                   0\n",
       "id                         59299\n",
       "dtype: int64"
      ]
     },
     "execution_count": 153,
     "metadata": {},
     "output_type": "execute_result"
    }
   ],
   "source": [
    "# 열 삭제\n",
    "drop_col = ['customer_country.1', 'id_strategic_ver', 'it_strategic_ver', 'idit_strategic_ver',\n",
    "            'product_subcategory', 'product_modelname', 'business_area', 'business_subarea', 'ver_cus', 'ver_pro']\n",
    "\n",
    "df_all.drop(columns = drop_col, inplace = True)\n",
    "df_all.isnull().sum()"
   ]
  },
  {
   "cell_type": "code",
   "execution_count": 154,
   "id": "c482a009",
   "metadata": {},
   "outputs": [
    {
     "data": {
      "text/plain": [
       "bant_submit                    0\n",
       "customer_country             982\n",
       "business_unit                  0\n",
       "com_reg_ver_win_rate           0\n",
       "customer_idx                   0\n",
       "customer_type              45418\n",
       "enterprise                     0\n",
       "historical_existing_cnt        0\n",
       "customer_job               20172\n",
       "lead_desc_length               0\n",
       "inquiry_type                2233\n",
       "product_category           21232\n",
       "customer_position              0\n",
       "response_corporate             0\n",
       "expected_timeline          33271\n",
       "ver_win_rate_x                 0\n",
       "ver_win_ratio_per_bu           0\n",
       "lead_owner                     0\n",
       "is_converted                   0\n",
       "id                         59299\n",
       "dtype: int64"
      ]
     },
     "execution_count": 154,
     "metadata": {},
     "output_type": "execute_result"
    }
   ],
   "source": [
    "# 결측값 0으로 넣을 컬럼\n",
    "fillna_col = ['com_reg_ver_win_rate', 'historical_existing_cnt',\n",
    "             'ver_win_rate_x', 'ver_win_ratio_per_bu']\n",
    "\n",
    "for col in fillna_col:\n",
    "    df_all[col] = df_all[col].fillna(0)\n",
    "\n",
    "df_all.isnull().sum()"
   ]
  },
  {
   "cell_type": "code",
   "execution_count": 155,
   "id": "7e59dd2e",
   "metadata": {},
   "outputs": [],
   "source": [
    "df_all['customer_type'] = df_all['customer_type'].str.lower()\n",
    "df_all['customer_type'] = df_all['customer_type'].replace(['etc.', 'other', 'others'], 'etc')\n",
    "df_all['customer_type'] = df_all['customer_type'].replace(['end-customer', 'end customer', 'end-user'], 'end_user')\n",
    "df_all['customer_type'] = df_all['customer_type'].replace(['specifier/ influencer', 'specifier / influencer'], 'influencer')\n",
    "df_all['customer_type'] = df_all['customer_type'].replace(['homeowner', 'home owner'], 'home_owner')\n",
    "df_all['customer_type'] = df_all['customer_type'].replace(['software/solution provider', 'software / solution provider'], 'solution_provider')\n",
    "df_all['customer_type'] = df_all['customer_type'].replace(['engineer', 'hvac engineer'], 'engineer')\n",
    "df_all['customer_type'] = df_all['customer_type'].replace(['distributor', 'dealer/distributor'], 'distributor')\n",
    "df_all['customer_type'].fillna('etc', inplace = True)"
   ]
  },
  {
   "cell_type": "code",
   "execution_count": 156,
   "id": "d0a8c4ed",
   "metadata": {
    "scrolled": true
   },
   "outputs": [],
   "source": [
    "# value_counts 가 1개인 것들 etc로 분류\n",
    "value_counts = df_all['customer_type'].value_counts()\n",
    "values_to_replace = value_counts[value_counts == 1].index\n",
    "df_all['customer_type'] = df_all['customer_type'].apply(lambda x: 'etc' if x in values_to_replace else x)"
   ]
  },
  {
   "cell_type": "code",
   "execution_count": 157,
   "id": "10147934",
   "metadata": {},
   "outputs": [],
   "source": [
    "df_all['inquiry_type'] = df_all['inquiry_type'].str.lower()\n",
    "df_all['inquiry_type'] = df_all['inquiry_type'].replace(['etc.', 'other', 'other_', 'others'], 'etc')\n",
    "df_all['inquiry_type'] = df_all['inquiry_type'].replace(['sales inquiry', 'sales', 'probeam precio'], 'sales inquiry')\n",
    "df_all['inquiry_type'] = df_all['inquiry_type'].replace(['quotation or purchase consultation', 'request for quotation or purchase', 'quotation_or_purchase_consultation', 'purchase or quotation', 'quotation_', 'purchase'], 'quotation_or_purchase_consultation')\n",
    "df_all['inquiry_type'] = df_all['inquiry_type'].replace(['usage or technical consultation', 'technical consultation', 'request for technical consulting', 'usage_or_technical_consultation', 'technical_consultation', 'technical'], 'usage or technical consultation')\n",
    "df_all['inquiry_type'] = df_all['inquiry_type'].replace(['vui lòng báo giá giúp mình sản phẩm đo thân nhiệt xin cảm ơn', 'tôi cần tham khảo giá và giải pháp từ lg'], 'quotation_or_purchase_consultation')\n",
    "df_all['inquiry_type'] = df_all['inquiry_type'].replace(['toi muon tim hieu thong tin ky thuat, gia ca cua sp de su dung'], 'product information')"
   ]
  },
  {
   "cell_type": "code",
   "execution_count": 158,
   "id": "626faad4",
   "metadata": {},
   "outputs": [],
   "source": [
    "# value_counts 가 1개인 것들 etc로 분류\n",
    "value_counts = df_all['inquiry_type'].value_counts()\n",
    "values_to_replace = value_counts[value_counts == 1].index\n",
    "df_all['inquiry_type'] = df_all['inquiry_type'].apply(lambda x: 'etc' if x in values_to_replace else x)"
   ]
  },
  {
   "cell_type": "code",
   "execution_count": 159,
   "id": "9a264f62",
   "metadata": {},
   "outputs": [],
   "source": [
    "df_all['inquiry_type'].fillna('etc', inplace = True)"
   ]
  },
  {
   "cell_type": "code",
   "execution_count": 160,
   "id": "9cd725d9",
   "metadata": {},
   "outputs": [],
   "source": [
    "# custoper_position 전처리\n",
    "df_all['customer_position'] = df_all['customer_position'].replace(['ceo/founder', 'partner', 'vice president', 'c-level executive', 'director', 'vicepresident', 'c-levelexecutive', 'vp','leadership/executive office/owner', 'president'\n",
    "                                                                   'principal & director', 'business partner', 'chairman', 'co-founder', 'chief executive officer', 'subsidiary sales (ise)', 'ceo/fundador', 'gerente', 'the big boss',\n",
    "                                                                  'principal & director', 'president'], 'ceo')\n",
    "df_all['customer_position'] = df_all['customer_position'].replace(['consultant', 'commercial consultant', 'architecture/consult', 'architect/consultant'], 'consult')\n",
    "df_all['customer_position'] = df_all['customer_position'].replace(['customer', 'customer_position'], 'customer')\n",
    "df_all['customer_position'] = df_all['customer_position'].replace(['decision-influencer', 'decision maker', 'decision influencer'], 'decision')\n",
    "df_all['customer_position'] = df_all['customer_position'].replace(['distributor', 'cargo'], 'distributor')\n",
    "df_all['customer_position'] = df_all['customer_position'].replace(['physics teacher','assistant professor','maths lecturer','science teacher','guest faculty','physics faculty','teacher/middle school coordinator','prof.',\n",
    "                                                                   'academic specialist','principal at oxford integrated pu science college','math and physics teacher','professor of mathematics','physics and mathematics teacher',\n",
    "                                                                   'assistant professor of english','educator','professor','quantitative aptitude faculty','english trainer for ielts,toefl,pte,gre,sat exams.','associate professor',\n",
    "                                                                   'pgt physics','education professional','chemistry teacher','director cum faculty at gaining apex coaching centre','teacher','senior lecturer',\n",
    "                                                                   'neet/ olympiad expert faculty','associate professor in electronics engg','education','pgt chemistry', \n",
    "                                                                   'academic coordinator/ post graduate teacher (accountancy, business studies)/ tgt (ict)','assistant professor of enlish'], 'education')\n",
    "df_all['customer_position'] = df_all['customer_position'].replace(['entry level','intern','trainee','entrylevel','employee'], 'employee')\n",
    "\n",
    "df_all['customer_position'] = df_all['customer_position'].replace(['exhibition','exhibitiontv'], 'exhibition')\n",
    "df_all['customer_position'] = df_all['customer_position'].replace(['hospital', 'medical device manufacturer', 'medical imaging specialist', 'tierarzt', 'surgery professional', 'pathologist'], 'medical')\n",
    "df_all['customer_position'] = df_all['customer_position'].replace(['not applicable','none','other','others'], 'etc')\n",
    "df_all['customer_position'] = df_all['customer_position'].replace(['manager','associate/analyst','consulting','lider de desarrollo','decision-maker','business unit director','business development','operations',\n",
    "                                                                   'product management','market intelligence/research'], 'pm')\n",
    "df_all['customer_position'] = df_all['customer_position'].replace(['asst prof.','professional trainer','radiology professional'], 'professional')\n",
    "df_all['customer_position'] = df_all['customer_position'].replace(['this is a consume display requirement for home purpose.','unpaid','homeowner','no influence'], 'unemployed')"
   ]
  },
  {
   "cell_type": "code",
   "execution_count": 161,
   "id": "2df0f649",
   "metadata": {},
   "outputs": [],
   "source": [
    "# value_counts가 1인거 etc로 묶기\n",
    "value_counts = df_all['customer_position'].value_counts()\n",
    "values_to_replace = value_counts[value_counts == 1].index\n",
    "df_all['customer_position'] = df_all['customer_position'].apply(lambda x: 'etc' if x in values_to_replace else x)\n",
    "df_all['customer_position'].fillna('etc', inplace = True)"
   ]
  },
  {
   "cell_type": "code",
   "execution_count": 162,
   "id": "8d4fdbb6",
   "metadata": {},
   "outputs": [
    {
     "name": "stdout",
     "output_type": "stream",
     "text": [
      "27\n"
     ]
    },
    {
     "data": {
      "text/plain": [
       "array(['employee', 'ceo', 'pm', 'etc', 'unemployed', 'education',\n",
       "       'av management', 'founder', 'engineering', 'installer', 'consult',\n",
       "       'commercial end-user', 'bulgaria', 'administrative',\n",
       "       'entrepreneurship', 'decision', 'customer', 'exhibition',\n",
       "       'medical', 'end-user', 'government', 'manufacturer',\n",
       "       'software /solution provider', 'system integrator', 'distributor',\n",
       "       'other - please specify - cedia association', 'professional'],\n",
       "      dtype=object)"
      ]
     },
     "execution_count": 162,
     "metadata": {},
     "output_type": "execute_result"
    }
   ],
   "source": [
    "print(len(df_all.customer_position.unique()))\n",
    "df_all.customer_position.unique()"
   ]
  },
  {
   "cell_type": "code",
   "execution_count": 163,
   "id": "19fcd28c",
   "metadata": {},
   "outputs": [
    {
     "name": "stdout",
     "output_type": "stream",
     "text": [
      "360\n"
     ]
    }
   ],
   "source": [
    "print(len(df_all.product_category.unique()))\n"
   ]
  },
  {
   "cell_type": "code",
   "execution_count": 164,
   "id": "d8eed2e0",
   "metadata": {},
   "outputs": [],
   "source": [
    "# product_category 전처리\n",
    "\n",
    "df_all['product_category'] = df_all['product_category'].replace([\n",
    "    'aire acondicionado residencial',\n",
    "    'systèmes de débit à réfrigérant variable (drv)',\n",
    "    'climatiseur résidentiel',\n",
    "    'residential air conditioner',\n",
    "    'solar,chiller',\n",
    "    'system ac,rac',\n",
    "    'pendingin',\n",
    "    'ar condicionado residencial',\n",
    "    'vrf,multi-split',\n",
    "    'vrf,multi-split,chiller',\n",
    "    'vrf,multi-split,single-split,chiller,heating',\n",
    "    'system air conditioner',\n",
    "    'system ac,chiller',\n",
    "    'system ac'\n",
    "], 'air_conditioner')\n",
    "\n",
    "df_all['product_category'] = df_all['product_category'].replace([\n",
    "    'aircare,built-in/cooking',\n",
    "    'lg home bliss air solution',\n",
    "    'lg paradise air solution',\n",
    "    'chiller,aircare',\n",
    "    'aircare,water care',\n",
    "    'solar,aircare'\n",
    "], 'air_care')\n",
    "\n",
    "df_all['product_category'] = df_all['product_category'].replace([\n",
    "    'signage care solution',\n",
    "    'signage care solutions'\n",
    "], 'care solution')\n",
    "\n",
    "df_all['product_category'] = df_all['product_category'].replace([\n",
    "    'chiller,refrigerator',\n",
    "    'refrigerator,chiller'\n",
    "], 'chiller_refrigerator')\n",
    "\n",
    "df_all['product_category'] = df_all['product_category'].replace([\n",
    "    'pc',\n",
    "    'laptop',\n",
    "    'notebook'\n",
    "], 'computer')\n",
    "\n",
    "df_all['product_category'] = df_all['product_category'].replace([\n",
    "    'oled signage',\n",
    "    'video wall',\n",
    "    'one:quick series',\n",
    "    'lg one:quick',\n",
    "    'commercial display',\n",
    "    'interactive digital board',\n",
    "    'standard',\n",
    "    'uhd signage',\n",
    "    'lg one:quick series',\n",
    "    'aio | one quick',\n",
    "    'hospital tv',\n",
    "    'medical display',\n",
    "    'one quick works',\n",
    "    'fhd series',\n",
    "    'onequick series',\n",
    "    'led aio 136',\n",
    "    '110 + video wall',\n",
    "    'aio',\n",
    "    'one:quick flex',\n",
    "    'collaboration displays',\n",
    "    'meeting & screen sharedirect view leddirect view led',\n",
    "    'window facing display',\n",
    "    'led',\n",
    "    'medical displays',\n",
    "    'videwall',\n",
    "    'laec015',\n",
    "    'laec015-gn.awz',\n",
    "    '55vm5e-a',\n",
    "    'laec15',\n",
    "    'standalone',\n",
    "    'ledallinone',\n",
    "    '55svh7f-a',\n",
    "    '98uh5e',\n",
    "    'pro:centric'\n",
    "], 'display')\n",
    "\n",
    "df_all['product_category'] = df_all['product_category'].replace([\n",
    "    'energy storage system',\n",
    "    'ess'\n",
    "], 'ess')\n",
    "\n",
    "df_all['product_category'] = df_all['product_category'].replace([\n",
    "    'teto ou cassete inverter',\n",
    "    'multi inverter'\n",
    "], 'inventer')\n",
    "\n",
    "df_all['product_category'] = df_all['product_category'].replace(['monitor',\n",
    "    'monitor signage,commercial tv,monior/monitor tv',\n",
    "    'monitor signage,monior/monitor tv',\n",
    "    'monitor signage,commercial tv,monior/monitor tv,projector,tv',\n",
    "    'monitor signage,commercial tv,monior/monitor tv,tv',\n",
    "    'commercial tv,tv',\n",
    "    'monior/monitor tv,tv',\n",
    "    '28mq780',\n",
    "    'computer monitors',\n",
    "    'medical monitors',\n",
    "    'monior/monitor tv,chiller',\n",
    "    'monitor signage,commercial tv',\n",
    "    'monitor signage,solar',\n",
    "    'solar,monior/monitor tv',\n",
    "    'monior/monitor tv,pc',\n",
    "    'monitor signage,tv',\n",
    "    'monitor signage,commercial tv,audio/video',\n",
    "    'monitor signage,monior/monitor tv,commercial tv',\n",
    "    'commercial tv,monior/monitor tv',\n",
    "    'radiology displays',\n",
    "    'high inch 86 / 98 or 110',\n",
    "    'information display,monitor',\n",
    "    'taa lcd lfd displays',\n",
    "    'monior/monitor tv,audio/video',\n",
    "    'medical monitor',\n",
    "    'monior/monitor tv,projector,audio/video',\n",
    "    'monitor signage,mobile',\n",
    "    'monitorindustrial_rmk',\n",
    "    'surgical monitor'\n",
    "], 'monitor')\n",
    "\n",
    "df_all['product_category'] = df_all['product_category'].replace([\n",
    "    'multi-split',\n",
    "    'multi split',\n",
    "    'multi-split (plusieurs pi챔ces)'\n",
    "], 'multi_split')\n",
    "\n",
    "df_all['product_category'] = df_all['product_category'].replace([\n",
    "    'etc.',\n",
    "    'others',\n",
    "    'outros',\n",
    "    'other',\n",
    "    'lainnya',\n",
    "    'others',\n",
    "    'not specified'\n",
    "], 'etc')\n",
    "\n",
    "df_all['product_category'] = df_all['product_category'].replace([\n",
    "    'multi v',\n",
    "    'multi v 5 air',\n",
    "    'multi v water 5'\n",
    "], 'outdoor_unit')\n",
    "\n",
    "df_all['product_category'] = df_all['product_category'].replace([\n",
    "    'projector',\n",
    "    'bu50nst'\n",
    "], 'projector')\n",
    "\n",
    "df_all['product_category'] = df_all['product_category'].replace([\n",
    "    'standard signage',\n",
    "    'high brightness signage',\n",
    "    'interactive signage',\n",
    "    'video wall signage',\n",
    "    'led signage',\n",
    "    'special signage',\n",
    "    'ur640',\n",
    "    'ur640s',\n",
    "    'high brightness',\n",
    "    'digital signage',\n",
    "    'ultra stretch series',\n",
    "    'one quick:flex',\n",
    "    'videowall signage',\n",
    "    'tv signage',\n",
    "    'ultra stretch signage',\n",
    "    'digital signage or commercial tvs',\n",
    "    'gscd046',\n",
    "    '43uh5f-h.awzm',\n",
    "    '49vl5g-m.awzm',\n",
    "    '49vl5g-m',\n",
    "    '55vm5j-h',\n",
    "    '49vl5f',\n",
    "    'signage',\n",
    "    'videowall_rmk',\n",
    "    '86uh5f',\n",
    "    '55tc3d',\n",
    "    'video wall + aio',\n",
    "    'one:quick',\n",
    "    'gsca046',\n",
    "    'gscd100',\n",
    "    'lsca039'\n",
    "], 'signage')\n",
    "\n",
    "df_all['product_category'] = df_all['product_category'].replace([\n",
    "    'single-split',\n",
    "    'split tunggal',\n",
    "    'single split'\n",
    "], 'single_split')\n",
    "\n",
    "df_all['product_category'] = df_all['product_category'].replace([\n",
    "    'solar,energy storage system',\n",
    "    'solar,ess'\n",
    "], 'ess_solar')\n",
    "\n",
    "df_all['product_category'] = df_all['product_category'].replace([\n",
    "    'software solution',\n",
    "    'lg customer care program'\n",
    "], 'software_solution')\n",
    "\n",
    "df_all['product_category'] = df_all['product_category'].replace([\n",
    "    'solar,system ac',\n",
    "    'solar,ess,system ac'\n",
    "], 'solar_airconditioner')\n",
    "\n",
    "df_all['product_category'] = df_all['product_category'].replace([\n",
    "    'hotel tv',\n",
    "    'commercial tv',\n",
    "    'smart tv signage',\n",
    "    'commercial tv,audio/video',\n",
    "    '50uq801c0sb.bwz',\n",
    "    'tv',\n",
    "    '55us660h0sd.bwz',\n",
    "    '32lq621cbsb.awz',\n",
    "    '55uq801c0sb.bwz',\n",
    "    '43uq751c0sf.bwz',\n",
    "    'htv',\n",
    "    '43uq751c0sb.bwz',\n",
    "    '50us660h0sd.bwz',\n",
    "    'tv 60\"',\n",
    "    '43us660h (na)',\n",
    "    'pro centric hotel',\n",
    "    'comercial tv',\n",
    "    'smart tv',\n",
    "    'tv 55\"',\n",
    "    '32 pol',\n",
    "    'tv 43 pol',\n",
    "    '43 pol'\n",
    "], 'tv')\n",
    "\n",
    "df_all['product_category'] = df_all['product_category'].replace([\n",
    "    'pc,tv',\n",
    "    'tv,pc'\n",
    "], 'pc_tv')\n",
    "\n",
    "df_all['product_category'] = df_all['product_category'].replace([\n",
    "    'vrf',\n",
    "    'all lg vrf systems',\n",
    "    'multi v5 vrf',\n",
    "    'vrf - multi v s',\n",
    "    'klimatyzacja vrf'\n",
    "], 'vrf')"
   ]
  },
  {
   "cell_type": "code",
   "execution_count": 165,
   "id": "81588daf",
   "metadata": {},
   "outputs": [],
   "source": [
    "value_counts = df_all['product_category'].value_counts()\n",
    "values_to_replace = value_counts[value_counts == 1].index\n",
    "df_all['product_category'] = df_all['product_category'].apply(lambda x: 'etc' if x in values_to_replace else x)\n",
    "df_all['product_category'].fillna('etc', inplace = True)"
   ]
  },
  {
   "cell_type": "code",
   "execution_count": 166,
   "id": "80ccf588",
   "metadata": {
    "scrolled": true
   },
   "outputs": [
    {
     "name": "stdout",
     "output_type": "stream",
     "text": [
      "105\n"
     ]
    },
    {
     "data": {
      "text/plain": [
       "array(['multi_split', 'single_split', 'vrf', 'chiller', 'etc', 'rac',\n",
       "       'inventer', 'software_solution', 'ventilation',\n",
       "       'a thermodynamic water heater', 'air_conditioner', 'heating',\n",
       "       'חימום', 'signage', 'tv', 'care solution', 'display', 'idb',\n",
       "       'accessories', 'webos', 'monitor', 'computer', 'projector',\n",
       "       'cloud device', 'washing machine,dryer', 'air_care',\n",
       "       'monitor signage,commercial tv,solar,ess,monior/monitor tv,pc,projector,robot,system ac,ems,rac,chill',\n",
       "       'ess_solar', 'solar_airconditioner', '互動式顯示屏', 'led 顯示屏', '標準顯示屏',\n",
       "       '43us660h0sd.awz', '酒店電視', 'robots', 'oled 顯示屏', 'id',\n",
       "       'outdoor_unit', 'control', 'מזגנים למקום מגורים', 'مبرد (تشيلر)',\n",
       "       'ahu', 'isıtma', 'technical support', 'تكييفات', 'sales inquiry',\n",
       "       'تكييف وتبريد', 'error', 'monitor & pc', 'commercial tv,projector',\n",
       "       'system ac,aircare', 'monitor signage,audio/video',\n",
       "       'monitor signage,commercial tv,solar,ess,monior/monitor tv,pc',\n",
       "       'monitor signage,pc', 'solar', 'ess', 'commercial tv,robot',\n",
       "       'solar,projector', 'tv,audio/video', 'solar,refrigerator',\n",
       "       'system air conditioner,solar', 'solar,tv', 'chiller,water care',\n",
       "       'education createboard', 'virtual production', 'transparent oled',\n",
       "       'leadallin', 'ฯลฯ', 'commercial tv,water care', 'tv,commercial tv',\n",
       "       'system ac,chiller,aircare', 'otros',\n",
       "       'tv,refrigerator,washing machine', 'pc_tv',\n",
       "       'system ac,refrigerator', 'chiller_refrigerator', 'vrf,chiller',\n",
       "       'điều hòa trung tâm multi', 'ogrzewanie (pompy ciepła)',\n",
       "       'soğutucu', 'điều hòa gia dụng', 'نظام التدفق المتغيرvrf',\n",
       "       'corpouh5f', '特別顯示屏', 'corpuh5f-', 'allinone_rmk',\n",
       "       'hoteleria_us670h', 'calefacción', 'autre', 'vb.', 'ac rumah',\n",
       "       'เครื่องปรับอากาศเผื่อที่อยู่อาศัย',\n",
       "       'multi-split (plusieurs pièces)', 'aquecimento', 'services',\n",
       "       'vrf,single-split', 'vrf,multi-split,single-split,chiller,etc.',\n",
       "       'vrf,multi-split,single-split', 'on or several reversible ac',\n",
       "       'vrf,multi-split,single-split,chiller',\n",
       "       'vrf,multi-split,single-split,heating', 'scroll compressor',\n",
       "       'klimatyzacja multi-split', 'kimatyzacja vrf', 'điều hòa cục bộ'],\n",
       "      dtype=object)"
      ]
     },
     "execution_count": 166,
     "metadata": {},
     "output_type": "execute_result"
    }
   ],
   "source": [
    "print(len(df_all.product_category.unique()))\n",
    "df_all.product_category.unique()"
   ]
  },
  {
   "cell_type": "code",
   "execution_count": 138,
   "id": "0085353b",
   "metadata": {},
   "outputs": [],
   "source": [
    "# 전처리 필요한 4개 컬럼 간단하게\n",
    "value_counts = df_all['customer_job'].value_counts()\n",
    "values_to_replace = value_counts[value_counts == 1].index\n",
    "df_all['customer_job'] = df_all['customer_job'].apply(lambda x: 'other' if x in values_to_replace else x)\n",
    "df_all['customer_job'].fillna('other', inplace = True)\n",
    "\n",
    "value_counts = df_all['expected_timeline'].value_counts()\n",
    "values_to_replace = value_counts[value_counts == 1].index\n",
    "df_all['expected_timeline'] = df_all['expected_timeline'].apply(lambda x: 'etc' if x in values_to_replace else x)\n",
    "df_all['expected_timeline'].fillna('etc', inplace = True)\n",
    "\n",
    "value_counts = df_all['customer_country'].value_counts()\n",
    "values_to_replace = value_counts[value_counts == 1].index\n",
    "df_all['customer_country'] = df_all['customer_country'].apply(lambda x: 'etc' if x in values_to_replace else x)\n",
    "df_all['customer_country'].fillna('etc', inplace = True)"
   ]
  },
  {
   "cell_type": "code",
   "execution_count": 139,
   "id": "8d89c3f1",
   "metadata": {},
   "outputs": [],
   "source": [
    "def label_encoding(series: pd.Series) -> pd.Series:\n",
    "    \"\"\"범주형 데이터를 시리즈 형태로 받아 숫자형 데이터로 변환합니다.\"\"\"\n",
    "\n",
    "    my_dict = {}\n",
    "\n",
    "    # 모든 요소를 문자열로 변환\n",
    "    series = series.astype(str)\n",
    "\n",
    "    for idx, value in enumerate(sorted(series.unique())):\n",
    "        my_dict[value] = idx + 1\n",
    "    series = series.map(my_dict)\n",
    "\n",
    "    return series"
   ]
  },
  {
   "cell_type": "code",
   "execution_count": 140,
   "id": "dca3fd74",
   "metadata": {},
   "outputs": [],
   "source": [
    "# 레이블 인코딩할 칼럼들\n",
    "label_columns = [\n",
    "    \"customer_country\",\n",
    "    \"business_unit\",\n",
    "    \"customer_type\",\n",
    "    \"enterprise\",\n",
    "    \"customer_job\",\n",
    "    \"inquiry_type\",\n",
    "    \"product_category\",\n",
    "    \"customer_position\",\n",
    "    \"response_corporate\",\n",
    "    \"expected_timeline\",\n",
    "]\n",
    "\n",
    "for col in label_columns:\n",
    "    df_all[col] = label_encoding(df_all[col])"
   ]
  },
  {
   "cell_type": "code",
   "execution_count": 141,
   "id": "2662a32a",
   "metadata": {},
   "outputs": [],
   "source": [
    "df_train = df_all.iloc[:len(df_train)]\n",
    "df_test = df_all.iloc[len(df_train):]"
   ]
  },
  {
   "cell_type": "code",
   "execution_count": 142,
   "id": "760b23a3",
   "metadata": {},
   "outputs": [],
   "source": [
    "def get_clf_eval(y_test, y_pred=None):\n",
    "    confusion = pd.DataFrame(confusion_matrix(y_test, y_pred), index = ['T[0]', 'F[1]'], columns = ['pred_T[0]', 'pred_F[1]'])\n",
    "    accuracy = accuracy_score(y_test, y_pred)\n",
    "    precision = precision_score(y_test, y_pred, labels=[True, False])\n",
    "    recall = recall_score(y_test, y_pred)\n",
    "    F1 = f1_score(y_test, y_pred, labels=[True, False])\n",
    "\n",
    "    print(\"오차행렬:\\n\", confusion)\n",
    "    print(\"\\n정확도: {:.4f}\".format(accuracy))\n",
    "    print(\"정밀도: {:.4f}\".format(precision))\n",
    "    print(\"재현율: {:.4f}\".format(recall))\n",
    "    print(\"F1: {:.4f}\".format(F1))"
   ]
  },
  {
   "cell_type": "code",
   "execution_count": 143,
   "id": "0cc79d56",
   "metadata": {},
   "outputs": [
    {
     "data": {
      "text/plain": [
       "((59299, 20), (5271, 20))"
      ]
     },
     "execution_count": 143,
     "metadata": {},
     "output_type": "execute_result"
    }
   ],
   "source": [
    "df_train.shape, df_test.shape"
   ]
  },
  {
   "cell_type": "code",
   "execution_count": 144,
   "id": "1179855a",
   "metadata": {},
   "outputs": [],
   "source": [
    "x_train, x_val, y_train, y_val = train_test_split(\n",
    "    df_train.drop(\"is_converted\", axis=1),\n",
    "    df_train[\"is_converted\"],\n",
    "    test_size=0.2,\n",
    "    shuffle=True,\n",
    "    random_state=400,\n",
    ")"
   ]
  },
  {
   "cell_type": "code",
   "execution_count": null,
   "id": "499a67f1",
   "metadata": {},
   "outputs": [],
   "source": []
  },
  {
   "cell_type": "code",
   "execution_count": null,
   "id": "cf4f5e69",
   "metadata": {},
   "outputs": [],
   "source": []
  },
  {
   "cell_type": "markdown",
   "id": "79ecfa9b",
   "metadata": {},
   "source": [
    "## 3. 모델 학습"
   ]
  },
  {
   "cell_type": "markdown",
   "id": "3caf257b",
   "metadata": {},
   "source": [
    "### 모델 정의 "
   ]
  },
  {
   "cell_type": "code",
   "execution_count": 145,
   "id": "e4509af0",
   "metadata": {},
   "outputs": [],
   "source": [
    "model = DecisionTreeClassifier(random_state = 400)"
   ]
  },
  {
   "cell_type": "markdown",
   "id": "cacd5ed8",
   "metadata": {},
   "source": [
    "### 모델 학습"
   ]
  },
  {
   "cell_type": "code",
   "execution_count": 146,
   "id": "766d1980",
   "metadata": {},
   "outputs": [
    {
     "data": {
      "text/html": [
       "<style>#sk-container-id-5 {color: black;background-color: white;}#sk-container-id-5 pre{padding: 0;}#sk-container-id-5 div.sk-toggleable {background-color: white;}#sk-container-id-5 label.sk-toggleable__label {cursor: pointer;display: block;width: 100%;margin-bottom: 0;padding: 0.3em;box-sizing: border-box;text-align: center;}#sk-container-id-5 label.sk-toggleable__label-arrow:before {content: \"▸\";float: left;margin-right: 0.25em;color: #696969;}#sk-container-id-5 label.sk-toggleable__label-arrow:hover:before {color: black;}#sk-container-id-5 div.sk-estimator:hover label.sk-toggleable__label-arrow:before {color: black;}#sk-container-id-5 div.sk-toggleable__content {max-height: 0;max-width: 0;overflow: hidden;text-align: left;background-color: #f0f8ff;}#sk-container-id-5 div.sk-toggleable__content pre {margin: 0.2em;color: black;border-radius: 0.25em;background-color: #f0f8ff;}#sk-container-id-5 input.sk-toggleable__control:checked~div.sk-toggleable__content {max-height: 200px;max-width: 100%;overflow: auto;}#sk-container-id-5 input.sk-toggleable__control:checked~label.sk-toggleable__label-arrow:before {content: \"▾\";}#sk-container-id-5 div.sk-estimator input.sk-toggleable__control:checked~label.sk-toggleable__label {background-color: #d4ebff;}#sk-container-id-5 div.sk-label input.sk-toggleable__control:checked~label.sk-toggleable__label {background-color: #d4ebff;}#sk-container-id-5 input.sk-hidden--visually {border: 0;clip: rect(1px 1px 1px 1px);clip: rect(1px, 1px, 1px, 1px);height: 1px;margin: -1px;overflow: hidden;padding: 0;position: absolute;width: 1px;}#sk-container-id-5 div.sk-estimator {font-family: monospace;background-color: #f0f8ff;border: 1px dotted black;border-radius: 0.25em;box-sizing: border-box;margin-bottom: 0.5em;}#sk-container-id-5 div.sk-estimator:hover {background-color: #d4ebff;}#sk-container-id-5 div.sk-parallel-item::after {content: \"\";width: 100%;border-bottom: 1px solid gray;flex-grow: 1;}#sk-container-id-5 div.sk-label:hover label.sk-toggleable__label {background-color: #d4ebff;}#sk-container-id-5 div.sk-serial::before {content: \"\";position: absolute;border-left: 1px solid gray;box-sizing: border-box;top: 0;bottom: 0;left: 50%;z-index: 0;}#sk-container-id-5 div.sk-serial {display: flex;flex-direction: column;align-items: center;background-color: white;padding-right: 0.2em;padding-left: 0.2em;position: relative;}#sk-container-id-5 div.sk-item {position: relative;z-index: 1;}#sk-container-id-5 div.sk-parallel {display: flex;align-items: stretch;justify-content: center;background-color: white;position: relative;}#sk-container-id-5 div.sk-item::before, #sk-container-id-5 div.sk-parallel-item::before {content: \"\";position: absolute;border-left: 1px solid gray;box-sizing: border-box;top: 0;bottom: 0;left: 50%;z-index: -1;}#sk-container-id-5 div.sk-parallel-item {display: flex;flex-direction: column;z-index: 1;position: relative;background-color: white;}#sk-container-id-5 div.sk-parallel-item:first-child::after {align-self: flex-end;width: 50%;}#sk-container-id-5 div.sk-parallel-item:last-child::after {align-self: flex-start;width: 50%;}#sk-container-id-5 div.sk-parallel-item:only-child::after {width: 0;}#sk-container-id-5 div.sk-dashed-wrapped {border: 1px dashed gray;margin: 0 0.4em 0.5em 0.4em;box-sizing: border-box;padding-bottom: 0.4em;background-color: white;}#sk-container-id-5 div.sk-label label {font-family: monospace;font-weight: bold;display: inline-block;line-height: 1.2em;}#sk-container-id-5 div.sk-label-container {text-align: center;}#sk-container-id-5 div.sk-container {/* jupyter's `normalize.less` sets `[hidden] { display: none; }` but bootstrap.min.css set `[hidden] { display: none !important; }` so we also need the `!important` here to be able to override the default hidden behavior on the sphinx rendered scikit-learn.org. See: https://github.com/scikit-learn/scikit-learn/issues/21755 */display: inline-block !important;position: relative;}#sk-container-id-5 div.sk-text-repr-fallback {display: none;}</style><div id=\"sk-container-id-5\" class=\"sk-top-container\"><div class=\"sk-text-repr-fallback\"><pre>DecisionTreeClassifier(random_state=400)</pre><b>In a Jupyter environment, please rerun this cell to show the HTML representation or trust the notebook. <br />On GitHub, the HTML representation is unable to render, please try loading this page with nbviewer.org.</b></div><div class=\"sk-container\" hidden><div class=\"sk-item\"><div class=\"sk-estimator sk-toggleable\"><input class=\"sk-toggleable__control sk-hidden--visually\" id=\"sk-estimator-id-5\" type=\"checkbox\" checked><label for=\"sk-estimator-id-5\" class=\"sk-toggleable__label sk-toggleable__label-arrow\">DecisionTreeClassifier</label><div class=\"sk-toggleable__content\"><pre>DecisionTreeClassifier(random_state=400)</pre></div></div></div></div></div>"
      ],
      "text/plain": [
       "DecisionTreeClassifier(random_state=400)"
      ]
     },
     "execution_count": 146,
     "metadata": {},
     "output_type": "execute_result"
    }
   ],
   "source": [
    "model.fit(x_train.fillna(0), y_train)"
   ]
  },
  {
   "cell_type": "markdown",
   "id": "6bf2de5f",
   "metadata": {},
   "source": [
    "### 모델 성능 보기"
   ]
  },
  {
   "cell_type": "code",
   "execution_count": 147,
   "id": "c8871444",
   "metadata": {},
   "outputs": [],
   "source": [
    "def get_clf_eval(y_test, y_pred=None):\n",
    "    confusion = confusion_matrix(y_test, y_pred, labels=[True, False])\n",
    "    accuracy = accuracy_score(y_test, y_pred)\n",
    "    precision = precision_score(y_test, y_pred, labels=[True, False])\n",
    "    recall = recall_score(y_test, y_pred)\n",
    "    F1 = f1_score(y_test, y_pred, labels=[True, False])\n",
    "\n",
    "    print(\"오차행렬:\\n\", confusion)\n",
    "    print(\"\\n정확도: {:.4f}\".format(accuracy))\n",
    "    print(\"정밀도: {:.4f}\".format(precision))\n",
    "    print(\"재현율: {:.4f}\".format(recall))\n",
    "    print(\"F1: {:.4f}\".format(F1))"
   ]
  },
  {
   "cell_type": "code",
   "execution_count": 148,
   "id": "56a86373",
   "metadata": {},
   "outputs": [
    {
     "name": "stdout",
     "output_type": "stream",
     "text": [
      "오차행렬:\n",
      " [[  756   191]\n",
      " [  233 10680]]\n",
      "\n",
      "정확도: 0.9642\n",
      "정밀도: 0.7644\n",
      "재현율: 0.7983\n",
      "F1: 0.7810\n"
     ]
    }
   ],
   "source": [
    "pred = model.predict(x_val.fillna(0))\n",
    "get_clf_eval(y_val, pred)"
   ]
  },
  {
   "cell_type": "code",
   "execution_count": null,
   "id": "d9e7b1bb",
   "metadata": {},
   "outputs": [],
   "source": []
  },
  {
   "cell_type": "code",
   "execution_count": null,
   "id": "22a3ffe0",
   "metadata": {},
   "outputs": [],
   "source": []
  },
  {
   "cell_type": "code",
   "execution_count": null,
   "id": "3cad79a9",
   "metadata": {},
   "outputs": [],
   "source": []
  }
 ],
 "metadata": {
  "kernelspec": {
   "display_name": "Python 3 (ipykernel)",
   "language": "python",
   "name": "python3"
  },
  "language_info": {
   "codemirror_mode": {
    "name": "ipython",
    "version": 3
   },
   "file_extension": ".py",
   "mimetype": "text/x-python",
   "name": "python",
   "nbconvert_exporter": "python",
   "pygments_lexer": "ipython3",
   "version": "3.11.3"
  }
 },
 "nbformat": 4,
 "nbformat_minor": 5
}
