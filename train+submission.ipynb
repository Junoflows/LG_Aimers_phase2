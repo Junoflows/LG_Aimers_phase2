{
 "cells": [
  {
   "cell_type": "markdown",
   "metadata": {},
   "source": [
    "## 1. Import Library and define function "
   ]
  },
  {
   "cell_type": "code",
   "execution_count": 131,
   "metadata": {},
   "outputs": [],
   "source": [
    "import pandas as pd\n",
    "import numpy as np\n",
    "import seaborn as sns\n",
    "import matplotlib.pyplot as plt\n",
    "import warnings\n",
    "warnings.filterwarnings(action='ignore')\n",
    "from sklearn.metrics import (\n",
    "    accuracy_score,\n",
    "    confusion_matrix,\n",
    "    f1_score,\n",
    "    precision_score,\n",
    "    recall_score,\n",
    ")\n",
    "from sklearn.model_selection import train_test_split\n",
    "from sklearn.tree import DecisionTreeClassifier"
   ]
  },
  {
   "cell_type": "code",
   "execution_count": 132,
   "metadata": {},
   "outputs": [],
   "source": [
    "def get_clf_eval(y_test, y_pred=None):\n",
    "    confusion = pd.DataFrame(confusion_matrix(y_test, y_pred), index = ['T[0]', 'F[1]'], columns = ['pred_T[0]', 'pred_F[1]'])\n",
    "    accuracy = accuracy_score(y_test, y_pred)\n",
    "    precision = precision_score(y_test, y_pred, labels=[True, False])\n",
    "    recall = recall_score(y_test, y_pred)\n",
    "    F1 = f1_score(y_test, y_pred, labels=[True, False])\n",
    "\n",
    "    print(\"오차행렬:\\n\", confusion)\n",
    "    print(\"\\n정확도: {:.4f}\".format(accuracy))\n",
    "    print(\"정밀도: {:.4f}\".format(precision))\n",
    "    print(\"재현율: {:.4f}\".format(recall))\n",
    "    print(\"F1: {:.4f}\".format(F1))"
   ]
  },
  {
   "cell_type": "code",
   "execution_count": 133,
   "metadata": {},
   "outputs": [],
   "source": [
    "def label_encoding(series: pd.Series) -> pd.Series:\n",
    "    \"\"\"범주형 데이터를 시리즈 형태로 받아 숫자형 데이터로 변환합니다.\"\"\"\n",
    "\n",
    "    my_dict = {}\n",
    "\n",
    "    # 모든 요소를 문자열로 변환\n",
    "    series = series.astype(str)\n",
    "\n",
    "    for idx, value in enumerate(sorted(series.unique())):\n",
    "        my_dict[value] = idx + 1\n",
    "    series = series.map(my_dict)\n",
    "\n",
    "    return series"
   ]
  },
  {
   "cell_type": "markdown",
   "metadata": {},
   "source": [
    "### 1.1 load data"
   ]
  },
  {
   "cell_type": "code",
   "execution_count": 134,
   "metadata": {},
   "outputs": [
    {
     "data": {
      "text/plain": [
       "((64570, 30), (59299, 29), (5271, 30))"
      ]
     },
     "execution_count": 134,
     "metadata": {},
     "output_type": "execute_result"
    }
   ],
   "source": [
    "df_train = pd.read_csv(\"data/train.csv\")\n",
    "df_test = pd.read_csv(\"data/submission.csv\")\n",
    "df_all = pd.concat([df_train, df_test], axis = 0)\n",
    "df_all.shape, df_train.shape, df_test.shape"
   ]
  },
  {
   "cell_type": "code",
   "execution_count": 135,
   "metadata": {},
   "outputs": [
    {
     "data": {
      "text/plain": [
       "bant_submit                    0\n",
       "customer_country             982\n",
       "business_unit                  0\n",
       "com_reg_ver_win_rate       48214\n",
       "customer_idx                   0\n",
       "customer_type              45418\n",
       "enterprise                     0\n",
       "historical_existing_cnt    49539\n",
       "id_strategic_ver           60533\n",
       "it_strategic_ver           63396\n",
       "idit_strategic_ver         59359\n",
       "customer_job               20172\n",
       "lead_desc_length               0\n",
       "inquiry_type                2233\n",
       "product_category           21232\n",
       "product_subcategory        54542\n",
       "product_modelname          54779\n",
       "customer_country.1           982\n",
       "customer_position              0\n",
       "response_corporate             0\n",
       "expected_timeline          33271\n",
       "ver_cus                        0\n",
       "ver_pro                        0\n",
       "ver_win_rate_x             43780\n",
       "ver_win_ratio_per_bu       47360\n",
       "business_area              43780\n",
       "business_subarea           57228\n",
       "lead_owner                     0\n",
       "is_converted                5271\n",
       "id                         59299\n",
       "dtype: int64"
      ]
     },
     "execution_count": 135,
     "metadata": {},
     "output_type": "execute_result"
    }
   ],
   "source": [
    "df_all.isnull().sum()"
   ]
  },
  {
   "cell_type": "markdown",
   "metadata": {},
   "source": [
    "## 2. Data preprocessing"
   ]
  },
  {
   "cell_type": "code",
   "execution_count": 136,
   "metadata": {},
   "outputs": [],
   "source": [
    "# 열 삭제\n",
    "drop_col = ['customer_country.1', 'id_strategic_ver', 'it_strategic_ver', 'idit_strategic_ver',\n",
    "            'product_subcategory', 'product_modelname', 'business_area', 'business_subarea', 'ver_cus', 'ver_pro']\n",
    "\n",
    "df_all.drop(columns = drop_col, inplace = True)"
   ]
  },
  {
   "cell_type": "code",
   "execution_count": 137,
   "metadata": {},
   "outputs": [
    {
     "data": {
      "text/plain": [
       "bant_submit                    0\n",
       "customer_country             982\n",
       "business_unit                  0\n",
       "com_reg_ver_win_rate           0\n",
       "customer_idx                   0\n",
       "customer_type              45418\n",
       "enterprise                     0\n",
       "historical_existing_cnt        0\n",
       "customer_job               20172\n",
       "lead_desc_length               0\n",
       "inquiry_type                2233\n",
       "product_category           21232\n",
       "customer_position              0\n",
       "response_corporate             0\n",
       "expected_timeline          33271\n",
       "ver_win_rate_x                 0\n",
       "ver_win_ratio_per_bu           0\n",
       "lead_owner                     0\n",
       "is_converted                5271\n",
       "id                         59299\n",
       "dtype: int64"
      ]
     },
     "execution_count": 137,
     "metadata": {},
     "output_type": "execute_result"
    }
   ],
   "source": [
    "# 결측값 0으로 넣을 컬럼\n",
    "fillna_col = ['com_reg_ver_win_rate', 'historical_existing_cnt',\n",
    "             'ver_win_rate_x', 'ver_win_ratio_per_bu']\n",
    "\n",
    "for col in fillna_col:\n",
    "    df_all[col] = df_all[col].fillna(0)\n",
    "\n",
    "df_all.isnull().sum()"
   ]
  },
  {
   "cell_type": "code",
   "execution_count": 138,
   "metadata": {},
   "outputs": [],
   "source": [
    "df_all['customer_country'] = df_all['customer_country'].apply(lambda x: x.rsplit('/', 1)[-1].strip() if isinstance(x, str) else x)"
   ]
  },
  {
   "cell_type": "code",
   "execution_count": 139,
   "metadata": {},
   "outputs": [],
   "source": [
    "df_all['customer_type'] = df_all['customer_type'].str.lower()\n",
    "df_all['customer_type'] = df_all['customer_type'].replace(['etc.', 'other', 'others'], 'etc')\n",
    "df_all['customer_type'] = df_all['customer_type'].replace(['end-customer', 'end customer', 'end-user'], 'end_user')\n",
    "df_all['customer_type'] = df_all['customer_type'].replace(['specifier/ influencer', 'specifier / influencer'], 'influencer')\n",
    "df_all['customer_type'] = df_all['customer_type'].replace(['homeowner', 'home owner'], 'home_owner')\n",
    "df_all['customer_type'] = df_all['customer_type'].replace(['software/solution provider', 'software / solution provider'], 'solution_provider')\n",
    "df_all['customer_type'] = df_all['customer_type'].replace(['engineer', 'hvac engineer'], 'engineer')\n",
    "df_all['customer_type'] = df_all['customer_type'].replace(['distributor', 'dealer/distributor'], 'distributor')\n",
    "df_all['customer_type'].fillna('etc', inplace = True)"
   ]
  },
  {
   "cell_type": "code",
   "execution_count": 140,
   "metadata": {},
   "outputs": [],
   "source": [
    "# value_counts 가 1개인 것들 etc로 분류\n",
    "value_counts = df_all['customer_type'].value_counts()\n",
    "values_to_replace = value_counts[value_counts == 1].index\n",
    "df_all['customer_type'] = df_all['customer_type'].apply(lambda x: 'etc' if x in values_to_replace else x)"
   ]
  },
  {
   "cell_type": "code",
   "execution_count": 141,
   "metadata": {},
   "outputs": [],
   "source": [
    "df_all['inquiry_type'] = df_all['inquiry_type'].str.lower()\n",
    "df_all['inquiry_type'] = df_all['inquiry_type'].replace(['etc.', 'other', 'other_', 'others'], 'etc')\n",
    "df_all['inquiry_type'] = df_all['inquiry_type'].replace(['sales inquiry', 'sales', 'probeam precio'], 'sales inquiry')\n",
    "df_all['inquiry_type'] = df_all['inquiry_type'].replace(['quotation or purchase consultation', 'request for quotation or purchase', 'quotation_or_purchase_consultation', 'purchase or quotation', 'quotation_', 'purchase'], 'quotation_or_purchase_consultation')\n",
    "df_all['inquiry_type'] = df_all['inquiry_type'].replace(['usage or technical consultation', 'technical consultation', 'request for technical consulting', 'usage_or_technical_consultation', 'technical_consultation', 'technical'], 'usage or technical consultation')\n",
    "df_all['inquiry_type'] = df_all['inquiry_type'].replace(['vui lòng báo giá giúp mình sản phẩm đo thân nhiệt xin cảm ơn', 'tôi cần tham khảo giá và giải pháp từ lg'], 'quotation_or_purchase_consultation')\n",
    "df_all['inquiry_type'] = df_all['inquiry_type'].replace(['toi muon tim hieu thong tin ky thuat, gia ca cua sp de su dung'], 'product information')\n",
    "df_all['inquiry_type'].fillna('etc', inplace = True)"
   ]
  },
  {
   "cell_type": "code",
   "execution_count": 142,
   "metadata": {},
   "outputs": [],
   "source": [
    "# value_counts 가 1개인 것들 etc로 분류\n",
    "value_counts = df_all['inquiry_type'].value_counts()\n",
    "values_to_replace = value_counts[value_counts == 1].index\n",
    "df_all['inquiry_type'] = df_all['inquiry_type'].apply(lambda x: 'etc' if x in values_to_replace else x)"
   ]
  },
  {
   "cell_type": "code",
   "execution_count": 143,
   "metadata": {},
   "outputs": [],
   "source": [
    "# custoper_position 전처리\n",
    "df_all['customer_position'] = df_all['customer_position'].replace(['ceo/founder', 'partner', 'vice president', 'c-level executive', 'director', 'vicepresident', 'c-levelexecutive', 'vp','leadership/executive office/owner', 'president'\n",
    "                                                                   'principal & director', 'business partner', 'chairman', 'co-founder', 'chief executive officer', 'subsidiary sales (ise)', 'ceo/fundador', 'gerente', 'the big boss',\n",
    "                                                                  'principal & director', 'president'], 'ceo')\n",
    "df_all['customer_position'] = df_all['customer_position'].replace(['consultant', 'commercial consultant', 'architecture/consult', 'architect/consultant'], 'consult')\n",
    "df_all['customer_position'] = df_all['customer_position'].replace(['customer', 'customer_position'], 'customer')\n",
    "df_all['customer_position'] = df_all['customer_position'].replace(['decision-influencer', 'decision maker', 'decision influencer'], 'decision')\n",
    "df_all['customer_position'] = df_all['customer_position'].replace(['distributor', 'cargo'], 'distributor')\n",
    "df_all['customer_position'] = df_all['customer_position'].replace(['physics teacher','assistant professor','maths lecturer','science teacher','guest faculty','physics faculty','teacher/middle school coordinator','prof.',\n",
    "                                                                   'academic specialist','principal at oxford integrated pu science college','math and physics teacher','professor of mathematics','physics and mathematics teacher',\n",
    "                                                                   'assistant professor of english','educator','professor','quantitative aptitude faculty','english trainer for ielts,toefl,pte,gre,sat exams.','associate professor',\n",
    "                                                                   'pgt physics','education professional','chemistry teacher','director cum faculty at gaining apex coaching centre','teacher','senior lecturer',\n",
    "                                                                   'neet/ olympiad expert faculty','associate professor in electronics engg','education','pgt chemistry', \n",
    "                                                                   'academic coordinator/ post graduate teacher (accountancy, business studies)/ tgt (ict)','assistant professor of enlish'], 'education')\n",
    "df_all['customer_position'] = df_all['customer_position'].replace(['entry level','intern','trainee','entrylevel','employee'], 'employee')\n",
    "\n",
    "df_all['customer_position'] = df_all['customer_position'].replace(['exhibition','exhibitiontv'], 'exhibition')\n",
    "df_all['customer_position'] = df_all['customer_position'].replace(['hospital', 'medical device manufacturer', 'medical imaging specialist', 'tierarzt', 'surgery professional', 'pathologist'], 'medical')\n",
    "df_all['customer_position'] = df_all['customer_position'].replace(['not applicable','none','other','others'], 'etc')\n",
    "df_all['customer_position'] = df_all['customer_position'].replace(['manager','associate/analyst','consulting','lider de desarrollo','decision-maker','business unit director','business development','operations',\n",
    "                                                                   'product management','market intelligence/research'], 'pm')\n",
    "df_all['customer_position'] = df_all['customer_position'].replace(['asst prof.','professional trainer','radiology professional'], 'professional')\n",
    "df_all['customer_position'] = df_all['customer_position'].replace(['this is a consume display requirement for home purpose.','unpaid','homeowner','no influence'], 'unemployed')"
   ]
  },
  {
   "cell_type": "code",
   "execution_count": 144,
   "metadata": {},
   "outputs": [],
   "source": [
    "# value_counts가 1인거 etc로 묶기\n",
    "value_counts = df_all['customer_position'].value_counts()\n",
    "values_to_replace = value_counts[value_counts == 1].index\n",
    "df_all['customer_position'] = df_all['customer_position'].apply(lambda x: 'etc' if x in values_to_replace else x)\n",
    "df_all['customer_position'].fillna('etc', inplace = True)"
   ]
  },
  {
   "cell_type": "code",
   "execution_count": 145,
   "metadata": {},
   "outputs": [],
   "source": [
    "# 전처리 필요한 4개 컬럼 간단하게\n",
    "value_counts = df_all['customer_job'].value_counts()\n",
    "values_to_replace = value_counts[value_counts == 1].index\n",
    "df_all['customer_job'] = df_all['customer_job'].apply(lambda x: 'other' if x in values_to_replace else x)\n",
    "df_all['customer_job'].fillna('other', inplace = True)\n",
    "\n",
    "value_counts = df_all['product_category'].value_counts()\n",
    "values_to_replace = value_counts[value_counts == 1].index\n",
    "df_all['product_category'] = df_all['product_category'].apply(lambda x: 'etc' if x in values_to_replace else x)\n",
    "df_all['product_category'].fillna('etc.', inplace = True)\n",
    "\n",
    "value_counts = df_all['customer_country'].value_counts()\n",
    "values_to_replace = value_counts[value_counts == 1].index\n",
    "df_all['customer_country'] = df_all['customer_country'].apply(lambda x: 'etc' if x in values_to_replace else x)\n",
    "df_all['customer_country'].fillna('etc', inplace = True)"
   ]
  },
  {
   "cell_type": "code",
   "execution_count": 146,
   "metadata": {},
   "outputs": [
    {
     "data": {
      "text/plain": [
       "bant_submit                    0\n",
       "customer_country               0\n",
       "business_unit                  0\n",
       "com_reg_ver_win_rate           0\n",
       "customer_idx                   0\n",
       "customer_type                  0\n",
       "enterprise                     0\n",
       "historical_existing_cnt        0\n",
       "customer_job                   0\n",
       "lead_desc_length               0\n",
       "inquiry_type                   0\n",
       "product_category               0\n",
       "customer_position              0\n",
       "response_corporate             0\n",
       "expected_timeline          33271\n",
       "ver_win_rate_x                 0\n",
       "ver_win_ratio_per_bu           0\n",
       "lead_owner                     0\n",
       "is_converted                5271\n",
       "id                         59299\n",
       "dtype: int64"
      ]
     },
     "execution_count": 146,
     "metadata": {},
     "output_type": "execute_result"
    }
   ],
   "source": [
    "df_all.isnull().sum()"
   ]
  },
  {
   "cell_type": "code",
   "execution_count": 147,
   "metadata": {},
   "outputs": [
    {
     "data": {
      "text/plain": [
       "450"
      ]
     },
     "execution_count": 147,
     "metadata": {},
     "output_type": "execute_result"
    }
   ],
   "source": [
    "len(df_all['expected_timeline'].unique())"
   ]
  },
  {
   "cell_type": "code",
   "execution_count": 148,
   "metadata": {},
   "outputs": [],
   "source": [
    "expected_timeline = df_all['expected_timeline']\n",
    "expected_timeline = expected_timeline.str.replace('-', '')\n",
    "expected_timeline = expected_timeline.str.replace('_', '')\n",
    "expected_timeline = expected_timeline.str.replace('~', '')\n",
    "expected_timeline = expected_timeline.str.replace(' ', '')\n",
    "expected_timeline = expected_timeline.str.replace('.', '')\n",
    "expected_timeline = expected_timeline.str.replace('etc', 'others')"
   ]
  },
  {
   "cell_type": "code",
   "execution_count": 149,
   "metadata": {},
   "outputs": [],
   "source": [
    "sort_df = expected_timeline.fillna('others')"
   ]
  },
  {
   "cell_type": "code",
   "execution_count": 150,
   "metadata": {},
   "outputs": [
    {
     "data": {
      "text/plain": [
       "41"
      ]
     },
     "execution_count": 150,
     "metadata": {},
     "output_type": "execute_result"
    }
   ],
   "source": [
    "values = ['aggressivepricerequired',\n",
    "       'alreadycloseinjulypurchsewithrd', 'alreadyconnectwithpartner',\n",
    "       'alreadyindiscussionwithpartnerfrombangalore(kohinoor)andwithmr.indraneelfromcorporateoffice',\n",
    "       'alreadyintouchwithcustomer',\n",
    "       'alreadyintouchwithcustomerfromlast10days.droppingitbecausewearealreadyintouch',\n",
    "       'alreadyintouchwithhimsincelong.hehasnotfinalizedyet.leadforwardedtord',\n",
    "       'alreadyintouchwithpartner.', 'alreadyintouchwiththereteam',\n",
    "       'alreadyourcustomer,havesharedpricesfornewrequirement',\n",
    "       'alreadypurchasewithrd', 'alreadysharedquotationthroughsi.',\n",
    "       'alreadytouchwithcustomerforkioskrequirement',\n",
    "       'alreadytouchwithcustomers',\n",
    "       'alreadyworkingonidbwillcreateopppostclarfyingonsignage',\n",
    "       'alreadyworkingwithenduseronthisrequirement.',\n",
    "       'askedtocallbacklater,ihadsharedthisleadwithrdtotakeitfurther.',\n",
    "       'askedtocallbacktomorrow,ihadsharedthisenquirywithrd.',\n",
    "       'askedtocallbacktomorrowmorning,notresponding',\n",
    "       'askedtocalllater.','(selectidtimeline)', '09022022requestedforboqofrequirement',\n",
    "       '14:0015:00',\n",
    "       '14thaugaggressivepricerequiredashehasgotpricefromoutsidedelhi',\n",
    "       '14thfeb2022shareddetails.awaitingupdatefromcustomer.',\n",
    "       '25nov2021nomobilenumber,sentamailtocustomer',\n",
    "       '29thsep2021:nosuchrequirementasofnow', '14thfeb2022shareddetailsawaitingupdatefromcustomer','alreadyintouchwithcustomerfromlast10daysdroppingitbecausewearealreadyintouch',\n",
    "       'alreadyintouchwithhimsincelonghehasnotfinalizedyetleadforwardedtord',\n",
    "       'alreadyintouchwithpartner', 'alreadysharedquotationthroughsi',\n",
    "       'alreadyworkingwithenduseronthisrequirement',\n",
    "       'askedtocallbacklater,ihadsharedthisleadwithrdtotakeitfurther','alreadyindiscussionwithpartnerfrombangalore(kohinoor)andwithmrindraneelfromcorporateoffice',\n",
    "       'askedtocalllater', 'askedtocallon4thmay',\n",
    "       'askedtocontacthimafter8thjan', 'askedtosenddetails',\n",
    "       'askedtosharedetailsonmailhewillupdateifthereisanyrequirement',\n",
    "       'assignedtopartnerintialmeetingdonewillconverttoopppostcompleteinfo',\n",
    "       'atpresentnotrequired,', 'beingfollowedup',\n",
    "       'bodeli,requirementpendingnewquotesendcloseinthismonthend',\n",
    "       'budgetissue', 'budgetlowhenceclienthavenotwentahead',\n",
    "       'budgetproblem', 'busy,calllater', 'busyneedtocallback',\n",
    "       'callafter3june', 'callanddiscusednorequirement',\n",
    "       'callanddiscusedtocustomecustomerwantsdemo',\n",
    "       'callbackagainon30/04', 'callbacklater',\n",
    "       'callbacklater,infirstweekmarch', 'calledtoknowthepriceofidb',\n",
    "       'callnotconnecting', 'callnotpicking',\n",
    "       'clienthaveseenthedemoheneededforbiggerroomandthecameraqualityandspeakertrackingwerethemainrequiredfeatureasofnow,hisbudgetisaround2lacsandneedbiggersizesolutionthereisnoresponsefromclientpostdemohenceclosing',\n",
    "       'clientiscrosscheckingonpricesitsarccaseofsubwayandthefranchiseeistryingtogetpricingfromelsewhere',\n",
    "       'clientisexploringhewilldiscussoncedetailssentdetailsmailedtohimasperrecentdiscussion,heisnotexploringasofnow',\n",
    "       'clientislookingfor86\"displaywithvcsolution,theywillgofordemonextweekanddecideonprocuringourtr3dj,detailssharedwithclientonmail',\n",
    "       'clientisnothavinganyrequirement,hewasonlybrowsingthroughtheproduthenceclosiginsystemalthoughthedetailsofidbaremailedtoclient',\n",
    "       'clientisnotlookingnowandhewasinterestedwithonlyinbuiltopsoptionhenceclosinginsystemasheisnotrespondingtocalls',\n",
    "       'clientisnotrespondingcalls,followingupandkeeptheupdatetracked',\n",
    "       'clientnotanweringcallsandaskedthereisnorequirementhewastryingtocheckpricesforone65touchrequirementofexistingclient',\n",
    "       'clientnotinterestedinproductreceingcallandnotansweringproperly',\n",
    "       'clientshallgetbackforexploringdemoofidb,postthattheywilldecideonprocuringthesame',\n",
    "       'clientwasbusy,askedtocallbacklater,interestedinexploringouridb',\n",
    "       'clientwasdrivingandaskedtocallbacklater,willfolloupandkeepposted',\n",
    "       'clientwasexploringonproductsbuthedonthaveanyplanstopurchasecurrentlyhehaveholdedonhisrequirementandwillconnectifitreiniitaties',\n",
    "       'clientwasinquiringforpricesalreadyquotedbyfewpartnerstheyevenpurchasedasperrecentupdatebutclienthasnotconfiermedpartnername',\n",
    "       'clientwaskeentoexploreouridbsku,infollowup', 'cmsreqired',\n",
    "       'communicationnumbernotavailable',\n",
    "       'concernedpersonnotavailable,willcalllater',\n",
    "       'conference/meetingroom/collaborationspaces',\n",
    "       'connectedwithpartnerforstudiosetupwithcamera',\n",
    "       'connectingforissue', 'connectwithpartner',\n",
    "       'contactdetailsprovidedarewrong,sentmailforcorrectcontactdetails',\n",
    "       'convertedthisleadintoopportunity', \"couldn'tconect\",\n",
    "       \"couldn'tconnect\", 'couldntconnect',\n",
    "       'customehasnotreceivecallason31stmayspokewithcustomer,hewillcomefordemoinnextweek14062022',\n",
    "       'customepurchaseconsumerproduct', 'customerasktocallbacktomorrow',\n",
    "       'customerbudgetis125+taxfor75inchidbihavegivenournoregretofferandalsoexplainedwhylgisbetterandpremiumhesaidhewillcomebackinadayortwo',\n",
    "       'customergettingpricefromjaipurwhichlowthanouroperatingprice',\n",
    "       'customerhasbeennotansweringcall', 'customerhasnotansweringcall',\n",
    "       'customerhasnotansweringcall/customerwant86\"interactivedisplay,hewillpurchasewithinnext6month,weareforwardingtolocalrdtotakethisfurther',\n",
    "       'customerhasnotansweringcall/quotationhasbeensendtocustomer',\n",
    "       'customerisbusyaskustocallagain,following',\n",
    "       'customerislookingforresidential43inchdisplayforhomeuse',\n",
    "       'customerneedshortthrowprojector',\n",
    "       'customernotansweringcall,willcallhimagainandupdate',\n",
    "       'customerphoneisgetsswitchedoff',\n",
    "       'customerpurchasebenqforpricedifferance',\n",
    "       'customervisitatuvbusinessandseethedemowithin2to3days',\n",
    "       'customerwantdemoofidbhewillcomefordemoinnextweekafterfollowingupwithcustomermultipletimesthereisnoupdateleadhasbeenforwardedtord',\n",
    "       'customerwantproductt15000',\n",
    "       'customerwillbecomingfordemoon28thmaycustomerdidnotcamefordemoihaveshareddetailswithrdtotakeitfurtherhencedroppingthislead',\n",
    "       'customerwillcomefordemoinnextweek,thanhewilldecidefurther',\n",
    "       'december2022', 'delhienquirey', 'demoalignedforclient',\n",
    "       'democompleted,customeraskedtocomefeb10thforclosure', 'demodone',\n",
    "       'demodoneanddetailsshared',\n",
    "       'demoplanned,willupdatefurtherstatusonceitscompleted',\n",
    "       'demoscheduledfor24thoct', 'demoscheduledforfirstweekfeb',\n",
    "       'demotobealigned', 'demotobeplanned',\n",
    "       'detailsharedwithhimonemailheislookingforoneunitof65inchforhisconferenceroom',\n",
    "       'detailssend', 'detailssendquoterequire', 'detailssendrequiredemo',\n",
    "       'detailsshared', 'detailsshared,beingfollowedup',\n",
    "       'detailsshared,toplandemoindecember',\n",
    "       'detailssharedfollowupunderprogress',\n",
    "       'detailssharedfor75tr,followupinfirstweekofoct',\n",
    "       'detailssharedfuunderprogress',\n",
    "       \"detailssharedonwhatsapp,he'llrevertback\",\n",
    "       'detailssharedwithconcernpersonwillaskbdotofollowup',\n",
    "       'detailssharedwithcustomer,alsoihadsharedleadwithrdtotakeitfurther',\n",
    "       'detailssharedwithcustomer,hewillupdateonfurtheractionafterevaluatingotherbrandsaswell',\n",
    "       'detailssharedwithcustomerason4thmaytriedmultipletimesbutnotreachable',\n",
    "       'detailssharedwithcustomeronmai',\n",
    "       'detailssharedwithcustomeronmail',\n",
    "       'detailssharedwithpartnerhehasquotedinourexistingcustomeronly',\n",
    "       'detailssharedwithrdforfurtheraction,',\n",
    "       'dicsussedwithclient,detailssharedonmail,clienthavenobudgetstobuynowhenceclosinginthesystem',\n",
    "       \"didn'tpickupthecall\", \"didn'trespond\", \"didn'trespondtocalls\",\n",
    "       \"dind'trespond\", 'discusedwithankitindehli',\n",
    "       'discussedandshareddetailswithclientfordigitalsignagetheyarenotplanningtopurchsethesamecurrentlyhenceclosinginthesystem',\n",
    "       'discussedwithclient,detailsmailedforidbandonequick,theyhavenoplantobuyfornowhenceclosinginthesystem',\n",
    "       'discussedwithclient,detailsmailedtheyarenotplanningtopurchasefornowhenceclosinginthesystem',\n",
    "       'discussedwithclient,detailssharedonmailclienthavenopurchaseplansfornowhenceclosingthesameinsystem',\n",
    "       'discussedwithclient,heshallsendthedetailsoftheirofficerequirement',\n",
    "       'discussedwithclient,quotesent',\n",
    "       'discussedwithclient,theywerejustevaluatingtheproduct,theyhavenoplanstobuythesame,henceclosinginthesystem',\n",
    "       'discussedwithclientdemoalignedoncedone,willupdate',\n",
    "       'discussedwithclientdetailsmailedclientdonthavebudgetforpurchasenowhenceclosinginthesystem',\n",
    "       'discussedwithclientdetailsmailedforonequick,theyarenotplanningtobuythesamefornowhenceclosinginthesystem',\n",
    "       'discussedwithclientdetailsmailedtheyhavebudgeissuefornowsotheywontbuyhenceclosinginyhesystem',\n",
    "       'discussedwithclientdetailsmailedtoclientnobudgetsfornowwontbuyhenceclosinginthesystem',\n",
    "       'discussedwithclienttheyarelookingforaiosolutionwithvctheywillcallafter20thforthedemoandthenpurchasethroughgem',\n",
    "       'discussedwithclienttheyarenotevaluatuatingidbasofnow,theyhavenoplanstobuyhenceclosinginthesystem',\n",
    "       'discussedwithclienttheyhavenobudgetsforpurchasefornow,theywontbuyhenceclosinginthesystem',\n",
    "       'discussedwithclienttheyneed24inchdisplayfordigitalsignagementionedforouravailablesizes,heshallrevert',\n",
    "       'discussedwithclienttheyneedforcsractivitypricesexpectationisverymuchlow',\n",
    "       'discussedwithclientweneedtoaligndemotheexpectationisconnectingappledevicesbutnotmandatoryoncedemoisdone,weshallupdate',\n",
    "       'discussedwithclientwillplanfordemo',\n",
    "       'discussedwithpartnerheworkswithcloudwalkerandwantedtoconnectwithusforsomeproductdetailsasofnow,donthaveanyinquirytoworkandhenceclosinginsystem',\n",
    "       'discussedwiththeclient,tr3bg&onequickworksdemoscheduledon27thjuly2022postdemotheywilldecideonprocuringtheunit',\n",
    "       'discussedwiththeclientaskedtocallbackonmondaywillkeepafollowup',\n",
    "       'discussedwiththeclienthedonthavebudgetsdetailsmailedhewontbuynowhenceclosinginthesystem',\n",
    "       'discussedwiththeclientpricessharedforonequickandidbonmailcustomertoconfirmaboutdemooftheskuandfinaliseonprocurement',\n",
    "       'discussedwiththeclienttheyareintererstedinourtr3djseriesdemoplannedfor29thjuneposttheywillplanonprocurementwillkeepupdate',\n",
    "       'discussedwiththeclienttheypurchased65um3dffromthechannelunabletotrackthesupplierhenceclosinginthesystemmailsenttoclientforourdisplayrange',\n",
    "       'discussiontobedonewithcustomer',\n",
    "       'donthaveanyimmediaterequirementhemaypurchaseafterjune',\n",
    "       'donthavebudgethewantdotled', 'don’thavebudget',\n",
    "       'drop,alreadydonewithpartner',\n",
    "       'drop,budgetproblemnowphonenotrespondig',\n",
    "       'drop,lookongforconsumerproduct', 'drop,notintrested',\n",
    "       'drop,nownotintrested',\n",
    "       'drop,requirementofinteractivetouchscreentosupplyingovt,conncgtwithpartner',\n",
    "       'drop,stillnoplanforpurchase', 'drop,wrongnumber',\n",
    "       'dropnoplanforpurchase',\n",
    "       'dropnotwillingtobuynowwilldoinfuturedetailssharedonwhatsap',\n",
    "       'dropped,requiresdevicelikeonequicksharetobeusedwithsamsungtv',\n",
    "       'droppedcontactnonotvalid', 'droppedhavepurchasedcloudwalker',\n",
    "       'duetobudgetissue,customerhasboughtmaxhubpanel',\n",
    "       'duetofinancialreasons,clienthavedroppedpurchaseplanalthoughthedetailsofidbaremailedtoclient',\n",
    "       'duplicatelead',\n",
    "       'duplicateleadil220100042906discussedwithclienttheirvchallisunderdevelopmentonequickdetailsmailedtoclienttheywillcallusfordemoandpurchasefinalizationoncetheirvcplaceisready',\n",
    "         'emailsendfordetailsclientisexploringonsolutionsbutonlyfortheirundertanding',\n",
    "       'existingcaseworkedbyourdisti,crewbusiness,henceclosingasclientisonlycheckingforcommercials',\n",
    "       'existingpartner,discussedandaddressedtheconcernthepartnerhadtakenpricingandwantedtorecheckasthemodelquotedischanged',\n",
    "       'exitingcustomer',\n",
    "       'financeandaccountingconsultantinquiredfoe43inchaiobutdonthaveplanstobuydetailsdiscussed',\n",
    "       'followingup', 'forwardedtoaurangabadrdforfurtherprocess',\n",
    "       'forwardedtobdo,beingfollowedup', 'forwardedtobdotofollowup',\n",
    "       'fuunderprogress','heaskedtosharebudgetoryquote,hewillcheckandconfirmifhewillrequiretheproduct',\n",
    "       'heclientisnothavinganyrequirementhenceclosiginsystemalthoughthedetailsofidbaremailedtoclient',\n",
    "       'hehasaskedtoconnectnextweekhewanttoseethephysicaldemo',\n",
    "       'heisaneventorganizationandlookingforrentaldisplayshencedroppinginsystem',\n",
    "       'heiscomparingwithsenseswhichislocalbrand',\n",
    "       'heisindiscussioninternallyandwillupdate',\n",
    "       'heislookingforaninteractivedisplaydiscussedwithclient,willupdateasthecaseprogress',\n",
    "       'heislookingforconsumerproductforhome','heislookingforinteractivedisplayquotesharedwithhim',\n",
    "       'heislookingforvideowall&idbforhisofficeourbdojayantisintouchwithhimandsharingtherequireddetailstocustomer',\n",
    "       'heisrequestingdemoinaligarhup,plzsharetoupperson',\n",
    "       'hejustneedbudgetorypricingwehavesharedthedetailswithhimandrequestedhimtocomefordemo',\n",
    "       'heneedsforhomepurposeandisaconsumerclientspokeandguidedonthedetailsandchannelnotab2brequirement',\n",
    "       'hewant32inchtvforsignagedetailssharedwithhim',\n",
    "       'hewant65inchat50k', 'hewant98inchinbelow2lacs',\n",
    "       'hewantdemoinaurangabad,detailssharedwithrd',\n",
    "       'hewantdemoinlaturandalsodonthavemuchbudgetpartnerfollowedupmultipletimesbutnoresponse',\n",
    "       'hewantdemoinsangli,ihaveloopedwithlocalpartner',\n",
    "       'hewantphysicaldemooftr3bfinnashikbuttherebudgetisalsoverylowsofirsthewilldiscusswithmanagementonbudgetthenconfirmbackfordemo',\n",
    "       'hewillcallbackifneeded', 'hisbudgetisunder50konly',\n",
    "       'hisbudgetisverylow',\n",
    "       'hisbudgetisverylowbutwearetryingtoconvincehimfor65inch',\n",
    "       'idbdetaissend',\n",
    "       'il220100042906repeatinquiryhenceclosingthisinsystem',\n",
    "       'invalidlead',\n",
    "       'isaninteriordesignerworkingonturnkeyprojectsmrbhuvneshisincontactandsharedspecsandprices',\n",
    "       'itsbiharcustomer',\n",
    "       'kinnarieletronisvatwahasbidforthesameandtheyaregoingtopurchasefromthem',\n",
    "       'knownpartnerandalreadyworkingonacaseonlycrosscheckingpriceshencedropping',\n",
    "       'knownpartnerandwehaveinstalled3videowallspanindiaforcctvwesupplied49vl5batrs62000andthenagain49vl5fatrs71000nowtheavailablemodelis49vl5gat80000+whichpartnerisrecheckingandhencemadeinquiryclosingtheinquirysi',\n",
    "       'leadbelongstomaharashtra','lookingforactiveledinarangeof5lakhsnotaprospetivebuyer',\n",
    "       'lookingforairconditioners',\n",
    "       'lookingforcommercialtv55\"detailsmailedtoclient,theyhavenoplansfornowtobuyhenceclosinginthesystem',\n",
    "       'lookingforhomeuse',\n",
    "       'lookingfornotmadeinchinaactiveoutdoorledforgovernmentproject',\n",
    "       'lookingforoutdoordisplaycusotmerhasnoclarityonthesolutionemailsharedforunderstandingandwaitingforreply',\n",
    "       'lowbudget', 'maileddetails&priceof55inches',\n",
    "       'mayurelectronicconnectwithclient', 'meetingdatetobefinalised',\n",
    "       'meetingplannedforfurtherdiscussion','mobileisswitchedofftried3times','mrrajnikantisallignwiththeclient',\n",
    "       'needforhomesegmenttheypurchasedvu85inchtvfortheirhome',\n",
    "       'needtoarrangequoteanddemo', 'needtododomestictradebiz',\n",
    "       'nextweekhewillcomefordemoatlgoffice',\n",
    "       'nocontactnumber,ihavedroppedaemailrequestingforthesame',\n",
    "       'nodropthislead,nobudget!',\n",
    "       'nofurtherrevert&clarityaftersharingdetails', 'noreqirements',\n",
    "       'norequirement', 'norequirementofthistime', 'noresponse',\n",
    "       'noresponseonmailsfromtheclientcouldntfindanycontactdetailsonnetaswellhencedroppinginthesystemalthoughidbandonequickdetailssharedonemail',\n",
    "       'notansweringcall', 'notansweringcall,detailssharedwithrd',\n",
    "       'notansweringcall,leadsharedwithrd',\n",
    "       'notansweringcall,salesremarks:triedtoreachhimmultipletimesbutheisnotrespondingrequesttoshailjatoreconnectwithcustomerwearedroppingthisleadfornow',\n",
    "       'notansweringcall,sharedleadwithrd',\n",
    "       'notansweringcall,willtrytoreachhimagain',\n",
    "       'notansweringcall|ason11thjunecustomerphoneisnotreachableiamdroppingthisleadandforwardingtopartner',\n",
    "       'notansweringtriedseveraltimesdetailssharedwithrd',\n",
    "       'notinterested', 'notinterestedatthemoment',\n",
    "       'notinterestedincommercialtvs', 'notlifted', 'notlifted,calllater',\n",
    "       'notpickingcalls,calledmanytimes', 'notreachable',\n",
    "       'notreachable,detailssharedwithrd',\n",
    "       'notreachable,ihadsharedleadwithpartner',\n",
    "       'notreachable,leadsharedwithpartner', 'notrequire', 'notrequired',\n",
    "       'notrequirednow', 'notresponding',\n",
    "       'notresponding,detailssharedwithlocalrd', 'notrespondingtocalls',\n",
    "       'notrespondingtriedmanytimes', 'november2022', 'november22',\n",
    "       'october2022','ordertaken',\n",
    "       'ourpartner,visnetworksisworkingonthisinquiryandclientiscrosscheckingthepriceshenceclosinginthesystem',\n",
    "       'partnerisalreadyintouchwithourrd,ornothepartnerneedstocrosscheckontheinformationasthesizeischangedfrom49to50nowclosingtheopprtunityasitsexistingwithrd',\n",
    "       'partnerisintostaticsignagesheneedtoconnectfordigitalsignagebuthehimselfismanufactureralthoughamailinitaitedforanyrequirementswithledteamtotakeitaheadasofnow,thereisnoscopehenceclosinginsystem',\n",
    "       \"partnerisworkingonexistingrequirementheisconnectedwithourdisti'sforbilling\",\n",
    "       'partnerwasexploringoneolmodelforsomerequiremeentnodesignatedsalesorclosureexpectedhenceclosinginthesystem',\n",
    "       'phonenumbernotavailable', 'phoneswtichedoff', 'priceshared',\n",
    "       'pricesharedwithcustomerheislookingforsomeidbsneedtotakefollowup',\n",
    "       'pricesharewithcustomerourrdisfollowingupwithhimbutcustomerisnotresponding',\n",
    "       'projectcancle',\n",
    "       'proposalsubmitted,duetocovidmdisnotcomintoofficeforthemeeting',\n",
    "       'providedmodelandpriceasperrequirement',\n",
    "       'purchasedfrombinary@123l', 'purchasedsomelocalpanel,budgetissue',\n",
    "       'purchasedviewsonicpanel','purchasevubrand',\n",
    "       'quotationsent–75tr3dj,workinprogress,hewillbuyafter2monthshehasnotevenseenthequoteyet',\n",
    "       'quotationshared',\n",
    "       'quotationsharedforultrastrothershand49vl5ghewillcheckwithmanagementandupdateus',\n",
    "       'quotationsharedincommunication', 'quotationsharedwithcustomer',\n",
    "       'quotationsharedwithcustomer,hewillconfirmbackafterdiscussingwithmanagement09062022asontoday14062022notansweringcallhenceiamdroppingthisleaddetailsshredwithrdtakeitforfurther',\n",
    "       'quotationsharedwithhimforidbhedonthaveenoughfundasofnowheisjustevaluatingoptions',\n",
    "       'quotehasbeensenttocustomer', 'quotesend',\n",
    "       'quotesendmeetingpending', 'quotesendnextmonthrequire',\n",
    "       'quotesendrequiredemo', 'quotesendrequiredemoinnextweek',\n",
    "       'quotesent,theclientisrequireddemoinjune', 'quotesenttocustomer',\n",
    "       'quotesharedbuttherebudgetisverylow',\n",
    "       'quotesharedfor86inchheisevaluationlocalbrandoftrueview',\n",
    "       'quotesharedwithcustomer,hewillconfirmafter2monthsleadsharedwithpartner',\n",
    "       'quotesharedwithcustomer,leadsharedwithpartnertotakeitfurther',\n",
    "       'quotesharedwithcustomerhewillrevertwithanupdate',\n",
    "       'quotesharedwithhim',\n",
    "       'quotesharedwithhimandhewillupdateusafterdemo',\n",
    "       'rajnikantisworkinginthiscasehoinahmedabadanditsunderprocess',\n",
    "       'receivedpo', 'recentlynorequirement,dropped',\n",
    "       'remarks:customerlookingfor65inchesand75incheseach1qty',\n",
    "       'repeatedinquiryfromclienthewasjustinquiringbuthavenotconfimredonpurchasewehavetriedmulitpletimesbutclientisnotinterestedinbuying',\n",
    "       'repeatenquiry',\n",
    "       'repeatinquiry,wealreadyknewontheclientrequirementweareintouchwiththemandifanyrequirementcomes,wewilludpateasofnow,thetransparentledtheyneedisnotavailablewithusandtheavailableproductcostexpectationisverylowwit',\n",
    "       'require65inchidbunder80k', 'requiredemo', 'requiredemoafter20may',\n",
    "       'requiredemopricesend',\n",
    "       'requirementisforpuneloopedpuneteamalthoughthepartnerischeckingpricesforanexistingcaseclosingtheleadinsystemaspuneteamisalreadyworking',\n",
    "       'requirementof65tr3dj',\n",
    "       'requirementof65tr3djandcustomerwantdemo,detailssharedwithrd',\n",
    "       'requirementof65tr3dj–demoreqired,leadsharedwithrd',\n",
    "       'requirementof65tr3dj–demorequired',\n",
    "       'requirementof75tr3dj–demo,detailssharedwithrd',\n",
    "       'requirementof75tr3dj–demo,leadsharedwithmumbaiteam',\n",
    "       'requirementof75tr3dj–demorequired',\n",
    "       'requirementofidb,budgetisverylowshareddetailsonwhatsapp1unitrequiredrdisfollowingup',\n",
    "       'requirementofvideowallclientischekingonpricesalready2partnersworkingitsongoingcasehenceclisinginsystem',\n",
    "       'requireonlycmssoftware', 'requirequote',\n",
    "       'requiresdetailfortendernopurchaserequirementrightnow',\n",
    "       'resellerwanttohavegemauthorization',\n",
    "       'reuiredforofficeaskedtosharequotation', 'rnr',\n",
    "       'sameasleadnoil220300046498hencedroppingduplicatelead',\n",
    "       'schedulingameeting', 'september', 'september2022',\n",
    "       'sizenotavailable', 'smallsizetabrequired',\n",
    "       'spokentoclient,hewillcheckiftheyneeddemoandconfirm',\n",
    "       'spokentoclient,hewillconnectoncehediscussonrequirement',\n",
    "       'spokentopartner,havenoanyrequierementsfornow,havemailedthedetailstohim,hewontpurchaseanyskusfornowhenceclosinginthesystem',\n",
    "       'spokewithcustomehewant43\"tv',\n",
    "       'spokewithcustomer,detailsneedstoshareonmailalsotheywantdemo',\n",
    "       'spokewithcustomer,heislookingfordotledproductin42inch,ihavesuggestedhimour43inchsignagebuthewantfullyoutdoorledihavesharedthedetailsofour43inchdisplay',\n",
    "       'spokewithcustomer,willbesharingdetailsonemail',\n",
    "       'spokewithherandsharedthedetailsforsignagedisplays','theclientbudgetiswithin1lacstheyneed55inchaiosolutionasperdiscussion,theyarecomparingwithjabraandweproposedtocheckiftheyneedonlydisplaysbutduetobudgothersontraint,theyaredroppingtheidea',\n",
    "       'theclientislookingforsmallsizedisplaysof20inchto25inchtomountonrefthebudgetis4kto6knotexactlyourrequirement',\n",
    "       'theclientisnothavinganyrequirement,hewasonlybrowsingthroughtheproduthenceclosiginsystemalthoughthedetailsofidbaremailedtoclient',\n",
    "       'theclientisnothavinganyrequirement,shewasonlybrowsingthroughtheproduthenceclosiginsystemalthoughthedetailsofidbaremailedtoclient',\n",
    "       'theclientisnothavinganyrequirementhenceclosiginsystemalthoughthedetailsofidbaremailedtoclient',\n",
    "       'theclientisnothavinganyrequirementhewasjustbrowsingforproductshenceclosiginsystemalthoughthedetailsofidbandvideowallsaremailedtoclient',\n",
    "       'thepartnerischeckingpriceforanongoingcaseofbarcwehavediscussedonnewcasewiththepartneritsusefultotakeourdiscussionfurtherfornewinquriesclosingtheopportunityinsystemasofnowasitsmadeonlyforcrosscheckingprices',\n",
    "       'thererquirementisforpuneemailedclientloopingpuneteamtomeetandvisittheclient',\n",
    "       'theyareconsultantandiamalreadyintouchwithcustomer',\n",
    "       'theyarehavingrequirementof40displayscustomerneedaggressivepricingthansamsung',\n",
    "       'treidmanytimesbutphonenotreachable',\n",
    "       'triedcallingtheclient,noresponsefromclient,ihavemailedidbdetails,willkeepfollowup&update',\n",
    "       \"triedcontacthimbutcouldn'tabletoconnectleadforwardedtord\",\n",
    "       'triedcoupleoftimesbutheisnotrespondingwewilltryagain',\n",
    "       'triedreachingouttoclientnoresponsetocalllssoihavesharedthedatasheet,shalllfolllllowupandupdate',\n",
    "       'triedtoreachcustomerbutnoresponseleadforwardedtopartnerforfurtherfollowup',\n",
    "       'triedtoreachhimbutnoresponseiwillcallhimagain18thnovicalledhimagainandhewillsendtherequirementonmail',\n",
    "       \"triedtoreachhimmultipetimesfromlast7daysbutcouldn'tgetthrough\",\n",
    "       \"triedtoreachhimmultipletimes,butcouldn'tgetthru\",\n",
    "       'triedtoreachseveraltimesbutnoresponse', 'underdiscussion','uttarpradeshstatelead',\n",
    "       'veryabruptcustomersaidtheinquirywasmademonthsagoandwasrudeenoughclosinginthesystemastheclientbehaviourhasnoscopetodiscussonrequirementneedmarketingteamtocheckifthecasewasreceivedindecorjanasperclient',\n",
    "       'wanttodotradeproductbusiness', 'wanttotakeretailmonitor',\n",
    "       'wearealreadyintouchwithcustomerthrupartner',\n",
    "       'wearealreadyintouchwiththiscutsomerfromlast2years,hehasneverpurchasedanyproducttilldateicalledhimuptwicebutnoreponse',\n",
    "       'wearenotgoingtomatchtechnicalspecification',\n",
    "       'wehavepitched110inchfuunderprgress',\n",
    "       'wewerealreadyworkinghere,wearefacingchallengeaswedonthave49vl5ginstockorderlostinmarchduetounavailabiltyof49vl5g',\n",
    "       'willcomebackonceitisrequired', 'willcomeforthedemo',\n",
    "       'withdrawnthedecissiontopurchase', 'últimarevisión:26/07/21','underdiscussion,requirementnotdinalisedyet',\n",
    "       'update14thseptmoredetailstobesharedbyclient',\n",
    "       'updateaspercustomernoenquirywasmade',\n",
    "       'updatedetailsalreadysharedwithcustomerevaluationisongoing','uptodecember']\n",
    "\n",
    "sort_df = sort_df.apply(lambda x: 'others' if x in values else x)\n",
    "sort_df = sort_df.replace('callbacktomorrow28/09', 'lessthan3months')\n",
    "sort_df = sort_df.replace('then', 'than')\n",
    "len(sort_df.unique())"
   ]
  },
  {
   "cell_type": "code",
   "execution_count": 151,
   "metadata": {},
   "outputs": [],
   "source": [
    "values = ['lessthan3months,meetingwiththecustomerforthemoredetailsandtentativeboqwillne32and43',\n",
    "       'lessthan3monthscustomernotansweredtocallback',\n",
    "       'lessthan3monthsoutdoorledrequiment', '4/8months', '45days', 'askedtocallbacktomorrow',\n",
    "          'askedtocallnextweek','askedtocallbacktomorrow,ihadsharedthisenquirywithrd',\n",
    "         'duplicateleadil220100042906lessthan3months', 'eolmodelnewmodelquoterequirmentafter30days',\n",
    "         'getbackin1wk','heislookingfordisplayforhisrestauranthehasaskedtocontacthimafter1monthasrestaurantworkisunderprogress',\n",
    "        'hewantdemonextmonthatpune15may', 'hewantdemonextweek','needtodiscusswithclientinnexttwomonthstheyneedtochecktheproductandaccridnglyproceedforpersonaluse'\n",
    "          ,'meetingplannednextweek','needtocallonfriday27th', 'onemonth', 'spokewithshubhamwhoisstudenthesaidhewillspeakwithhissirandrevertbackafter2weeks', '3months',\n",
    "         'update14thseptcustomerwilldiscussindetailtomorrow','update13thspetfollowuptobedoneon15thsept', 'update27thaugcustomerhastocomeforproductdemo',\n",
    "       'update4thaugcustomeraskedtocallonmonday',\n",
    "       'update4thaugcustomervisitingexperiencecentreon8thsept',\n",
    "       'update4thaugdetaileddiscussiontobedoneon6thaug',\n",
    "       'update7thaugdemogivencustomerwillconfirmnextweek',\n",
    "       'update8thseptdetailssharedwillconfirmdemoscheduleofnextweek',\n",
    "       'update9thoctdetailssharedwillconfirmforonlinedemonextweek', 'updatecalltobemadeontuesday',]\n",
    "\n",
    "sort_df = sort_df.apply(lambda x: 'lessthan3months' if x in values else x)"
   ]
  },
  {
   "cell_type": "code",
   "execution_count": 152,
   "metadata": {},
   "outputs": [],
   "source": [
    "sort_df = sort_df.replace('lessthen6months', 'lessthan6months')\n",
    "sort_df = sort_df.replace('lessthan5months', 'lessthan6months')\n",
    "sort_df = sort_df.replace('morethen3months', 'lessthan6months')\n",
    "sort_df = sort_df.replace('needshoteltvafter4months,willcallus', 'lessthan6months')\n",
    "sort_df = sort_df.replace('purchaseplanningafter3months', 'lessthan6months')\n",
    "sort_df = sort_df.replace('lessthan6months', '3months6months')"
   ]
  },
  {
   "cell_type": "code",
   "execution_count": 153,
   "metadata": {},
   "outputs": [
    {
     "data": {
      "text/plain": [
       "6"
      ]
     },
     "execution_count": 153,
     "metadata": {},
     "output_type": "execute_result"
    }
   ],
   "source": [
    "len(sort_df.unique())"
   ]
  },
  {
   "cell_type": "code",
   "execution_count": 154,
   "metadata": {},
   "outputs": [],
   "source": [
    "df_all['expected_timeline'] = sort_df"
   ]
  },
  {
   "cell_type": "code",
   "execution_count": 155,
   "metadata": {},
   "outputs": [],
   "source": [
    "value_counts = df_all['expected_timeline'].value_counts()\n",
    "values_to_replace = value_counts[value_counts == 1].index\n",
    "df_all['expected_timeline'] = df_all['expected_timeline'].apply(lambda x: 'etc' if x in values_to_replace else x)\n",
    "df_all['expected_timeline'].fillna('etc', inplace = True)"
   ]
  },
  {
   "cell_type": "code",
   "execution_count": 156,
   "metadata": {},
   "outputs": [
    {
     "data": {
      "text/plain": [
       "array(['lessthan3months', 'others', '3months6months', '9months1year',\n",
       "       'morethanayear', '6months9months'], dtype=object)"
      ]
     },
     "execution_count": 156,
     "metadata": {},
     "output_type": "execute_result"
    }
   ],
   "source": [
    "df_all['expected_timeline'].unique()"
   ]
  },
  {
   "cell_type": "code",
   "execution_count": 157,
   "metadata": {},
   "outputs": [],
   "source": [
    "# 레이블 인코딩할 칼럼들\n",
    "label_columns = [\n",
    "    \"customer_country\",\n",
    "    \"business_unit\",\n",
    "    \"customer_type\",\n",
    "    \"enterprise\",\n",
    "    \"customer_job\",\n",
    "    \"inquiry_type\",\n",
    "    \"product_category\",\n",
    "    \"customer_position\",\n",
    "    \"response_corporate\",\n",
    "    \"expected_timeline\",\n",
    "]\n",
    "\n",
    "for col in label_columns:\n",
    "    df_all[col] = label_encoding(df_all[col])"
   ]
  },
  {
   "cell_type": "code",
   "execution_count": 158,
   "metadata": {},
   "outputs": [],
   "source": [
    "df_train = df_all.iloc[:len(df_train)]\n",
    "df_test = df_all.iloc[len(df_train):]"
   ]
  },
  {
   "cell_type": "code",
   "execution_count": 159,
   "metadata": {},
   "outputs": [
    {
     "data": {
      "text/plain": [
       "((59299, 20), (5271, 20))"
      ]
     },
     "execution_count": 159,
     "metadata": {},
     "output_type": "execute_result"
    }
   ],
   "source": [
    "df_train.shape, df_test.shape"
   ]
  },
  {
   "cell_type": "code",
   "execution_count": null,
   "metadata": {},
   "outputs": [],
   "source": []
  }
 ],
 "metadata": {
  "kernelspec": {
   "display_name": "base",
   "language": "python",
   "name": "python3"
  },
  "language_info": {
   "codemirror_mode": {
    "name": "ipython",
    "version": 3
   },
   "file_extension": ".py",
   "mimetype": "text/x-python",
   "name": "python",
   "nbconvert_exporter": "python",
   "pygments_lexer": "ipython3",
   "version": "3.10.2"
  }
 },
 "nbformat": 4,
 "nbformat_minor": 2
}
